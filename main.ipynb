{
 "cells": [
  {
   "cell_type": "markdown",
   "id": "97e74c8c",
   "metadata": {},
   "source": [
    "# Mahindra First Choice Services (MFCS) Project"
   ]
  },
  {
   "cell_type": "markdown",
   "id": "7aab4a45",
   "metadata": {},
   "source": [
    "Mahindra First Choice Services (MFCS) is a company of Mahindra Group and is India’s leading chain of multi-brand car workshops with over 335+ workshops present in 267+ towns & 24 states. It has serviced over 10,50,000 cars. The company aims to establish countrywide network of over 400 workshops by March 2018.\n",
    "Mahindra would now like to leverage the data that they have and address the key issues they have. Read along to know how you can help them improve their business.\n",
    "The dataset consist of three aspects:\n",
    "\n",
    "1. **Customer data**: where the details of the customer like the car owned, state and place of residence, order type, etc are present. Data dimension is of ​534000 Customer entries\n",
    "2. **Invoice data**: ​where information related to customer visits and transactions are recorded, whether a customer as insurance claims, ​bifurcation of the amount paid, for what type of service did the customer came for, etc...\n",
    "3. **Material Inventory**: where information related to what kind of service did the customer took and what kind of material was used to service, Labor information and the cost for the service, Plant and plant name where the customer took the service."
   ]
  },
  {
   "cell_type": "markdown",
   "id": "4a6de7e0",
   "metadata": {},
   "source": [
    "**Problem Statement-1**: Identifying the ownership pattern of cars throughout the country. This also captures the problem wherein information regarding the spending patterns can be identified.\n",
    "\n",
    "    - Mahindra First Choice Services will be benefited in multiple ways. Knowing the ownership pattern targeted marketing campaigns could be carried out. Knowing the spending patterns services could be suited to the particular spending pattern.\n",
    "\n",
    "**Problem Statement-2**: Identify the various types of orders.\n",
    "\n",
    "    - This could potentially give information about how Mahindra First Choice needs to be prepared to tackle various seasonal cases.\n",
    "\n",
    "\n",
    "**Problem Statement-3**: Revenue Analysis.\n",
    "\n",
    "    - This would help determine which streams of revenue are beneficial and improve marketing strategies."
   ]
  },
  {
   "cell_type": "code",
   "execution_count": 1,
   "id": "e907379e",
   "metadata": {
    "ExecuteTime": {
     "end_time": "2021-11-25T21:28:42.863995Z",
     "start_time": "2021-11-25T21:28:42.041340Z"
    }
   },
   "outputs": [
    {
     "data": {
      "text/html": [
       "        <script type=\"text/javascript\">\n",
       "        window.PlotlyConfig = {MathJaxConfig: 'local'};\n",
       "        if (window.MathJax) {MathJax.Hub.Config({SVG: {font: \"STIX-Web\"}});}\n",
       "        if (typeof require !== 'undefined') {\n",
       "        require.undef(\"plotly\");\n",
       "        requirejs.config({\n",
       "            paths: {\n",
       "                'plotly': ['https://cdn.plot.ly/plotly-2.4.2.min']\n",
       "            }\n",
       "        });\n",
       "        require(['plotly'], function(Plotly) {\n",
       "            window._Plotly = Plotly;\n",
       "        });\n",
       "        }\n",
       "        </script>\n",
       "        "
      ]
     },
     "metadata": {},
     "output_type": "display_data"
    }
   ],
   "source": [
    "import numpy as np\n",
    "import pandas as pd\n",
    "import matplotlib.pyplot as plt\n",
    "from matplotlib.ticker import MultipleLocator, FixedFormatter, FixedLocator\n",
    "import seaborn as sns\n",
    "import pgeocode\n",
    "\n",
    "import plotly\n",
    "import plotly.express as px\n",
    "import plotly.graph_objects as go\n",
    "from plotly.subplots import make_subplots\n",
    "plotly.offline.init_notebook_mode(connected=True)"
   ]
  },
  {
   "cell_type": "code",
   "execution_count": 2,
   "id": "80f1c74f",
   "metadata": {
    "ExecuteTime": {
     "end_time": "2021-11-25T21:28:42.988692Z",
     "start_time": "2021-11-25T21:28:42.864709Z"
    }
   },
   "outputs": [
    {
     "name": "stdout",
     "output_type": "stream",
     "text": [
      "LICENSE      README.md    \u001b[1m\u001b[36m__pycache__\u001b[m\u001b[m/ \u001b[1m\u001b[36massets\u001b[m\u001b[m/      \u001b[1m\u001b[36mdata\u001b[m\u001b[m/        main.ipynb\r\n"
     ]
    }
   ],
   "source": [
    "ls"
   ]
  },
  {
   "cell_type": "code",
   "execution_count": 3,
   "id": "9514780c",
   "metadata": {
    "ExecuteTime": {
     "end_time": "2021-11-25T21:28:43.109324Z",
     "start_time": "2021-11-25T21:28:42.990093Z"
    }
   },
   "outputs": [
    {
     "name": "stdout",
     "output_type": "stream",
     "text": [
      "Customer_Data.xlsx                   Mahindra Field Information (1).xlsx\r\n",
      "Final_invoice.csv                    Plant Master.xlsx\r\n",
      "JTD.csv\r\n"
     ]
    }
   ],
   "source": [
    "ls data/"
   ]
  },
  {
   "cell_type": "code",
   "execution_count": 4,
   "id": "074b6f6b",
   "metadata": {
    "ExecuteTime": {
     "end_time": "2021-11-25T21:28:43.128203Z",
     "start_time": "2021-11-25T21:28:43.111978Z"
    }
   },
   "outputs": [],
   "source": [
    "def mem_usage(data):\n",
    "        if isinstance(data,pd.DataFrame):\n",
    "            usage_b = data.memory_usage(deep=True).sum()\n",
    "        else: # we assume if not a df it's a series\n",
    "            usage_b = data.memory_usage(deep=True)\n",
    "        usage_mb = usage_b / 1024 ** 2 # convert bytes to megabytes\n",
    "        return \"{:03.2f} MB\".format(usage_mb)\n",
    "    \n",
    "    \n",
    "def mem_optimizer(data):\n",
    "    opt_data = data.copy()\n",
    "    print('Original memory of the dataframe: ', mem_usage(data))\n",
    "    # for integer values\n",
    "    gl_int = data.select_dtypes(include=['int'])\n",
    "    converted_int = gl_int.apply(pd.to_numeric,downcast='unsigned')\n",
    "    # for float values\n",
    "    gl_float = data.select_dtypes(include=['float'])\n",
    "    converted_float = gl_float.apply(pd.to_numeric,downcast='float')\n",
    "    # for object values\n",
    "    gl_obj = data.select_dtypes(include=['object']).copy()\n",
    "    converted_obj = pd.DataFrame()\n",
    "    for col in gl_obj.columns:\n",
    "        num_unique_values = len(gl_obj[col].unique())\n",
    "        num_total_values = len(gl_obj[col])\n",
    "        if num_unique_values / num_total_values < 0.5: # convert columns with less than 50% unique values\n",
    "            converted_obj.loc[:,col] = gl_obj[col].astype('category')\n",
    "        else:\n",
    "            converted_obj.loc[:,col] = gl_obj[col]\n",
    "    # store the optimized values\n",
    "    opt_data[converted_int.columns] = converted_int\n",
    "    opt_data[converted_float.columns] = converted_float\n",
    "    opt_data[converted_obj.columns] = converted_obj\n",
    "    print('Final optimized memory of the dataframe: ', mem_usage(opt_data))\n",
    "    \n",
    "    return opt_data\n",
    "\n",
    "def write_percent(ax, total_size):\n",
    "    '''Traverse the figure object and display the ratio at the top of the bar graph.'''\n",
    "    for patch in ax.patches:\n",
    "        height = patch.get_height() # Figure height (number of data)\n",
    "        width = patch.get_width() # Figure width\n",
    "        left_coord = patch.get_x() # The x-axis position on the left edge of the figure\n",
    "        percent = height/total_size*100 # percent\n",
    "        \n",
    "        # Type text in the (x, y) coordinates\n",
    "        ax.text(x=left_coord + width/2.0, # x-axis position\n",
    "                y=height + total_size*0.001, # y-axis position\n",
    "                s=f'{percent:1.1f}%', # Text\n",
    "                ha='center') # in the middle\n",
    "        \n",
    "def display_all(df):\n",
    "    with pd.option_context('display.max_rows', 5000, 'display.max_columns', 1000):\n",
    "        display(df)"
   ]
  },
  {
   "cell_type": "code",
   "execution_count": 5,
   "id": "772cf953",
   "metadata": {
    "ExecuteTime": {
     "end_time": "2021-11-25T21:29:09.975688Z",
     "start_time": "2021-11-25T21:28:43.129193Z"
    }
   },
   "outputs": [
    {
     "name": "stderr",
     "output_type": "stream",
     "text": [
      "/opt/homebrew/Caskroom/miniforge/base/lib/python3.9/site-packages/IPython/core/interactiveshell.py:3444: DtypeWarning:\n",
      "\n",
      "Columns (9,10,14,15,21,41,51) have mixed types.Specify dtype option on import or set low_memory=False.\n",
      "\n"
     ]
    }
   ],
   "source": [
    "cust_df = pd.read_excel('data/Customer_Data.xlsx')\n",
    "invoice_df = pd.read_csv('data/Final_invoice.csv')\n",
    "jtd_df = pd.read_csv('data/JTD.csv')\n",
    "plants_df = pd.read_excel('data/Plant Master.xlsx')\n",
    "field_info = pd.read_excel('data/Mahindra Field Information (1).xlsx')"
   ]
  },
  {
   "cell_type": "code",
   "execution_count": 6,
   "id": "40409bbe",
   "metadata": {
    "ExecuteTime": {
     "end_time": "2021-11-25T21:29:19.901704Z",
     "start_time": "2021-11-25T21:29:09.976597Z"
    }
   },
   "outputs": [
    {
     "name": "stdout",
     "output_type": "stream",
     "text": [
      "Original memory of the dataframe:  109.07 MB\n",
      "Final optimized memory of the dataframe:  53.26 MB\n",
      "\n",
      "Original memory of the dataframe:  799.14 MB\n",
      "Final optimized memory of the dataframe:  168.58 MB\n",
      "\n",
      "Original memory of the dataframe:  1870.68 MB\n",
      "Final optimized memory of the dataframe:  194.15 MB\n",
      "\n",
      "Original memory of the dataframe:  0.30 MB\n",
      "Final optimized memory of the dataframe:  0.21 MB\n",
      "\n",
      "Original memory of the dataframe:  0.02 MB\n",
      "Final optimized memory of the dataframe:  0.01 MB\n",
      "\n"
     ]
    }
   ],
   "source": [
    "df_list = [cust_df, invoice_df, jtd_df, plants_df, field_info]\n",
    "for i in range(len(df_list)):\n",
    "    df_list[i] = mem_optimizer(df_list[i])\n",
    "    print()"
   ]
  },
  {
   "cell_type": "markdown",
   "id": "e32a7a7d",
   "metadata": {},
   "source": [
    "Starting out with the project, a quick glance at the data will reveal that there are a number of columns that aren't relevant to the problem statement."
   ]
  },
  {
   "cell_type": "code",
   "execution_count": 7,
   "id": "0032b31d",
   "metadata": {
    "ExecuteTime": {
     "end_time": "2021-11-25T21:29:19.924804Z",
     "start_time": "2021-11-25T21:29:19.902965Z"
    }
   },
   "outputs": [
    {
     "data": {
      "text/html": [
       "<div>\n",
       "<style scoped>\n",
       "    .dataframe tbody tr th:only-of-type {\n",
       "        vertical-align: middle;\n",
       "    }\n",
       "\n",
       "    .dataframe tbody tr th {\n",
       "        vertical-align: top;\n",
       "    }\n",
       "\n",
       "    .dataframe thead th {\n",
       "        text-align: right;\n",
       "    }\n",
       "</style>\n",
       "<table border=\"1\" class=\"dataframe\">\n",
       "  <thead>\n",
       "    <tr style=\"text-align: right;\">\n",
       "      <th></th>\n",
       "      <th>Unnamed: 0</th>\n",
       "      <th>Amt Rcvd From Custom</th>\n",
       "      <th>Amt Rcvd From Ins Co</th>\n",
       "      <th>Area / Locality</th>\n",
       "      <th>CGST(14%)</th>\n",
       "      <th>CGST(2.5%)</th>\n",
       "      <th>CGST(6%)</th>\n",
       "      <th>CGST(9%)</th>\n",
       "      <th>CITY</th>\n",
       "      <th>Cash /Cashless Type</th>\n",
       "      <th>Claim No.</th>\n",
       "      <th>Cust Type</th>\n",
       "      <th>Customer No.</th>\n",
       "      <th>District</th>\n",
       "      <th>Expiry Date</th>\n",
       "      <th>Gate Pass Date</th>\n",
       "      <th>Gate Pass Time</th>\n",
       "      <th>IGST(12%)</th>\n",
       "      <th>IGST(18%)</th>\n",
       "      <th>IGST(28%)</th>\n",
       "      <th>IGST(5%)</th>\n",
       "      <th>Insurance Company</th>\n",
       "      <th>Invoice Date</th>\n",
       "      <th>Invoice No</th>\n",
       "      <th>Invoice Time</th>\n",
       "      <th>Job Card No</th>\n",
       "      <th>JobCard Date</th>\n",
       "      <th>JobCard Time</th>\n",
       "      <th>KMs Reading</th>\n",
       "      <th>Labour Total</th>\n",
       "      <th>Make</th>\n",
       "      <th>Misc Total</th>\n",
       "      <th>Model</th>\n",
       "      <th>ODN No.</th>\n",
       "      <th>OSL Total</th>\n",
       "      <th>Order Type</th>\n",
       "      <th>Outstanding Amt</th>\n",
       "      <th>Parts Total</th>\n",
       "      <th>Pin code</th>\n",
       "      <th>Plant</th>\n",
       "      <th>Plant Name1</th>\n",
       "      <th>Policy no.</th>\n",
       "      <th>Print Status</th>\n",
       "      <th>Recovrbl Exp</th>\n",
       "      <th>Regn No</th>\n",
       "      <th>SGST/UGST(14%)</th>\n",
       "      <th>SGST/UGST(2.5%)</th>\n",
       "      <th>SGST/UGST(6%)</th>\n",
       "      <th>SGST/UGST(9%)</th>\n",
       "      <th>Service Advisor Name</th>\n",
       "      <th>TDS amount</th>\n",
       "      <th>Technician Name</th>\n",
       "      <th>Total Amt Wtd Tax.</th>\n",
       "      <th>Total CGST</th>\n",
       "      <th>Total GST</th>\n",
       "      <th>Total IGST</th>\n",
       "      <th>Total SGST/UGST</th>\n",
       "      <th>Total Value</th>\n",
       "      <th>User ID</th>\n",
       "    </tr>\n",
       "  </thead>\n",
       "  <tbody>\n",
       "    <tr>\n",
       "      <th>0</th>\n",
       "      <td>0</td>\n",
       "      <td>0.0</td>\n",
       "      <td>0.0</td>\n",
       "      <td>MAJIWADA</td>\n",
       "      <td>0.0</td>\n",
       "      <td>0.0</td>\n",
       "      <td>0.0</td>\n",
       "      <td>0.0</td>\n",
       "      <td>Thane</td>\n",
       "      <td>NaN</td>\n",
       "      <td>NaN</td>\n",
       "      <td>Retail</td>\n",
       "      <td>67849</td>\n",
       "      <td>Maharashtra</td>\n",
       "      <td>NaN</td>\n",
       "      <td>NaN</td>\n",
       "      <td>00:00:00</td>\n",
       "      <td>0.0</td>\n",
       "      <td>0.0</td>\n",
       "      <td>0.0</td>\n",
       "      <td>0.0</td>\n",
       "      <td>NaN</td>\n",
       "      <td>2015-01-02</td>\n",
       "      <td>7005200002</td>\n",
       "      <td>11:30:36</td>\n",
       "      <td>168303</td>\n",
       "      <td>2014-12-13</td>\n",
       "      <td>14:29:43</td>\n",
       "      <td>49317</td>\n",
       "      <td>1203.14</td>\n",
       "      <td>GENERAL MOTORS</td>\n",
       "      <td>0.00</td>\n",
       "      <td>SPARK</td>\n",
       "      <td>7.005200e+09</td>\n",
       "      <td>500.06</td>\n",
       "      <td>Paid Service</td>\n",
       "      <td>0.0</td>\n",
       "      <td>2348.75</td>\n",
       "      <td>400601</td>\n",
       "      <td>BC01</td>\n",
       "      <td>THANE</td>\n",
       "      <td>NaN</td>\n",
       "      <td>NO</td>\n",
       "      <td>0.0</td>\n",
       "      <td>KA19MA1291</td>\n",
       "      <td>0.0</td>\n",
       "      <td>0.0</td>\n",
       "      <td>0.0</td>\n",
       "      <td>0.0</td>\n",
       "      <td>NaN</td>\n",
       "      <td>0.0</td>\n",
       "      <td>RUPESH</td>\n",
       "      <td>4051.95</td>\n",
       "      <td>0.0</td>\n",
       "      <td>0.0</td>\n",
       "      <td>0.0</td>\n",
       "      <td>0.0</td>\n",
       "      <td>4051.95</td>\n",
       "      <td>BC01FS1</td>\n",
       "    </tr>\n",
       "    <tr>\n",
       "      <th>1</th>\n",
       "      <td>1</td>\n",
       "      <td>0.0</td>\n",
       "      <td>0.0</td>\n",
       "      <td>THNAE</td>\n",
       "      <td>0.0</td>\n",
       "      <td>0.0</td>\n",
       "      <td>0.0</td>\n",
       "      <td>0.0</td>\n",
       "      <td>THNAE</td>\n",
       "      <td>NaN</td>\n",
       "      <td>NaN</td>\n",
       "      <td>Retail</td>\n",
       "      <td>84419</td>\n",
       "      <td>Maharashtra</td>\n",
       "      <td>NaN</td>\n",
       "      <td>NaN</td>\n",
       "      <td>00:00:00</td>\n",
       "      <td>0.0</td>\n",
       "      <td>0.0</td>\n",
       "      <td>0.0</td>\n",
       "      <td>0.0</td>\n",
       "      <td>NaN</td>\n",
       "      <td>2015-01-03</td>\n",
       "      <td>7005200003</td>\n",
       "      <td>10:07:32</td>\n",
       "      <td>173997</td>\n",
       "      <td>2015-01-02</td>\n",
       "      <td>14:12:18</td>\n",
       "      <td>78584</td>\n",
       "      <td>804.26</td>\n",
       "      <td>TATA MOTORS</td>\n",
       "      <td>197.03</td>\n",
       "      <td>INDICA</td>\n",
       "      <td>7.005200e+09</td>\n",
       "      <td>0.00</td>\n",
       "      <td>SMC Value Package</td>\n",
       "      <td>0.0</td>\n",
       "      <td>0.00</td>\n",
       "      <td>400603</td>\n",
       "      <td>BC01</td>\n",
       "      <td>THANE</td>\n",
       "      <td>NaN</td>\n",
       "      <td>NO</td>\n",
       "      <td>0.0</td>\n",
       "      <td>MH43R3046</td>\n",
       "      <td>0.0</td>\n",
       "      <td>0.0</td>\n",
       "      <td>0.0</td>\n",
       "      <td>0.0</td>\n",
       "      <td>NaN</td>\n",
       "      <td>0.0</td>\n",
       "      <td>PRASHANT</td>\n",
       "      <td>1001.29</td>\n",
       "      <td>0.0</td>\n",
       "      <td>0.0</td>\n",
       "      <td>0.0</td>\n",
       "      <td>0.0</td>\n",
       "      <td>1001.29</td>\n",
       "      <td>BC01SA2</td>\n",
       "    </tr>\n",
       "    <tr>\n",
       "      <th>2</th>\n",
       "      <td>2</td>\n",
       "      <td>0.0</td>\n",
       "      <td>0.0</td>\n",
       "      <td>THANE</td>\n",
       "      <td>0.0</td>\n",
       "      <td>0.0</td>\n",
       "      <td>0.0</td>\n",
       "      <td>0.0</td>\n",
       "      <td>THANE[W]</td>\n",
       "      <td>NaN</td>\n",
       "      <td>NaN</td>\n",
       "      <td>Retail</td>\n",
       "      <td>81055</td>\n",
       "      <td>Maharashtra</td>\n",
       "      <td>NaN</td>\n",
       "      <td>NaN</td>\n",
       "      <td>00:00:00</td>\n",
       "      <td>0.0</td>\n",
       "      <td>0.0</td>\n",
       "      <td>0.0</td>\n",
       "      <td>0.0</td>\n",
       "      <td>NaN</td>\n",
       "      <td>2015-01-03</td>\n",
       "      <td>7005200004</td>\n",
       "      <td>11:12:57</td>\n",
       "      <td>173889</td>\n",
       "      <td>2015-01-02</td>\n",
       "      <td>11:40:44</td>\n",
       "      <td>33985</td>\n",
       "      <td>180.19</td>\n",
       "      <td>MARUTI SUZUKI</td>\n",
       "      <td>0.00</td>\n",
       "      <td>ZEN</td>\n",
       "      <td>7.005200e+09</td>\n",
       "      <td>0.00</td>\n",
       "      <td>Running Repairs</td>\n",
       "      <td>0.0</td>\n",
       "      <td>52.95</td>\n",
       "      <td>400607</td>\n",
       "      <td>BC01</td>\n",
       "      <td>THANE</td>\n",
       "      <td>NaN</td>\n",
       "      <td>NO</td>\n",
       "      <td>0.0</td>\n",
       "      <td>AP09AX0582</td>\n",
       "      <td>0.0</td>\n",
       "      <td>0.0</td>\n",
       "      <td>0.0</td>\n",
       "      <td>0.0</td>\n",
       "      <td>NaN</td>\n",
       "      <td>0.0</td>\n",
       "      <td>IMRAN</td>\n",
       "      <td>233.14</td>\n",
       "      <td>0.0</td>\n",
       "      <td>0.0</td>\n",
       "      <td>0.0</td>\n",
       "      <td>0.0</td>\n",
       "      <td>233.14</td>\n",
       "      <td>BC01SA2</td>\n",
       "    </tr>\n",
       "  </tbody>\n",
       "</table>\n",
       "</div>"
      ],
      "text/plain": [
       "   Unnamed: 0  Amt Rcvd From Custom  Amt Rcvd From Ins Co Area / Locality  \\\n",
       "0           0                   0.0                   0.0        MAJIWADA   \n",
       "1           1                   0.0                   0.0           THNAE   \n",
       "2           2                   0.0                   0.0           THANE   \n",
       "\n",
       "   CGST(14%)  CGST(2.5%)  CGST(6%)  CGST(9%)      CITY Cash /Cashless Type  \\\n",
       "0        0.0         0.0       0.0       0.0     Thane                 NaN   \n",
       "1        0.0         0.0       0.0       0.0     THNAE                 NaN   \n",
       "2        0.0         0.0       0.0       0.0  THANE[W]                 NaN   \n",
       "\n",
       "  Claim No. Cust Type Customer No.     District Expiry Date Gate Pass Date  \\\n",
       "0       NaN    Retail        67849  Maharashtra         NaN            NaN   \n",
       "1       NaN    Retail        84419  Maharashtra         NaN            NaN   \n",
       "2       NaN    Retail        81055  Maharashtra         NaN            NaN   \n",
       "\n",
       "  Gate Pass Time  IGST(12%)  IGST(18%)  IGST(28%)  IGST(5%) Insurance Company  \\\n",
       "0       00:00:00        0.0        0.0        0.0       0.0               NaN   \n",
       "1       00:00:00        0.0        0.0        0.0       0.0               NaN   \n",
       "2       00:00:00        0.0        0.0        0.0       0.0               NaN   \n",
       "\n",
       "  Invoice Date  Invoice No Invoice Time  Job Card No JobCard Date  \\\n",
       "0   2015-01-02  7005200002     11:30:36       168303   2014-12-13   \n",
       "1   2015-01-03  7005200003     10:07:32       173997   2015-01-02   \n",
       "2   2015-01-03  7005200004     11:12:57       173889   2015-01-02   \n",
       "\n",
       "  JobCard Time  KMs Reading  Labour Total            Make  Misc Total   Model  \\\n",
       "0     14:29:43        49317       1203.14  GENERAL MOTORS        0.00   SPARK   \n",
       "1     14:12:18        78584        804.26     TATA MOTORS      197.03  INDICA   \n",
       "2     11:40:44        33985        180.19   MARUTI SUZUKI        0.00     ZEN   \n",
       "\n",
       "        ODN No.  OSL Total         Order Type  Outstanding Amt  Parts Total  \\\n",
       "0  7.005200e+09     500.06       Paid Service              0.0      2348.75   \n",
       "1  7.005200e+09       0.00  SMC Value Package              0.0         0.00   \n",
       "2  7.005200e+09       0.00    Running Repairs              0.0        52.95   \n",
       "\n",
       "   Pin code Plant Plant Name1 Policy no. Print Status  Recovrbl Exp  \\\n",
       "0    400601  BC01       THANE        NaN           NO           0.0   \n",
       "1    400603  BC01       THANE        NaN           NO           0.0   \n",
       "2    400607  BC01       THANE        NaN           NO           0.0   \n",
       "\n",
       "      Regn No  SGST/UGST(14%)  SGST/UGST(2.5%)  SGST/UGST(6%)  SGST/UGST(9%)  \\\n",
       "0  KA19MA1291             0.0              0.0            0.0            0.0   \n",
       "1   MH43R3046             0.0              0.0            0.0            0.0   \n",
       "2  AP09AX0582             0.0              0.0            0.0            0.0   \n",
       "\n",
       "   Service Advisor Name  TDS amount Technician Name  Total Amt Wtd Tax.  \\\n",
       "0                   NaN         0.0          RUPESH             4051.95   \n",
       "1                   NaN         0.0        PRASHANT             1001.29   \n",
       "2                   NaN         0.0           IMRAN              233.14   \n",
       "\n",
       "   Total CGST  Total GST  Total IGST  Total SGST/UGST  Total Value  User ID  \n",
       "0         0.0        0.0         0.0              0.0      4051.95  BC01FS1  \n",
       "1         0.0        0.0         0.0              0.0      1001.29  BC01SA2  \n",
       "2         0.0        0.0         0.0              0.0       233.14  BC01SA2  "
      ]
     },
     "metadata": {},
     "output_type": "display_data"
    },
    {
     "name": "stdout",
     "output_type": "stream",
     "text": [
      "Shape of the raw DataFrame: (492314, 59)\n"
     ]
    }
   ],
   "source": [
    "display_all(invoice_df.head(3))\n",
    "print(f'Shape of the raw DataFrame: {invoice_df.shape}')"
   ]
  },
  {
   "cell_type": "markdown",
   "id": "c818b0e8",
   "metadata": {},
   "source": [
    "Such columns can be dropped for the time being. We can add them later if needed."
   ]
  },
  {
   "cell_type": "code",
   "execution_count": 8,
   "id": "2c3b6d1a",
   "metadata": {
    "ExecuteTime": {
     "end_time": "2021-11-25T21:29:19.980816Z",
     "start_time": "2021-11-25T21:29:19.925598Z"
    }
   },
   "outputs": [],
   "source": [
    "invoice_cleaned = invoice_df.drop(['Area / Locality', 'Unnamed: 0', 'Cash /Cashless Type', 'Invoice Date', 'Invoice Time', 'JobCard Date', 'JobCard Time','Amt Rcvd From Custom' ,\n",
    "                     'Amt Rcvd From Ins Co', 'CGST(14%)', 'CGST(2.5%)', 'CGST(6%)', 'CGST(9%)', 'IGST(12%)', \n",
    "                     'IGST(18%)', 'IGST(28%)', 'IGST(5%)', 'SGST/UGST(14%)', 'SGST/UGST(2.5%)', 'SGST/UGST(6%)',\n",
    "                     'SGST/UGST(9%)', 'Total CGST', 'Total GST', 'Total IGST', 'Total SGST/UGST', 'Claim No.', \n",
    "                     'Expiry Date', 'Gate Pass Date', 'Gate Pass Time', 'Insurance Company', \n",
    "                     'Plant', 'Plant Name1', 'Policy no.', 'Print Status', 'Recovrbl Exp', 'Service Advisor Name', \n",
    "                     'TDS amount', 'Total Value', 'ODN No.'], axis=1)"
   ]
  },
  {
   "cell_type": "code",
   "execution_count": 9,
   "id": "3075aa0a",
   "metadata": {
    "ExecuteTime": {
     "end_time": "2021-11-25T21:29:19.996367Z",
     "start_time": "2021-11-25T21:29:19.983038Z"
    }
   },
   "outputs": [
    {
     "data": {
      "text/html": [
       "<div>\n",
       "<style scoped>\n",
       "    .dataframe tbody tr th:only-of-type {\n",
       "        vertical-align: middle;\n",
       "    }\n",
       "\n",
       "    .dataframe tbody tr th {\n",
       "        vertical-align: top;\n",
       "    }\n",
       "\n",
       "    .dataframe thead th {\n",
       "        text-align: right;\n",
       "    }\n",
       "</style>\n",
       "<table border=\"1\" class=\"dataframe\">\n",
       "  <thead>\n",
       "    <tr style=\"text-align: right;\">\n",
       "      <th></th>\n",
       "      <th>CITY</th>\n",
       "      <th>Cust Type</th>\n",
       "      <th>Customer No.</th>\n",
       "      <th>District</th>\n",
       "      <th>Invoice No</th>\n",
       "      <th>Job Card No</th>\n",
       "      <th>KMs Reading</th>\n",
       "      <th>Labour Total</th>\n",
       "      <th>Make</th>\n",
       "      <th>Misc Total</th>\n",
       "      <th>Model</th>\n",
       "      <th>OSL Total</th>\n",
       "      <th>Order Type</th>\n",
       "      <th>Outstanding Amt</th>\n",
       "      <th>Parts Total</th>\n",
       "      <th>Pin code</th>\n",
       "      <th>Regn No</th>\n",
       "      <th>Technician Name</th>\n",
       "      <th>Total Amt Wtd Tax.</th>\n",
       "      <th>User ID</th>\n",
       "    </tr>\n",
       "  </thead>\n",
       "  <tbody>\n",
       "    <tr>\n",
       "      <th>0</th>\n",
       "      <td>Thane</td>\n",
       "      <td>Retail</td>\n",
       "      <td>67849</td>\n",
       "      <td>Maharashtra</td>\n",
       "      <td>7005200002</td>\n",
       "      <td>168303</td>\n",
       "      <td>49317</td>\n",
       "      <td>1203.14</td>\n",
       "      <td>GENERAL MOTORS</td>\n",
       "      <td>0.00</td>\n",
       "      <td>SPARK</td>\n",
       "      <td>500.06</td>\n",
       "      <td>Paid Service</td>\n",
       "      <td>0.0</td>\n",
       "      <td>2348.75</td>\n",
       "      <td>400601</td>\n",
       "      <td>KA19MA1291</td>\n",
       "      <td>RUPESH</td>\n",
       "      <td>4051.95</td>\n",
       "      <td>BC01FS1</td>\n",
       "    </tr>\n",
       "    <tr>\n",
       "      <th>1</th>\n",
       "      <td>THNAE</td>\n",
       "      <td>Retail</td>\n",
       "      <td>84419</td>\n",
       "      <td>Maharashtra</td>\n",
       "      <td>7005200003</td>\n",
       "      <td>173997</td>\n",
       "      <td>78584</td>\n",
       "      <td>804.26</td>\n",
       "      <td>TATA MOTORS</td>\n",
       "      <td>197.03</td>\n",
       "      <td>INDICA</td>\n",
       "      <td>0.00</td>\n",
       "      <td>SMC Value Package</td>\n",
       "      <td>0.0</td>\n",
       "      <td>0.00</td>\n",
       "      <td>400603</td>\n",
       "      <td>MH43R3046</td>\n",
       "      <td>PRASHANT</td>\n",
       "      <td>1001.29</td>\n",
       "      <td>BC01SA2</td>\n",
       "    </tr>\n",
       "    <tr>\n",
       "      <th>2</th>\n",
       "      <td>THANE[W]</td>\n",
       "      <td>Retail</td>\n",
       "      <td>81055</td>\n",
       "      <td>Maharashtra</td>\n",
       "      <td>7005200004</td>\n",
       "      <td>173889</td>\n",
       "      <td>33985</td>\n",
       "      <td>180.19</td>\n",
       "      <td>MARUTI SUZUKI</td>\n",
       "      <td>0.00</td>\n",
       "      <td>ZEN</td>\n",
       "      <td>0.00</td>\n",
       "      <td>Running Repairs</td>\n",
       "      <td>0.0</td>\n",
       "      <td>52.95</td>\n",
       "      <td>400607</td>\n",
       "      <td>AP09AX0582</td>\n",
       "      <td>IMRAN</td>\n",
       "      <td>233.14</td>\n",
       "      <td>BC01SA2</td>\n",
       "    </tr>\n",
       "  </tbody>\n",
       "</table>\n",
       "</div>"
      ],
      "text/plain": [
       "       CITY Cust Type Customer No.     District  Invoice No  Job Card No  \\\n",
       "0     Thane    Retail        67849  Maharashtra  7005200002       168303   \n",
       "1     THNAE    Retail        84419  Maharashtra  7005200003       173997   \n",
       "2  THANE[W]    Retail        81055  Maharashtra  7005200004       173889   \n",
       "\n",
       "   KMs Reading  Labour Total            Make  Misc Total   Model  OSL Total  \\\n",
       "0        49317       1203.14  GENERAL MOTORS        0.00   SPARK     500.06   \n",
       "1        78584        804.26     TATA MOTORS      197.03  INDICA       0.00   \n",
       "2        33985        180.19   MARUTI SUZUKI        0.00     ZEN       0.00   \n",
       "\n",
       "          Order Type  Outstanding Amt  Parts Total  Pin code     Regn No  \\\n",
       "0       Paid Service              0.0      2348.75    400601  KA19MA1291   \n",
       "1  SMC Value Package              0.0         0.00    400603   MH43R3046   \n",
       "2    Running Repairs              0.0        52.95    400607  AP09AX0582   \n",
       "\n",
       "  Technician Name  Total Amt Wtd Tax.  User ID  \n",
       "0          RUPESH             4051.95  BC01FS1  \n",
       "1        PRASHANT             1001.29  BC01SA2  \n",
       "2           IMRAN              233.14  BC01SA2  "
      ]
     },
     "metadata": {},
     "output_type": "display_data"
    },
    {
     "name": "stdout",
     "output_type": "stream",
     "text": [
      "Shape of the cleaned DataFrame: (492314, 20)\n"
     ]
    }
   ],
   "source": [
    "display_all(invoice_cleaned.head(3))\n",
    "print(f'Shape of the cleaned DataFrame: {invoice_cleaned.shape}')"
   ]
  },
  {
   "cell_type": "code",
   "execution_count": 10,
   "id": "34753b16",
   "metadata": {
    "ExecuteTime": {
     "end_time": "2021-11-25T21:29:20.004919Z",
     "start_time": "2021-11-25T21:29:20.002418Z"
    }
   },
   "outputs": [],
   "source": [
    "invoice_cleaned.columns = ['_'.join(i.split()).lower() for i in invoice_cleaned.columns]"
   ]
  },
  {
   "cell_type": "markdown",
   "id": "e8ca16fb",
   "metadata": {},
   "source": [
    "In order to start with geolocation based analysis (Problem Statement - 1), the district column is necessary. However it requires cleaning because the values are inconsistent or erroneous at times. "
   ]
  },
  {
   "cell_type": "code",
   "execution_count": 11,
   "id": "40e3c732",
   "metadata": {
    "ExecuteTime": {
     "end_time": "2021-11-25T21:29:20.023824Z",
     "start_time": "2021-11-25T21:29:20.005775Z"
    }
   },
   "outputs": [
    {
     "data": {
      "text/plain": [
       "36"
      ]
     },
     "execution_count": 11,
     "metadata": {},
     "output_type": "execute_result"
    }
   ],
   "source": [
    "invoice_cleaned.district.nunique()"
   ]
  },
  {
   "cell_type": "code",
   "execution_count": 12,
   "id": "3e3e62ed",
   "metadata": {
    "ExecuteTime": {
     "end_time": "2021-11-25T21:29:21.211887Z",
     "start_time": "2021-11-25T21:29:20.027076Z"
    }
   },
   "outputs": [],
   "source": [
    "nomi = pgeocode.Nominatim('IN')\n",
    "\n",
    "invoice_cleaned[\"city\"]=nomi.query_postal_code(np.array(invoice_df[\"Pin code\"].astype(str))).county_name\n",
    "invoice_cleaned[\"district_imptd\"]=nomi.query_postal_code(np.array(invoice_df[\"Pin code\"].astype(str))).state_name\n",
    "invoice_cleaned[\"locality\"]=nomi.query_postal_code(np.array(invoice_df[\"Pin code\"].astype(str))).place_name"
   ]
  },
  {
   "cell_type": "code",
   "execution_count": 13,
   "id": "3cd227ea",
   "metadata": {
    "ExecuteTime": {
     "end_time": "2021-11-25T21:29:21.245107Z",
     "start_time": "2021-11-25T21:29:21.212655Z"
    }
   },
   "outputs": [],
   "source": [
    "district = invoice_cleaned.loc[invoice_cleaned['district_imptd'].isnull(), 'district']\n",
    "invoice_cleaned.loc[invoice_cleaned['district_imptd'].isnull(), 'district_imptd'] = district"
   ]
  },
  {
   "cell_type": "code",
   "execution_count": 14,
   "id": "f3646ae0",
   "metadata": {
    "ExecuteTime": {
     "end_time": "2021-11-25T21:29:21.347730Z",
     "start_time": "2021-11-25T21:29:21.245804Z"
    }
   },
   "outputs": [],
   "source": [
    "invoice_cleaned.drop('district', axis=1, inplace=True)\n",
    "invoice_cleaned.rename(columns={'district_imptd': 'district'}, inplace=True)"
   ]
  },
  {
   "cell_type": "code",
   "execution_count": 15,
   "id": "f7699279",
   "metadata": {
    "ExecuteTime": {
     "end_time": "2021-11-25T21:29:21.458944Z",
     "start_time": "2021-11-25T21:29:21.348635Z"
    }
   },
   "outputs": [],
   "source": [
    "invoice_cleaned.loc[invoice_cleaned.district == 'Jammu and Kashmir', 'district'] = 'Jammu & Kashmir'\n",
    "invoice_cleaned.loc[invoice_cleaned.district == 'Daman and Diu', 'district'] = 'Dadra and Nagar Haveli and Daman and Diu'\n",
    "invoice_cleaned.loc[invoice_cleaned.district == 'Dadra and Nagar Hav.', 'district'] = 'Dadra and Nagar Haveli and Daman and Diu'\n",
    "invoice_cleaned.loc[invoice_cleaned.district == 'Chattisgarh', 'district'] = 'Chhattisgarh'\n",
    "invoice_cleaned.loc[invoice_cleaned.district == 'Pondicherry', 'district'] = 'Puducherry'\n"
   ]
  },
  {
   "cell_type": "markdown",
   "id": "195a87e1",
   "metadata": {},
   "source": [
    "As a result, the district column is re-created using the pincodes provided so as to rectify the errors. **pgeocode** library is used to extract this information. However, some manual effort is still required to correct the remaining inconsistencies."
   ]
  },
  {
   "cell_type": "code",
   "execution_count": 16,
   "id": "82fa6265",
   "metadata": {
    "ExecuteTime": {
     "end_time": "2021-11-25T21:29:21.475562Z",
     "start_time": "2021-11-25T21:29:21.459626Z"
    }
   },
   "outputs": [
    {
     "data": {
      "text/plain": [
       "29"
      ]
     },
     "execution_count": 16,
     "metadata": {},
     "output_type": "execute_result"
    }
   ],
   "source": [
    "invoice_cleaned.district.nunique()"
   ]
  },
  {
   "cell_type": "markdown",
   "id": "9c78de5b",
   "metadata": {},
   "source": [
    "Now that these districts have been set, there are a few districts with relatively low frequencies. These districts have been reduced to a single value called `others`."
   ]
  },
  {
   "cell_type": "code",
   "execution_count": 17,
   "id": "b7288265",
   "metadata": {
    "ExecuteTime": {
     "end_time": "2021-11-25T21:29:21.492176Z",
     "start_time": "2021-11-25T21:29:21.476280Z"
    }
   },
   "outputs": [
    {
     "data": {
      "text/plain": [
       "Index(['Kerala', 'Delhi', 'Chandigarh', 'Bihar', 'Himachal Pradesh',\n",
       "       'Uttarakhand', 'Odisha', 'Puducherry', 'West Bengal', 'Chhattisgarh',\n",
       "       'Dadra and Nagar Haveli and Daman and Diu', 'Jharkhand', 'Assam', 'Goa',\n",
       "       'Arunachal Pradesh', 'Jammu & Kashmir', 'Lakshadweep', 'Nagaland'],\n",
       "      dtype='object')"
      ]
     },
     "execution_count": 17,
     "metadata": {},
     "output_type": "execute_result"
    }
   ],
   "source": [
    "other_states = invoice_cleaned.district.value_counts().index[11:]\n",
    "other_states"
   ]
  },
  {
   "cell_type": "code",
   "execution_count": 18,
   "id": "7e2805cc",
   "metadata": {
    "ExecuteTime": {
     "end_time": "2021-11-25T21:29:21.508501Z",
     "start_time": "2021-11-25T21:29:21.492892Z"
    }
   },
   "outputs": [],
   "source": [
    "invoice_cleaned['district_grp'] = np.where(invoice_cleaned.district.isin(other_states), 'Others', invoice_cleaned.district)"
   ]
  },
  {
   "cell_type": "markdown",
   "id": "c0a5dcd0",
   "metadata": {},
   "source": [
    "Also, there are 28 unique values for `make` in the dataset."
   ]
  },
  {
   "cell_type": "code",
   "execution_count": 19,
   "id": "fe13b2d8",
   "metadata": {
    "ExecuteTime": {
     "end_time": "2021-11-25T21:29:21.527909Z",
     "start_time": "2021-11-25T21:29:21.509324Z"
    }
   },
   "outputs": [
    {
     "data": {
      "text/plain": [
       "28"
      ]
     },
     "execution_count": 19,
     "metadata": {},
     "output_type": "execute_result"
    }
   ],
   "source": [
    "invoice_cleaned.make.nunique()"
   ]
  },
  {
   "cell_type": "markdown",
   "id": "28605e5f",
   "metadata": {},
   "source": [
    "These values can be clubbed into a 4 distinct categories:\n",
    "\n",
    "        - Hatchback\n",
    "        - SUV\n",
    "        - Utility\n",
    "        - Luxury\n",
    "        - Sedan"
   ]
  },
  {
   "cell_type": "code",
   "execution_count": 20,
   "id": "0c2c276a",
   "metadata": {
    "ExecuteTime": {
     "end_time": "2021-11-25T21:29:21.707496Z",
     "start_time": "2021-11-25T21:29:21.528592Z"
    }
   },
   "outputs": [
    {
     "data": {
      "text/plain": [
       "Hatchback    281333\n",
       "SUV           98766\n",
       "Sedan         95397\n",
       "Utility       14478\n",
       "Luxury         2340\n",
       "Name: model_type, dtype: int64"
      ]
     },
     "execution_count": 20,
     "metadata": {},
     "output_type": "execute_result"
    }
   ],
   "source": [
    "SUV = ['ENDEAVOUR','DUSTER','INNOVA','INDIGO MARINA', 'FORTUNER', 'TAVERA', 'XYLO', 'SCORPIO CRDE', 'SCORPIO NEF', \n",
    "       'SAFARI', 'XUV 500', 'SUMO','QUALIS','BOLERO','ADVENTURE', 'CR-V', 'CAPTIVA','QUANTO','SSANYONG KORANDO','ERTIGA'\n",
    "      'ARIA','SUMO GRANDE', 'FORCE ONE', 'X-TRAIL', 'COMMANDER', 'GYPSY 1000', 'ROOMSTER', 'TRAX', 'THAR', 'TAVERA NEO', \n",
    "       'RHINO RX', 'ARMADA', 'GYPSY 1300', 'YETI', 'MARSHAL', 'SIERRA', 'TERRACAN', 'PAJERO','MONTERO', \n",
    "      'ROVER', 'LAND ROVER DISCOVERY', 'MAHINDRA MM', 'SSANYONG REXTON', 'CLASSIC','KOLEOS', 'SANTA FE',\n",
    "       'GRAND VITARA', 'FORESTER', 'RIO','ECOSPORT','TERRANO', 'MOBILIO', 'ENJOY', 'OUTLANDER', 'TOUAREG',\n",
    "       'LAND CRUISER PRADO', 'LODGY', 'TUCSON', 'LAND ROVER RANGE ROVER', 'LAND ROVER FREELANDER', 'CRETA', \n",
    "       'KWID', 'KUV100', 'BREZZA', 'BRV', 'TUV300', 'EVALIA','ECO SPORT','TRAILBLAZER']\n",
    "\n",
    "utility = ['EECO', 'MAXX', 'OMNI','MAGIC','VERSA', 'BOLERO PIK UP','MAHINDRA CNG','MAHINDRA PIK UP',\n",
    "       'WINGER', 'VENTURE','207','XENON XT','ACE','MAXXIMO','GENIO', 'SUPRO', 'TREKKER', 'PUSHPAK']\n",
    "\n",
    "lux = list(invoice_df[invoice_df['Make'].isin(['AUDI', 'BMW', 'PORCHE', 'VOLVO', 'MERCEDES BENZ', 'JEEP' ,'MORRIS', 'SAN MOTORS'])]['Model'])\n",
    "luxury = lux+['JAGUAR XF', 'JAGUAR XJ', 'JAGUAR XL','LIMOUSINE']\n",
    "\n",
    "\n",
    "sedan=['CITY','SWIFT DZIRE','FIESTA','RAPID','LOGAN P','ACCENT','VERNA','LOGAN D','CIVIC','SX4','LAURA',\n",
    "       'OPTRA','LINEA','INDIGO MANZA','COROLLA','VENTO','AMAZE','SUPER SUNNY','CHEVROLET CRUZE','OCTAVIA',\n",
    "       'OPEL','FUSION','SUPERB','OPEL CORSA','LANCER','SAIL','JETTA','COROLLA ALTIS',\n",
    "       'ACCORD','ESTEEM 1000','MATIZ','SONATA','OPTRA MAGNUM','TEANA','XCENT','ELANTRA',\n",
    "       'CAMRY','CONTESSA','OPEL ASTRA','PASSAT','AMBASSADOR','FOCUS','FLUENCE','SONATA V-6',\n",
    "       'CEDIA','KIZASHI','PETRA','SIENA','TL','MONDEO','SWIFT D,ZIRE','ZEST','CIAZ','SCALA','PADMINI','CIELO',\n",
    "       'BOLT','VECTRA','AMEO','AVIGO','NEXIA']\n",
    "\n",
    "invoice_cleaned['model_type'] = np.where(invoice_cleaned['model'].isin(SUV), 'SUV', np.where(invoice_cleaned['model'].isin(sedan), 'Sedan', np.where(invoice_cleaned['model'].isin(luxury), 'Luxury', np.where(invoice_cleaned['model'].isin(utility), 'Utility', 'Hatchback'))))\n",
    "\n",
    "\n",
    "invoice_cleaned['model_type'].value_counts()"
   ]
  },
  {
   "cell_type": "markdown",
   "id": "794c71fe",
   "metadata": {},
   "source": [
    "With this we are ready to approach our first problem statement!"
   ]
  },
  {
   "cell_type": "markdown",
   "id": "8a027269",
   "metadata": {
    "ExecuteTime": {
     "end_time": "2021-11-14T06:19:45.672870Z",
     "start_time": "2021-11-14T06:19:45.670015Z"
    }
   },
   "source": [
    "## Ownership patterns"
   ]
  },
  {
   "cell_type": "code",
   "execution_count": 21,
   "id": "2925a147",
   "metadata": {
    "ExecuteTime": {
     "end_time": "2021-11-25T21:29:22.275248Z",
     "start_time": "2021-11-25T21:29:21.708253Z"
    }
   },
   "outputs": [
    {
     "data": {
      "application/vnd.plotly.v1+json": {
       "config": {
        "plotlyServerURL": "https://plot.ly"
       },
       "data": [
        {
         "branchvalues": "total",
         "domain": {
          "x": [
           0,
           1
          ],
          "y": [
           0,
           1
          ]
         },
         "hovertemplate": "%{label} <br>Count: %{value} </br>",
         "ids": [
          "India/Andhra Pradesh/Luxury/AUDI",
          "India/Gujarat/Luxury/AUDI",
          "India/Haryana/Luxury/AUDI",
          "India/Karnataka/Luxury/AUDI",
          "India/Madhya Pradesh/Luxury/AUDI",
          "India/Others/Luxury/AUDI",
          "India/Punjab/Luxury/AUDI",
          "India/Rajasthan/Luxury/AUDI",
          "India/Uttar Pradesh/Luxury/AUDI",
          "India/Andhra Pradesh/Luxury/BMW",
          "India/Gujarat/Luxury/BMW",
          "India/Haryana/Luxury/BMW",
          "India/Karnataka/Luxury/BMW",
          "India/Madhya Pradesh/Luxury/BMW",
          "India/Maharashtra/Luxury/BMW",
          "India/Others/Luxury/BMW",
          "India/Punjab/Luxury/BMW",
          "India/Rajasthan/Luxury/BMW",
          "India/Andhra Pradesh/Sedan/FORD",
          "India/Haryana/Hatchback/GENERAL MOTORS",
          "India/Gujarat/SUV/GENERAL MOTORS",
          "India/Maharashtra/SUV/GENERAL MOTORS",
          "India/Rajasthan/SUV/GENERAL MOTORS",
          "India/Gujarat/Sedan/HONDA",
          "India/Haryana/Sedan/HONDA",
          "India/Karnataka/Sedan/HONDA",
          "India/Madhya Pradesh/Sedan/HONDA",
          "India/Maharashtra/Sedan/HONDA",
          "India/Others/Sedan/HONDA",
          "India/Punjab/Sedan/HONDA",
          "India/Rajasthan/Sedan/HONDA",
          "India/Tamil Nadu/Sedan/HONDA",
          "India/Telangana/Sedan/HONDA",
          "India/Uttar Pradesh/Sedan/HONDA",
          "India/Andhra Pradesh/Hatchback/HYUNDAI",
          "India/Gujarat/Hatchback/HYUNDAI",
          "India/Haryana/Hatchback/HYUNDAI",
          "India/Karnataka/Hatchback/HYUNDAI",
          "India/Madhya Pradesh/Hatchback/HYUNDAI",
          "India/Maharashtra/Hatchback/HYUNDAI",
          "India/Others/Hatchback/HYUNDAI",
          "India/Punjab/Hatchback/HYUNDAI",
          "India/Rajasthan/Hatchback/HYUNDAI",
          "India/Tamil Nadu/Hatchback/HYUNDAI",
          "India/Telangana/Hatchback/HYUNDAI",
          "India/Uttar Pradesh/Hatchback/HYUNDAI",
          "India/Telangana/Luxury/HYUNDAI",
          "India/Uttar Pradesh/Luxury/HYUNDAI",
          "India/Andhra Pradesh/Sedan/HYUNDAI",
          "India/Gujarat/Sedan/HYUNDAI",
          "India/Haryana/Sedan/HYUNDAI",
          "India/Karnataka/Sedan/HYUNDAI",
          "India/Madhya Pradesh/Sedan/HYUNDAI",
          "India/Maharashtra/Sedan/HYUNDAI",
          "India/Others/Sedan/HYUNDAI",
          "India/Punjab/Sedan/HYUNDAI",
          "India/Rajasthan/Sedan/HYUNDAI",
          "India/Tamil Nadu/Sedan/HYUNDAI",
          "India/Telangana/Sedan/HYUNDAI",
          "India/Uttar Pradesh/Sedan/HYUNDAI",
          "India/Tamil Nadu/Luxury/MAHINDRA &  MAHINDRA",
          "India/Andhra Pradesh/SUV/MAHINDRA &  MAHINDRA",
          "India/Gujarat/SUV/MAHINDRA &  MAHINDRA",
          "India/Haryana/SUV/MAHINDRA &  MAHINDRA",
          "India/Karnataka/SUV/MAHINDRA &  MAHINDRA",
          "India/Madhya Pradesh/SUV/MAHINDRA &  MAHINDRA",
          "India/Maharashtra/SUV/MAHINDRA &  MAHINDRA",
          "India/Others/SUV/MAHINDRA &  MAHINDRA",
          "India/Punjab/SUV/MAHINDRA &  MAHINDRA",
          "India/Rajasthan/SUV/MAHINDRA &  MAHINDRA",
          "India/Tamil Nadu/SUV/MAHINDRA &  MAHINDRA",
          "India/Telangana/SUV/MAHINDRA &  MAHINDRA",
          "India/Uttar Pradesh/SUV/MAHINDRA &  MAHINDRA",
          "India/Andhra Pradesh/Utility/MAHINDRA &  MAHINDRA",
          "India/Gujarat/Utility/MAHINDRA &  MAHINDRA",
          "India/Haryana/Utility/MAHINDRA &  MAHINDRA",
          "India/Karnataka/Utility/MAHINDRA &  MAHINDRA",
          "India/Madhya Pradesh/Utility/MAHINDRA &  MAHINDRA",
          "India/Maharashtra/Utility/MAHINDRA &  MAHINDRA",
          "India/Others/Utility/MAHINDRA &  MAHINDRA",
          "India/Punjab/Utility/MAHINDRA &  MAHINDRA",
          "India/Rajasthan/Utility/MAHINDRA &  MAHINDRA",
          "India/Tamil Nadu/Utility/MAHINDRA &  MAHINDRA",
          "India/Telangana/Utility/MAHINDRA &  MAHINDRA",
          "India/Uttar Pradesh/Utility/MAHINDRA &  MAHINDRA",
          "India/Andhra Pradesh/Hatchback/MARUTI SUZUKI",
          "India/Gujarat/Hatchback/MARUTI SUZUKI",
          "India/Haryana/Hatchback/MARUTI SUZUKI",
          "India/Karnataka/Hatchback/MARUTI SUZUKI",
          "India/Madhya Pradesh/Hatchback/MARUTI SUZUKI",
          "India/Maharashtra/Hatchback/MARUTI SUZUKI",
          "India/Others/Hatchback/MARUTI SUZUKI",
          "India/Punjab/Hatchback/MARUTI SUZUKI",
          "India/Rajasthan/Hatchback/MARUTI SUZUKI",
          "India/Tamil Nadu/Hatchback/MARUTI SUZUKI",
          "India/Telangana/Hatchback/MARUTI SUZUKI",
          "India/Uttar Pradesh/Hatchback/MARUTI SUZUKI",
          "India/Haryana/Luxury/MARUTI SUZUKI",
          "India/Maharashtra/Luxury/MARUTI SUZUKI",
          "India/Tamil Nadu/Luxury/MARUTI SUZUKI",
          "India/Telangana/Luxury/MARUTI SUZUKI",
          "India/Uttar Pradesh/Luxury/MARUTI SUZUKI",
          "India/Andhra Pradesh/Sedan/MARUTI SUZUKI",
          "India/Gujarat/Sedan/MARUTI SUZUKI",
          "India/Haryana/Sedan/MARUTI SUZUKI",
          "India/Karnataka/Sedan/MARUTI SUZUKI",
          "India/Madhya Pradesh/Sedan/MARUTI SUZUKI",
          "India/Maharashtra/Sedan/MARUTI SUZUKI",
          "India/Others/Sedan/MARUTI SUZUKI",
          "India/Punjab/Sedan/MARUTI SUZUKI",
          "India/Rajasthan/Sedan/MARUTI SUZUKI",
          "India/Tamil Nadu/Sedan/MARUTI SUZUKI",
          "India/Telangana/Sedan/MARUTI SUZUKI",
          "India/Uttar Pradesh/Sedan/MARUTI SUZUKI",
          "India/Andhra Pradesh/Utility/MARUTI SUZUKI",
          "India/Gujarat/Utility/MARUTI SUZUKI",
          "India/Haryana/Utility/MARUTI SUZUKI",
          "India/Karnataka/Utility/MARUTI SUZUKI",
          "India/Madhya Pradesh/Utility/MARUTI SUZUKI",
          "India/Maharashtra/Utility/MARUTI SUZUKI",
          "India/Others/Utility/MARUTI SUZUKI",
          "India/Punjab/Utility/MARUTI SUZUKI",
          "India/Rajasthan/Utility/MARUTI SUZUKI",
          "India/Tamil Nadu/Utility/MARUTI SUZUKI",
          "India/Telangana/Utility/MARUTI SUZUKI",
          "India/Uttar Pradesh/Utility/MARUTI SUZUKI",
          "India/Andhra Pradesh/Luxury/MERCEDES BENZ",
          "India/Gujarat/Luxury/MERCEDES BENZ",
          "India/Karnataka/Luxury/MERCEDES BENZ",
          "India/Madhya Pradesh/Luxury/MERCEDES BENZ",
          "India/Maharashtra/Luxury/MERCEDES BENZ",
          "India/Others/Luxury/MERCEDES BENZ",
          "India/Punjab/Luxury/MERCEDES BENZ",
          "India/Rajasthan/Luxury/MERCEDES BENZ",
          "India/Andhra Pradesh/Hatchback/TATA MOTORS",
          "India/Gujarat/Hatchback/TATA MOTORS",
          "India/Karnataka/Hatchback/TATA MOTORS",
          "India/Madhya Pradesh/Hatchback/TATA MOTORS",
          "India/Maharashtra/Hatchback/TATA MOTORS",
          "India/Others/Hatchback/TATA MOTORS",
          "India/Punjab/Hatchback/TATA MOTORS",
          "India/Rajasthan/Hatchback/TATA MOTORS",
          "India/Tamil Nadu/Hatchback/TATA MOTORS",
          "India/Telangana/Hatchback/TATA MOTORS",
          "India/Uttar Pradesh/Hatchback/TATA MOTORS",
          "India/Tamil Nadu/Luxury/TATA MOTORS",
          "India/Telangana/Luxury/TATA MOTORS",
          "India/Andhra Pradesh/SUV/TATA MOTORS",
          "India/Haryana/SUV/TATA MOTORS",
          "India/Karnataka/SUV/TATA MOTORS",
          "India/Madhya Pradesh/SUV/TATA MOTORS",
          "India/Others/SUV/TATA MOTORS",
          "India/Punjab/SUV/TATA MOTORS",
          "India/Tamil Nadu/SUV/TATA MOTORS",
          "India/Telangana/SUV/TATA MOTORS",
          "India/Uttar Pradesh/SUV/TATA MOTORS",
          "India/Andhra Pradesh/Utility/TATA MOTORS",
          "India/Gujarat/Utility/TATA MOTORS",
          "India/Haryana/Utility/TATA MOTORS",
          "India/Karnataka/Utility/TATA MOTORS",
          "India/Madhya Pradesh/Utility/TATA MOTORS",
          "India/Maharashtra/Utility/TATA MOTORS",
          "India/Others/Utility/TATA MOTORS",
          "India/Punjab/Utility/TATA MOTORS",
          "India/Rajasthan/Utility/TATA MOTORS",
          "India/Tamil Nadu/Utility/TATA MOTORS",
          "India/Telangana/Utility/TATA MOTORS",
          "India/Uttar Pradesh/Utility/TATA MOTORS",
          "India/Andhra Pradesh/SUV/TOYOTA",
          "India/Gujarat/SUV/TOYOTA",
          "India/Haryana/SUV/TOYOTA",
          "India/Karnataka/SUV/TOYOTA",
          "India/Madhya Pradesh/SUV/TOYOTA",
          "India/Maharashtra/SUV/TOYOTA",
          "India/Others/SUV/TOYOTA",
          "India/Punjab/SUV/TOYOTA",
          "India/Rajasthan/SUV/TOYOTA",
          "India/Tamil Nadu/SUV/TOYOTA",
          "India/Telangana/SUV/TOYOTA",
          "India/Uttar Pradesh/SUV/TOYOTA",
          "India/Andhra Pradesh/Hatchback",
          "India/Gujarat/Hatchback",
          "India/Haryana/Hatchback",
          "India/Karnataka/Hatchback",
          "India/Madhya Pradesh/Hatchback",
          "India/Maharashtra/Hatchback",
          "India/Others/Hatchback",
          "India/Punjab/Hatchback",
          "India/Rajasthan/Hatchback",
          "India/Tamil Nadu/Hatchback",
          "India/Telangana/Hatchback",
          "India/Uttar Pradesh/Hatchback",
          "India/Andhra Pradesh/Luxury",
          "India/Gujarat/Luxury",
          "India/Haryana/Luxury",
          "India/Karnataka/Luxury",
          "India/Madhya Pradesh/Luxury",
          "India/Maharashtra/Luxury",
          "India/Others/Luxury",
          "India/Punjab/Luxury",
          "India/Rajasthan/Luxury",
          "India/Tamil Nadu/Luxury",
          "India/Telangana/Luxury",
          "India/Uttar Pradesh/Luxury",
          "India/Andhra Pradesh/SUV",
          "India/Gujarat/SUV",
          "India/Haryana/SUV",
          "India/Karnataka/SUV",
          "India/Madhya Pradesh/SUV",
          "India/Maharashtra/SUV",
          "India/Others/SUV",
          "India/Punjab/SUV",
          "India/Rajasthan/SUV",
          "India/Tamil Nadu/SUV",
          "India/Telangana/SUV",
          "India/Uttar Pradesh/SUV",
          "India/Andhra Pradesh/Sedan",
          "India/Gujarat/Sedan",
          "India/Haryana/Sedan",
          "India/Karnataka/Sedan",
          "India/Madhya Pradesh/Sedan",
          "India/Maharashtra/Sedan",
          "India/Others/Sedan",
          "India/Punjab/Sedan",
          "India/Rajasthan/Sedan",
          "India/Tamil Nadu/Sedan",
          "India/Telangana/Sedan",
          "India/Uttar Pradesh/Sedan",
          "India/Andhra Pradesh/Utility",
          "India/Gujarat/Utility",
          "India/Haryana/Utility",
          "India/Karnataka/Utility",
          "India/Madhya Pradesh/Utility",
          "India/Maharashtra/Utility",
          "India/Others/Utility",
          "India/Punjab/Utility",
          "India/Rajasthan/Utility",
          "India/Tamil Nadu/Utility",
          "India/Telangana/Utility",
          "India/Uttar Pradesh/Utility",
          "India/Andhra Pradesh",
          "India/Gujarat",
          "India/Haryana",
          "India/Karnataka",
          "India/Madhya Pradesh",
          "India/Maharashtra",
          "India/Others",
          "India/Punjab",
          "India/Rajasthan",
          "India/Tamil Nadu",
          "India/Telangana",
          "India/Uttar Pradesh",
          "India"
         ],
         "labels": [
          "AUDI",
          "AUDI",
          "AUDI",
          "AUDI",
          "AUDI",
          "AUDI",
          "AUDI",
          "AUDI",
          "AUDI",
          "BMW",
          "BMW",
          "BMW",
          "BMW",
          "BMW",
          "BMW",
          "BMW",
          "BMW",
          "BMW",
          "FORD",
          "GENERAL MOTORS",
          "GENERAL MOTORS",
          "GENERAL MOTORS",
          "GENERAL MOTORS",
          "HONDA",
          "HONDA",
          "HONDA",
          "HONDA",
          "HONDA",
          "HONDA",
          "HONDA",
          "HONDA",
          "HONDA",
          "HONDA",
          "HONDA",
          "HYUNDAI",
          "HYUNDAI",
          "HYUNDAI",
          "HYUNDAI",
          "HYUNDAI",
          "HYUNDAI",
          "HYUNDAI",
          "HYUNDAI",
          "HYUNDAI",
          "HYUNDAI",
          "HYUNDAI",
          "HYUNDAI",
          "HYUNDAI",
          "HYUNDAI",
          "HYUNDAI",
          "HYUNDAI",
          "HYUNDAI",
          "HYUNDAI",
          "HYUNDAI",
          "HYUNDAI",
          "HYUNDAI",
          "HYUNDAI",
          "HYUNDAI",
          "HYUNDAI",
          "HYUNDAI",
          "HYUNDAI",
          "MAHINDRA &  MAHINDRA",
          "MAHINDRA &  MAHINDRA",
          "MAHINDRA &  MAHINDRA",
          "MAHINDRA &  MAHINDRA",
          "MAHINDRA &  MAHINDRA",
          "MAHINDRA &  MAHINDRA",
          "MAHINDRA &  MAHINDRA",
          "MAHINDRA &  MAHINDRA",
          "MAHINDRA &  MAHINDRA",
          "MAHINDRA &  MAHINDRA",
          "MAHINDRA &  MAHINDRA",
          "MAHINDRA &  MAHINDRA",
          "MAHINDRA &  MAHINDRA",
          "MAHINDRA &  MAHINDRA",
          "MAHINDRA &  MAHINDRA",
          "MAHINDRA &  MAHINDRA",
          "MAHINDRA &  MAHINDRA",
          "MAHINDRA &  MAHINDRA",
          "MAHINDRA &  MAHINDRA",
          "MAHINDRA &  MAHINDRA",
          "MAHINDRA &  MAHINDRA",
          "MAHINDRA &  MAHINDRA",
          "MAHINDRA &  MAHINDRA",
          "MAHINDRA &  MAHINDRA",
          "MAHINDRA &  MAHINDRA",
          "MARUTI SUZUKI",
          "MARUTI SUZUKI",
          "MARUTI SUZUKI",
          "MARUTI SUZUKI",
          "MARUTI SUZUKI",
          "MARUTI SUZUKI",
          "MARUTI SUZUKI",
          "MARUTI SUZUKI",
          "MARUTI SUZUKI",
          "MARUTI SUZUKI",
          "MARUTI SUZUKI",
          "MARUTI SUZUKI",
          "MARUTI SUZUKI",
          "MARUTI SUZUKI",
          "MARUTI SUZUKI",
          "MARUTI SUZUKI",
          "MARUTI SUZUKI",
          "MARUTI SUZUKI",
          "MARUTI SUZUKI",
          "MARUTI SUZUKI",
          "MARUTI SUZUKI",
          "MARUTI SUZUKI",
          "MARUTI SUZUKI",
          "MARUTI SUZUKI",
          "MARUTI SUZUKI",
          "MARUTI SUZUKI",
          "MARUTI SUZUKI",
          "MARUTI SUZUKI",
          "MARUTI SUZUKI",
          "MARUTI SUZUKI",
          "MARUTI SUZUKI",
          "MARUTI SUZUKI",
          "MARUTI SUZUKI",
          "MARUTI SUZUKI",
          "MARUTI SUZUKI",
          "MARUTI SUZUKI",
          "MARUTI SUZUKI",
          "MARUTI SUZUKI",
          "MARUTI SUZUKI",
          "MARUTI SUZUKI",
          "MARUTI SUZUKI",
          "MERCEDES BENZ",
          "MERCEDES BENZ",
          "MERCEDES BENZ",
          "MERCEDES BENZ",
          "MERCEDES BENZ",
          "MERCEDES BENZ",
          "MERCEDES BENZ",
          "MERCEDES BENZ",
          "TATA MOTORS",
          "TATA MOTORS",
          "TATA MOTORS",
          "TATA MOTORS",
          "TATA MOTORS",
          "TATA MOTORS",
          "TATA MOTORS",
          "TATA MOTORS",
          "TATA MOTORS",
          "TATA MOTORS",
          "TATA MOTORS",
          "TATA MOTORS",
          "TATA MOTORS",
          "TATA MOTORS",
          "TATA MOTORS",
          "TATA MOTORS",
          "TATA MOTORS",
          "TATA MOTORS",
          "TATA MOTORS",
          "TATA MOTORS",
          "TATA MOTORS",
          "TATA MOTORS",
          "TATA MOTORS",
          "TATA MOTORS",
          "TATA MOTORS",
          "TATA MOTORS",
          "TATA MOTORS",
          "TATA MOTORS",
          "TATA MOTORS",
          "TATA MOTORS",
          "TATA MOTORS",
          "TATA MOTORS",
          "TATA MOTORS",
          "TATA MOTORS",
          "TOYOTA",
          "TOYOTA",
          "TOYOTA",
          "TOYOTA",
          "TOYOTA",
          "TOYOTA",
          "TOYOTA",
          "TOYOTA",
          "TOYOTA",
          "TOYOTA",
          "TOYOTA",
          "TOYOTA",
          "Hatchback",
          "Hatchback",
          "Hatchback",
          "Hatchback",
          "Hatchback",
          "Hatchback",
          "Hatchback",
          "Hatchback",
          "Hatchback",
          "Hatchback",
          "Hatchback",
          "Hatchback",
          "Luxury",
          "Luxury",
          "Luxury",
          "Luxury",
          "Luxury",
          "Luxury",
          "Luxury",
          "Luxury",
          "Luxury",
          "Luxury",
          "Luxury",
          "Luxury",
          "SUV",
          "SUV",
          "SUV",
          "SUV",
          "SUV",
          "SUV",
          "SUV",
          "SUV",
          "SUV",
          "SUV",
          "SUV",
          "SUV",
          "Sedan",
          "Sedan",
          "Sedan",
          "Sedan",
          "Sedan",
          "Sedan",
          "Sedan",
          "Sedan",
          "Sedan",
          "Sedan",
          "Sedan",
          "Sedan",
          "Utility",
          "Utility",
          "Utility",
          "Utility",
          "Utility",
          "Utility",
          "Utility",
          "Utility",
          "Utility",
          "Utility",
          "Utility",
          "Utility",
          "Andhra Pradesh",
          "Gujarat",
          "Haryana",
          "Karnataka",
          "Madhya Pradesh",
          "Maharashtra",
          "Others",
          "Punjab",
          "Rajasthan",
          "Tamil Nadu",
          "Telangana",
          "Uttar Pradesh",
          "India"
         ],
         "name": "",
         "parents": [
          "India/Andhra Pradesh/Luxury",
          "India/Gujarat/Luxury",
          "India/Haryana/Luxury",
          "India/Karnataka/Luxury",
          "India/Madhya Pradesh/Luxury",
          "India/Others/Luxury",
          "India/Punjab/Luxury",
          "India/Rajasthan/Luxury",
          "India/Uttar Pradesh/Luxury",
          "India/Andhra Pradesh/Luxury",
          "India/Gujarat/Luxury",
          "India/Haryana/Luxury",
          "India/Karnataka/Luxury",
          "India/Madhya Pradesh/Luxury",
          "India/Maharashtra/Luxury",
          "India/Others/Luxury",
          "India/Punjab/Luxury",
          "India/Rajasthan/Luxury",
          "India/Andhra Pradesh/Sedan",
          "India/Haryana/Hatchback",
          "India/Gujarat/SUV",
          "India/Maharashtra/SUV",
          "India/Rajasthan/SUV",
          "India/Gujarat/Sedan",
          "India/Haryana/Sedan",
          "India/Karnataka/Sedan",
          "India/Madhya Pradesh/Sedan",
          "India/Maharashtra/Sedan",
          "India/Others/Sedan",
          "India/Punjab/Sedan",
          "India/Rajasthan/Sedan",
          "India/Tamil Nadu/Sedan",
          "India/Telangana/Sedan",
          "India/Uttar Pradesh/Sedan",
          "India/Andhra Pradesh/Hatchback",
          "India/Gujarat/Hatchback",
          "India/Haryana/Hatchback",
          "India/Karnataka/Hatchback",
          "India/Madhya Pradesh/Hatchback",
          "India/Maharashtra/Hatchback",
          "India/Others/Hatchback",
          "India/Punjab/Hatchback",
          "India/Rajasthan/Hatchback",
          "India/Tamil Nadu/Hatchback",
          "India/Telangana/Hatchback",
          "India/Uttar Pradesh/Hatchback",
          "India/Telangana/Luxury",
          "India/Uttar Pradesh/Luxury",
          "India/Andhra Pradesh/Sedan",
          "India/Gujarat/Sedan",
          "India/Haryana/Sedan",
          "India/Karnataka/Sedan",
          "India/Madhya Pradesh/Sedan",
          "India/Maharashtra/Sedan",
          "India/Others/Sedan",
          "India/Punjab/Sedan",
          "India/Rajasthan/Sedan",
          "India/Tamil Nadu/Sedan",
          "India/Telangana/Sedan",
          "India/Uttar Pradesh/Sedan",
          "India/Tamil Nadu/Luxury",
          "India/Andhra Pradesh/SUV",
          "India/Gujarat/SUV",
          "India/Haryana/SUV",
          "India/Karnataka/SUV",
          "India/Madhya Pradesh/SUV",
          "India/Maharashtra/SUV",
          "India/Others/SUV",
          "India/Punjab/SUV",
          "India/Rajasthan/SUV",
          "India/Tamil Nadu/SUV",
          "India/Telangana/SUV",
          "India/Uttar Pradesh/SUV",
          "India/Andhra Pradesh/Utility",
          "India/Gujarat/Utility",
          "India/Haryana/Utility",
          "India/Karnataka/Utility",
          "India/Madhya Pradesh/Utility",
          "India/Maharashtra/Utility",
          "India/Others/Utility",
          "India/Punjab/Utility",
          "India/Rajasthan/Utility",
          "India/Tamil Nadu/Utility",
          "India/Telangana/Utility",
          "India/Uttar Pradesh/Utility",
          "India/Andhra Pradesh/Hatchback",
          "India/Gujarat/Hatchback",
          "India/Haryana/Hatchback",
          "India/Karnataka/Hatchback",
          "India/Madhya Pradesh/Hatchback",
          "India/Maharashtra/Hatchback",
          "India/Others/Hatchback",
          "India/Punjab/Hatchback",
          "India/Rajasthan/Hatchback",
          "India/Tamil Nadu/Hatchback",
          "India/Telangana/Hatchback",
          "India/Uttar Pradesh/Hatchback",
          "India/Haryana/Luxury",
          "India/Maharashtra/Luxury",
          "India/Tamil Nadu/Luxury",
          "India/Telangana/Luxury",
          "India/Uttar Pradesh/Luxury",
          "India/Andhra Pradesh/Sedan",
          "India/Gujarat/Sedan",
          "India/Haryana/Sedan",
          "India/Karnataka/Sedan",
          "India/Madhya Pradesh/Sedan",
          "India/Maharashtra/Sedan",
          "India/Others/Sedan",
          "India/Punjab/Sedan",
          "India/Rajasthan/Sedan",
          "India/Tamil Nadu/Sedan",
          "India/Telangana/Sedan",
          "India/Uttar Pradesh/Sedan",
          "India/Andhra Pradesh/Utility",
          "India/Gujarat/Utility",
          "India/Haryana/Utility",
          "India/Karnataka/Utility",
          "India/Madhya Pradesh/Utility",
          "India/Maharashtra/Utility",
          "India/Others/Utility",
          "India/Punjab/Utility",
          "India/Rajasthan/Utility",
          "India/Tamil Nadu/Utility",
          "India/Telangana/Utility",
          "India/Uttar Pradesh/Utility",
          "India/Andhra Pradesh/Luxury",
          "India/Gujarat/Luxury",
          "India/Karnataka/Luxury",
          "India/Madhya Pradesh/Luxury",
          "India/Maharashtra/Luxury",
          "India/Others/Luxury",
          "India/Punjab/Luxury",
          "India/Rajasthan/Luxury",
          "India/Andhra Pradesh/Hatchback",
          "India/Gujarat/Hatchback",
          "India/Karnataka/Hatchback",
          "India/Madhya Pradesh/Hatchback",
          "India/Maharashtra/Hatchback",
          "India/Others/Hatchback",
          "India/Punjab/Hatchback",
          "India/Rajasthan/Hatchback",
          "India/Tamil Nadu/Hatchback",
          "India/Telangana/Hatchback",
          "India/Uttar Pradesh/Hatchback",
          "India/Tamil Nadu/Luxury",
          "India/Telangana/Luxury",
          "India/Andhra Pradesh/SUV",
          "India/Haryana/SUV",
          "India/Karnataka/SUV",
          "India/Madhya Pradesh/SUV",
          "India/Others/SUV",
          "India/Punjab/SUV",
          "India/Tamil Nadu/SUV",
          "India/Telangana/SUV",
          "India/Uttar Pradesh/SUV",
          "India/Andhra Pradesh/Utility",
          "India/Gujarat/Utility",
          "India/Haryana/Utility",
          "India/Karnataka/Utility",
          "India/Madhya Pradesh/Utility",
          "India/Maharashtra/Utility",
          "India/Others/Utility",
          "India/Punjab/Utility",
          "India/Rajasthan/Utility",
          "India/Tamil Nadu/Utility",
          "India/Telangana/Utility",
          "India/Uttar Pradesh/Utility",
          "India/Andhra Pradesh/SUV",
          "India/Gujarat/SUV",
          "India/Haryana/SUV",
          "India/Karnataka/SUV",
          "India/Madhya Pradesh/SUV",
          "India/Maharashtra/SUV",
          "India/Others/SUV",
          "India/Punjab/SUV",
          "India/Rajasthan/SUV",
          "India/Tamil Nadu/SUV",
          "India/Telangana/SUV",
          "India/Uttar Pradesh/SUV",
          "India/Andhra Pradesh",
          "India/Gujarat",
          "India/Haryana",
          "India/Karnataka",
          "India/Madhya Pradesh",
          "India/Maharashtra",
          "India/Others",
          "India/Punjab",
          "India/Rajasthan",
          "India/Tamil Nadu",
          "India/Telangana",
          "India/Uttar Pradesh",
          "India/Andhra Pradesh",
          "India/Gujarat",
          "India/Haryana",
          "India/Karnataka",
          "India/Madhya Pradesh",
          "India/Maharashtra",
          "India/Others",
          "India/Punjab",
          "India/Rajasthan",
          "India/Tamil Nadu",
          "India/Telangana",
          "India/Uttar Pradesh",
          "India/Andhra Pradesh",
          "India/Gujarat",
          "India/Haryana",
          "India/Karnataka",
          "India/Madhya Pradesh",
          "India/Maharashtra",
          "India/Others",
          "India/Punjab",
          "India/Rajasthan",
          "India/Tamil Nadu",
          "India/Telangana",
          "India/Uttar Pradesh",
          "India/Andhra Pradesh",
          "India/Gujarat",
          "India/Haryana",
          "India/Karnataka",
          "India/Madhya Pradesh",
          "India/Maharashtra",
          "India/Others",
          "India/Punjab",
          "India/Rajasthan",
          "India/Tamil Nadu",
          "India/Telangana",
          "India/Uttar Pradesh",
          "India/Andhra Pradesh",
          "India/Gujarat",
          "India/Haryana",
          "India/Karnataka",
          "India/Madhya Pradesh",
          "India/Maharashtra",
          "India/Others",
          "India/Punjab",
          "India/Rajasthan",
          "India/Tamil Nadu",
          "India/Telangana",
          "India/Uttar Pradesh",
          "India",
          "India",
          "India",
          "India",
          "India",
          "India",
          "India",
          "India",
          "India",
          "India",
          "India",
          "India",
          ""
         ],
         "type": "sunburst",
         "values": [
          7,
          9,
          3,
          12,
          12,
          4,
          9,
          3,
          6,
          7,
          18,
          2,
          11,
          8,
          52,
          21,
          9,
          4,
          188,
          398,
          121,
          924,
          163,
          438,
          294,
          889,
          181,
          2173,
          499,
          302,
          195,
          1445,
          331,
          612,
          869,
          2430,
          1550,
          3060,
          1078,
          8036,
          2490,
          1410,
          838,
          7688,
          2313,
          2888,
          6,
          7,
          301,
          838,
          338,
          722,
          212,
          1758,
          495,
          558,
          243,
          1568,
          522,
          476,
          54,
          1057,
          860,
          778,
          2515,
          1325,
          7776,
          3309,
          872,
          1917,
          8454,
          1154,
          2266,
          104,
          96,
          59,
          180,
          138,
          387,
          370,
          51,
          317,
          589,
          81,
          113,
          1759,
          3621,
          2859,
          5528,
          2387,
          16512,
          4775,
          3113,
          2738,
          10730,
          4590,
          5361,
          16,
          95,
          84,
          8,
          6,
          480,
          638,
          537,
          963,
          337,
          2552,
          875,
          605,
          688,
          1896,
          449,
          919,
          68,
          664,
          75,
          885,
          237,
          1588,
          258,
          26,
          185,
          1709,
          106,
          286,
          12,
          17,
          19,
          11,
          65,
          14,
          9,
          4,
          1743,
          686,
          2044,
          1047,
          5239,
          1430,
          791,
          341,
          7012,
          1870,
          701,
          50,
          7,
          243,
          102,
          353,
          277,
          380,
          160,
          1430,
          223,
          301,
          50,
          14,
          2,
          74,
          49,
          81,
          52,
          12,
          28,
          201,
          41,
          21,
          390,
          262,
          212,
          1314,
          186,
          1431,
          574,
          526,
          273,
          1898,
          389,
          282,
          4371,
          6737,
          4807,
          10632,
          4512,
          29787,
          8695,
          5314,
          3917,
          25430,
          8773,
          8950,
          26,
          44,
          21,
          42,
          31,
          212,
          39,
          27,
          11,
          188,
          21,
          19,
          1690,
          1243,
          1092,
          4182,
          1788,
          10131,
          4263,
          1558,
          2353,
          11782,
          1766,
          2849,
          969,
          1914,
          1169,
          2574,
          730,
          6483,
          1869,
          1465,
          1126,
          4909,
          1302,
          2007,
          222,
          774,
          136,
          1139,
          424,
          2056,
          680,
          89,
          530,
          2499,
          228,
          420,
          7278,
          10712,
          7225,
          18569,
          7485,
          48669,
          15546,
          8453,
          7937,
          44808,
          12090,
          14245,
          203017
         ]
        }
       ],
       "layout": {
        "height": 750,
        "legend": {
         "tracegroupgap": 0
        },
        "template": {
         "data": {
          "bar": [
           {
            "error_x": {
             "color": "#2a3f5f"
            },
            "error_y": {
             "color": "#2a3f5f"
            },
            "marker": {
             "line": {
              "color": "#E5ECF6",
              "width": 0.5
             },
             "pattern": {
              "fillmode": "overlay",
              "size": 10,
              "solidity": 0.2
             }
            },
            "type": "bar"
           }
          ],
          "barpolar": [
           {
            "marker": {
             "line": {
              "color": "#E5ECF6",
              "width": 0.5
             },
             "pattern": {
              "fillmode": "overlay",
              "size": 10,
              "solidity": 0.2
             }
            },
            "type": "barpolar"
           }
          ],
          "carpet": [
           {
            "aaxis": {
             "endlinecolor": "#2a3f5f",
             "gridcolor": "white",
             "linecolor": "white",
             "minorgridcolor": "white",
             "startlinecolor": "#2a3f5f"
            },
            "baxis": {
             "endlinecolor": "#2a3f5f",
             "gridcolor": "white",
             "linecolor": "white",
             "minorgridcolor": "white",
             "startlinecolor": "#2a3f5f"
            },
            "type": "carpet"
           }
          ],
          "choropleth": [
           {
            "colorbar": {
             "outlinewidth": 0,
             "ticks": ""
            },
            "type": "choropleth"
           }
          ],
          "contour": [
           {
            "colorbar": {
             "outlinewidth": 0,
             "ticks": ""
            },
            "colorscale": [
             [
              0,
              "#0d0887"
             ],
             [
              0.1111111111111111,
              "#46039f"
             ],
             [
              0.2222222222222222,
              "#7201a8"
             ],
             [
              0.3333333333333333,
              "#9c179e"
             ],
             [
              0.4444444444444444,
              "#bd3786"
             ],
             [
              0.5555555555555556,
              "#d8576b"
             ],
             [
              0.6666666666666666,
              "#ed7953"
             ],
             [
              0.7777777777777778,
              "#fb9f3a"
             ],
             [
              0.8888888888888888,
              "#fdca26"
             ],
             [
              1,
              "#f0f921"
             ]
            ],
            "type": "contour"
           }
          ],
          "contourcarpet": [
           {
            "colorbar": {
             "outlinewidth": 0,
             "ticks": ""
            },
            "type": "contourcarpet"
           }
          ],
          "heatmap": [
           {
            "colorbar": {
             "outlinewidth": 0,
             "ticks": ""
            },
            "colorscale": [
             [
              0,
              "#0d0887"
             ],
             [
              0.1111111111111111,
              "#46039f"
             ],
             [
              0.2222222222222222,
              "#7201a8"
             ],
             [
              0.3333333333333333,
              "#9c179e"
             ],
             [
              0.4444444444444444,
              "#bd3786"
             ],
             [
              0.5555555555555556,
              "#d8576b"
             ],
             [
              0.6666666666666666,
              "#ed7953"
             ],
             [
              0.7777777777777778,
              "#fb9f3a"
             ],
             [
              0.8888888888888888,
              "#fdca26"
             ],
             [
              1,
              "#f0f921"
             ]
            ],
            "type": "heatmap"
           }
          ],
          "heatmapgl": [
           {
            "colorbar": {
             "outlinewidth": 0,
             "ticks": ""
            },
            "colorscale": [
             [
              0,
              "#0d0887"
             ],
             [
              0.1111111111111111,
              "#46039f"
             ],
             [
              0.2222222222222222,
              "#7201a8"
             ],
             [
              0.3333333333333333,
              "#9c179e"
             ],
             [
              0.4444444444444444,
              "#bd3786"
             ],
             [
              0.5555555555555556,
              "#d8576b"
             ],
             [
              0.6666666666666666,
              "#ed7953"
             ],
             [
              0.7777777777777778,
              "#fb9f3a"
             ],
             [
              0.8888888888888888,
              "#fdca26"
             ],
             [
              1,
              "#f0f921"
             ]
            ],
            "type": "heatmapgl"
           }
          ],
          "histogram": [
           {
            "marker": {
             "pattern": {
              "fillmode": "overlay",
              "size": 10,
              "solidity": 0.2
             }
            },
            "type": "histogram"
           }
          ],
          "histogram2d": [
           {
            "colorbar": {
             "outlinewidth": 0,
             "ticks": ""
            },
            "colorscale": [
             [
              0,
              "#0d0887"
             ],
             [
              0.1111111111111111,
              "#46039f"
             ],
             [
              0.2222222222222222,
              "#7201a8"
             ],
             [
              0.3333333333333333,
              "#9c179e"
             ],
             [
              0.4444444444444444,
              "#bd3786"
             ],
             [
              0.5555555555555556,
              "#d8576b"
             ],
             [
              0.6666666666666666,
              "#ed7953"
             ],
             [
              0.7777777777777778,
              "#fb9f3a"
             ],
             [
              0.8888888888888888,
              "#fdca26"
             ],
             [
              1,
              "#f0f921"
             ]
            ],
            "type": "histogram2d"
           }
          ],
          "histogram2dcontour": [
           {
            "colorbar": {
             "outlinewidth": 0,
             "ticks": ""
            },
            "colorscale": [
             [
              0,
              "#0d0887"
             ],
             [
              0.1111111111111111,
              "#46039f"
             ],
             [
              0.2222222222222222,
              "#7201a8"
             ],
             [
              0.3333333333333333,
              "#9c179e"
             ],
             [
              0.4444444444444444,
              "#bd3786"
             ],
             [
              0.5555555555555556,
              "#d8576b"
             ],
             [
              0.6666666666666666,
              "#ed7953"
             ],
             [
              0.7777777777777778,
              "#fb9f3a"
             ],
             [
              0.8888888888888888,
              "#fdca26"
             ],
             [
              1,
              "#f0f921"
             ]
            ],
            "type": "histogram2dcontour"
           }
          ],
          "mesh3d": [
           {
            "colorbar": {
             "outlinewidth": 0,
             "ticks": ""
            },
            "type": "mesh3d"
           }
          ],
          "parcoords": [
           {
            "line": {
             "colorbar": {
              "outlinewidth": 0,
              "ticks": ""
             }
            },
            "type": "parcoords"
           }
          ],
          "pie": [
           {
            "automargin": true,
            "type": "pie"
           }
          ],
          "scatter": [
           {
            "marker": {
             "colorbar": {
              "outlinewidth": 0,
              "ticks": ""
             }
            },
            "type": "scatter"
           }
          ],
          "scatter3d": [
           {
            "line": {
             "colorbar": {
              "outlinewidth": 0,
              "ticks": ""
             }
            },
            "marker": {
             "colorbar": {
              "outlinewidth": 0,
              "ticks": ""
             }
            },
            "type": "scatter3d"
           }
          ],
          "scattercarpet": [
           {
            "marker": {
             "colorbar": {
              "outlinewidth": 0,
              "ticks": ""
             }
            },
            "type": "scattercarpet"
           }
          ],
          "scattergeo": [
           {
            "marker": {
             "colorbar": {
              "outlinewidth": 0,
              "ticks": ""
             }
            },
            "type": "scattergeo"
           }
          ],
          "scattergl": [
           {
            "marker": {
             "colorbar": {
              "outlinewidth": 0,
              "ticks": ""
             }
            },
            "type": "scattergl"
           }
          ],
          "scattermapbox": [
           {
            "marker": {
             "colorbar": {
              "outlinewidth": 0,
              "ticks": ""
             }
            },
            "type": "scattermapbox"
           }
          ],
          "scatterpolar": [
           {
            "marker": {
             "colorbar": {
              "outlinewidth": 0,
              "ticks": ""
             }
            },
            "type": "scatterpolar"
           }
          ],
          "scatterpolargl": [
           {
            "marker": {
             "colorbar": {
              "outlinewidth": 0,
              "ticks": ""
             }
            },
            "type": "scatterpolargl"
           }
          ],
          "scatterternary": [
           {
            "marker": {
             "colorbar": {
              "outlinewidth": 0,
              "ticks": ""
             }
            },
            "type": "scatterternary"
           }
          ],
          "surface": [
           {
            "colorbar": {
             "outlinewidth": 0,
             "ticks": ""
            },
            "colorscale": [
             [
              0,
              "#0d0887"
             ],
             [
              0.1111111111111111,
              "#46039f"
             ],
             [
              0.2222222222222222,
              "#7201a8"
             ],
             [
              0.3333333333333333,
              "#9c179e"
             ],
             [
              0.4444444444444444,
              "#bd3786"
             ],
             [
              0.5555555555555556,
              "#d8576b"
             ],
             [
              0.6666666666666666,
              "#ed7953"
             ],
             [
              0.7777777777777778,
              "#fb9f3a"
             ],
             [
              0.8888888888888888,
              "#fdca26"
             ],
             [
              1,
              "#f0f921"
             ]
            ],
            "type": "surface"
           }
          ],
          "table": [
           {
            "cells": {
             "fill": {
              "color": "#EBF0F8"
             },
             "line": {
              "color": "white"
             }
            },
            "header": {
             "fill": {
              "color": "#C8D4E3"
             },
             "line": {
              "color": "white"
             }
            },
            "type": "table"
           }
          ]
         },
         "layout": {
          "annotationdefaults": {
           "arrowcolor": "#2a3f5f",
           "arrowhead": 0,
           "arrowwidth": 1
          },
          "autotypenumbers": "strict",
          "coloraxis": {
           "colorbar": {
            "outlinewidth": 0,
            "ticks": ""
           }
          },
          "colorscale": {
           "diverging": [
            [
             0,
             "#8e0152"
            ],
            [
             0.1,
             "#c51b7d"
            ],
            [
             0.2,
             "#de77ae"
            ],
            [
             0.3,
             "#f1b6da"
            ],
            [
             0.4,
             "#fde0ef"
            ],
            [
             0.5,
             "#f7f7f7"
            ],
            [
             0.6,
             "#e6f5d0"
            ],
            [
             0.7,
             "#b8e186"
            ],
            [
             0.8,
             "#7fbc41"
            ],
            [
             0.9,
             "#4d9221"
            ],
            [
             1,
             "#276419"
            ]
           ],
           "sequential": [
            [
             0,
             "#0d0887"
            ],
            [
             0.1111111111111111,
             "#46039f"
            ],
            [
             0.2222222222222222,
             "#7201a8"
            ],
            [
             0.3333333333333333,
             "#9c179e"
            ],
            [
             0.4444444444444444,
             "#bd3786"
            ],
            [
             0.5555555555555556,
             "#d8576b"
            ],
            [
             0.6666666666666666,
             "#ed7953"
            ],
            [
             0.7777777777777778,
             "#fb9f3a"
            ],
            [
             0.8888888888888888,
             "#fdca26"
            ],
            [
             1,
             "#f0f921"
            ]
           ],
           "sequentialminus": [
            [
             0,
             "#0d0887"
            ],
            [
             0.1111111111111111,
             "#46039f"
            ],
            [
             0.2222222222222222,
             "#7201a8"
            ],
            [
             0.3333333333333333,
             "#9c179e"
            ],
            [
             0.4444444444444444,
             "#bd3786"
            ],
            [
             0.5555555555555556,
             "#d8576b"
            ],
            [
             0.6666666666666666,
             "#ed7953"
            ],
            [
             0.7777777777777778,
             "#fb9f3a"
            ],
            [
             0.8888888888888888,
             "#fdca26"
            ],
            [
             1,
             "#f0f921"
            ]
           ]
          },
          "colorway": [
           "#636efa",
           "#EF553B",
           "#00cc96",
           "#ab63fa",
           "#FFA15A",
           "#19d3f3",
           "#FF6692",
           "#B6E880",
           "#FF97FF",
           "#FECB52"
          ],
          "font": {
           "color": "#2a3f5f"
          },
          "geo": {
           "bgcolor": "white",
           "lakecolor": "white",
           "landcolor": "#E5ECF6",
           "showlakes": true,
           "showland": true,
           "subunitcolor": "white"
          },
          "hoverlabel": {
           "align": "left"
          },
          "hovermode": "closest",
          "mapbox": {
           "style": "light"
          },
          "paper_bgcolor": "white",
          "plot_bgcolor": "#E5ECF6",
          "polar": {
           "angularaxis": {
            "gridcolor": "white",
            "linecolor": "white",
            "ticks": ""
           },
           "bgcolor": "#E5ECF6",
           "radialaxis": {
            "gridcolor": "white",
            "linecolor": "white",
            "ticks": ""
           }
          },
          "scene": {
           "xaxis": {
            "backgroundcolor": "#E5ECF6",
            "gridcolor": "white",
            "gridwidth": 2,
            "linecolor": "white",
            "showbackground": true,
            "ticks": "",
            "zerolinecolor": "white"
           },
           "yaxis": {
            "backgroundcolor": "#E5ECF6",
            "gridcolor": "white",
            "gridwidth": 2,
            "linecolor": "white",
            "showbackground": true,
            "ticks": "",
            "zerolinecolor": "white"
           },
           "zaxis": {
            "backgroundcolor": "#E5ECF6",
            "gridcolor": "white",
            "gridwidth": 2,
            "linecolor": "white",
            "showbackground": true,
            "ticks": "",
            "zerolinecolor": "white"
           }
          },
          "shapedefaults": {
           "line": {
            "color": "#2a3f5f"
           }
          },
          "ternary": {
           "aaxis": {
            "gridcolor": "white",
            "linecolor": "white",
            "ticks": ""
           },
           "baxis": {
            "gridcolor": "white",
            "linecolor": "white",
            "ticks": ""
           },
           "bgcolor": "#E5ECF6",
           "caxis": {
            "gridcolor": "white",
            "linecolor": "white",
            "ticks": ""
           }
          },
          "title": {
           "x": 0.05
          },
          "xaxis": {
           "automargin": true,
           "gridcolor": "white",
           "linecolor": "white",
           "ticks": "",
           "title": {
            "standoff": 15
           },
           "zerolinecolor": "white",
           "zerolinewidth": 2
          },
          "yaxis": {
           "automargin": true,
           "gridcolor": "white",
           "linecolor": "white",
           "ticks": "",
           "title": {
            "standoff": 15
           },
           "zerolinecolor": "white",
           "zerolinewidth": 2
          }
         }
        },
        "title": {
         "text": "Sunburst Chart of Cars in Indian States"
        },
        "width": 750
       }
      },
      "text/html": [
       "<div>                            <div id=\"a18fb319-b8e7-4b02-8225-48cdd6f4e338\" class=\"plotly-graph-div\" style=\"height:750px; width:750px;\"></div>            <script type=\"text/javascript\">                require([\"plotly\"], function(Plotly) {                    window.PLOTLYENV=window.PLOTLYENV || {};                                    if (document.getElementById(\"a18fb319-b8e7-4b02-8225-48cdd6f4e338\")) {                    Plotly.newPlot(                        \"a18fb319-b8e7-4b02-8225-48cdd6f4e338\",                        [{\"branchvalues\":\"total\",\"domain\":{\"x\":[0.0,1.0],\"y\":[0.0,1.0]},\"hovertemplate\":\"%{label} <br>Count: %{value} </br>\",\"ids\":[\"India/Andhra Pradesh/Luxury/AUDI\",\"India/Gujarat/Luxury/AUDI\",\"India/Haryana/Luxury/AUDI\",\"India/Karnataka/Luxury/AUDI\",\"India/Madhya Pradesh/Luxury/AUDI\",\"India/Others/Luxury/AUDI\",\"India/Punjab/Luxury/AUDI\",\"India/Rajasthan/Luxury/AUDI\",\"India/Uttar Pradesh/Luxury/AUDI\",\"India/Andhra Pradesh/Luxury/BMW\",\"India/Gujarat/Luxury/BMW\",\"India/Haryana/Luxury/BMW\",\"India/Karnataka/Luxury/BMW\",\"India/Madhya Pradesh/Luxury/BMW\",\"India/Maharashtra/Luxury/BMW\",\"India/Others/Luxury/BMW\",\"India/Punjab/Luxury/BMW\",\"India/Rajasthan/Luxury/BMW\",\"India/Andhra Pradesh/Sedan/FORD\",\"India/Haryana/Hatchback/GENERAL MOTORS\",\"India/Gujarat/SUV/GENERAL MOTORS\",\"India/Maharashtra/SUV/GENERAL MOTORS\",\"India/Rajasthan/SUV/GENERAL MOTORS\",\"India/Gujarat/Sedan/HONDA\",\"India/Haryana/Sedan/HONDA\",\"India/Karnataka/Sedan/HONDA\",\"India/Madhya Pradesh/Sedan/HONDA\",\"India/Maharashtra/Sedan/HONDA\",\"India/Others/Sedan/HONDA\",\"India/Punjab/Sedan/HONDA\",\"India/Rajasthan/Sedan/HONDA\",\"India/Tamil Nadu/Sedan/HONDA\",\"India/Telangana/Sedan/HONDA\",\"India/Uttar Pradesh/Sedan/HONDA\",\"India/Andhra Pradesh/Hatchback/HYUNDAI\",\"India/Gujarat/Hatchback/HYUNDAI\",\"India/Haryana/Hatchback/HYUNDAI\",\"India/Karnataka/Hatchback/HYUNDAI\",\"India/Madhya Pradesh/Hatchback/HYUNDAI\",\"India/Maharashtra/Hatchback/HYUNDAI\",\"India/Others/Hatchback/HYUNDAI\",\"India/Punjab/Hatchback/HYUNDAI\",\"India/Rajasthan/Hatchback/HYUNDAI\",\"India/Tamil Nadu/Hatchback/HYUNDAI\",\"India/Telangana/Hatchback/HYUNDAI\",\"India/Uttar Pradesh/Hatchback/HYUNDAI\",\"India/Telangana/Luxury/HYUNDAI\",\"India/Uttar Pradesh/Luxury/HYUNDAI\",\"India/Andhra Pradesh/Sedan/HYUNDAI\",\"India/Gujarat/Sedan/HYUNDAI\",\"India/Haryana/Sedan/HYUNDAI\",\"India/Karnataka/Sedan/HYUNDAI\",\"India/Madhya Pradesh/Sedan/HYUNDAI\",\"India/Maharashtra/Sedan/HYUNDAI\",\"India/Others/Sedan/HYUNDAI\",\"India/Punjab/Sedan/HYUNDAI\",\"India/Rajasthan/Sedan/HYUNDAI\",\"India/Tamil Nadu/Sedan/HYUNDAI\",\"India/Telangana/Sedan/HYUNDAI\",\"India/Uttar Pradesh/Sedan/HYUNDAI\",\"India/Tamil Nadu/Luxury/MAHINDRA &  MAHINDRA\",\"India/Andhra Pradesh/SUV/MAHINDRA &  MAHINDRA\",\"India/Gujarat/SUV/MAHINDRA &  MAHINDRA\",\"India/Haryana/SUV/MAHINDRA &  MAHINDRA\",\"India/Karnataka/SUV/MAHINDRA &  MAHINDRA\",\"India/Madhya Pradesh/SUV/MAHINDRA &  MAHINDRA\",\"India/Maharashtra/SUV/MAHINDRA &  MAHINDRA\",\"India/Others/SUV/MAHINDRA &  MAHINDRA\",\"India/Punjab/SUV/MAHINDRA &  MAHINDRA\",\"India/Rajasthan/SUV/MAHINDRA &  MAHINDRA\",\"India/Tamil Nadu/SUV/MAHINDRA &  MAHINDRA\",\"India/Telangana/SUV/MAHINDRA &  MAHINDRA\",\"India/Uttar Pradesh/SUV/MAHINDRA &  MAHINDRA\",\"India/Andhra Pradesh/Utility/MAHINDRA &  MAHINDRA\",\"India/Gujarat/Utility/MAHINDRA &  MAHINDRA\",\"India/Haryana/Utility/MAHINDRA &  MAHINDRA\",\"India/Karnataka/Utility/MAHINDRA &  MAHINDRA\",\"India/Madhya Pradesh/Utility/MAHINDRA &  MAHINDRA\",\"India/Maharashtra/Utility/MAHINDRA &  MAHINDRA\",\"India/Others/Utility/MAHINDRA &  MAHINDRA\",\"India/Punjab/Utility/MAHINDRA &  MAHINDRA\",\"India/Rajasthan/Utility/MAHINDRA &  MAHINDRA\",\"India/Tamil Nadu/Utility/MAHINDRA &  MAHINDRA\",\"India/Telangana/Utility/MAHINDRA &  MAHINDRA\",\"India/Uttar Pradesh/Utility/MAHINDRA &  MAHINDRA\",\"India/Andhra Pradesh/Hatchback/MARUTI SUZUKI\",\"India/Gujarat/Hatchback/MARUTI SUZUKI\",\"India/Haryana/Hatchback/MARUTI SUZUKI\",\"India/Karnataka/Hatchback/MARUTI SUZUKI\",\"India/Madhya Pradesh/Hatchback/MARUTI SUZUKI\",\"India/Maharashtra/Hatchback/MARUTI SUZUKI\",\"India/Others/Hatchback/MARUTI SUZUKI\",\"India/Punjab/Hatchback/MARUTI SUZUKI\",\"India/Rajasthan/Hatchback/MARUTI SUZUKI\",\"India/Tamil Nadu/Hatchback/MARUTI SUZUKI\",\"India/Telangana/Hatchback/MARUTI SUZUKI\",\"India/Uttar Pradesh/Hatchback/MARUTI SUZUKI\",\"India/Haryana/Luxury/MARUTI SUZUKI\",\"India/Maharashtra/Luxury/MARUTI SUZUKI\",\"India/Tamil Nadu/Luxury/MARUTI SUZUKI\",\"India/Telangana/Luxury/MARUTI SUZUKI\",\"India/Uttar Pradesh/Luxury/MARUTI SUZUKI\",\"India/Andhra Pradesh/Sedan/MARUTI SUZUKI\",\"India/Gujarat/Sedan/MARUTI SUZUKI\",\"India/Haryana/Sedan/MARUTI SUZUKI\",\"India/Karnataka/Sedan/MARUTI SUZUKI\",\"India/Madhya Pradesh/Sedan/MARUTI SUZUKI\",\"India/Maharashtra/Sedan/MARUTI SUZUKI\",\"India/Others/Sedan/MARUTI SUZUKI\",\"India/Punjab/Sedan/MARUTI SUZUKI\",\"India/Rajasthan/Sedan/MARUTI SUZUKI\",\"India/Tamil Nadu/Sedan/MARUTI SUZUKI\",\"India/Telangana/Sedan/MARUTI SUZUKI\",\"India/Uttar Pradesh/Sedan/MARUTI SUZUKI\",\"India/Andhra Pradesh/Utility/MARUTI SUZUKI\",\"India/Gujarat/Utility/MARUTI SUZUKI\",\"India/Haryana/Utility/MARUTI SUZUKI\",\"India/Karnataka/Utility/MARUTI SUZUKI\",\"India/Madhya Pradesh/Utility/MARUTI SUZUKI\",\"India/Maharashtra/Utility/MARUTI SUZUKI\",\"India/Others/Utility/MARUTI SUZUKI\",\"India/Punjab/Utility/MARUTI SUZUKI\",\"India/Rajasthan/Utility/MARUTI SUZUKI\",\"India/Tamil Nadu/Utility/MARUTI SUZUKI\",\"India/Telangana/Utility/MARUTI SUZUKI\",\"India/Uttar Pradesh/Utility/MARUTI SUZUKI\",\"India/Andhra Pradesh/Luxury/MERCEDES BENZ\",\"India/Gujarat/Luxury/MERCEDES BENZ\",\"India/Karnataka/Luxury/MERCEDES BENZ\",\"India/Madhya Pradesh/Luxury/MERCEDES BENZ\",\"India/Maharashtra/Luxury/MERCEDES BENZ\",\"India/Others/Luxury/MERCEDES BENZ\",\"India/Punjab/Luxury/MERCEDES BENZ\",\"India/Rajasthan/Luxury/MERCEDES BENZ\",\"India/Andhra Pradesh/Hatchback/TATA MOTORS\",\"India/Gujarat/Hatchback/TATA MOTORS\",\"India/Karnataka/Hatchback/TATA MOTORS\",\"India/Madhya Pradesh/Hatchback/TATA MOTORS\",\"India/Maharashtra/Hatchback/TATA MOTORS\",\"India/Others/Hatchback/TATA MOTORS\",\"India/Punjab/Hatchback/TATA MOTORS\",\"India/Rajasthan/Hatchback/TATA MOTORS\",\"India/Tamil Nadu/Hatchback/TATA MOTORS\",\"India/Telangana/Hatchback/TATA MOTORS\",\"India/Uttar Pradesh/Hatchback/TATA MOTORS\",\"India/Tamil Nadu/Luxury/TATA MOTORS\",\"India/Telangana/Luxury/TATA MOTORS\",\"India/Andhra Pradesh/SUV/TATA MOTORS\",\"India/Haryana/SUV/TATA MOTORS\",\"India/Karnataka/SUV/TATA MOTORS\",\"India/Madhya Pradesh/SUV/TATA MOTORS\",\"India/Others/SUV/TATA MOTORS\",\"India/Punjab/SUV/TATA MOTORS\",\"India/Tamil Nadu/SUV/TATA MOTORS\",\"India/Telangana/SUV/TATA MOTORS\",\"India/Uttar Pradesh/SUV/TATA MOTORS\",\"India/Andhra Pradesh/Utility/TATA MOTORS\",\"India/Gujarat/Utility/TATA MOTORS\",\"India/Haryana/Utility/TATA MOTORS\",\"India/Karnataka/Utility/TATA MOTORS\",\"India/Madhya Pradesh/Utility/TATA MOTORS\",\"India/Maharashtra/Utility/TATA MOTORS\",\"India/Others/Utility/TATA MOTORS\",\"India/Punjab/Utility/TATA MOTORS\",\"India/Rajasthan/Utility/TATA MOTORS\",\"India/Tamil Nadu/Utility/TATA MOTORS\",\"India/Telangana/Utility/TATA MOTORS\",\"India/Uttar Pradesh/Utility/TATA MOTORS\",\"India/Andhra Pradesh/SUV/TOYOTA\",\"India/Gujarat/SUV/TOYOTA\",\"India/Haryana/SUV/TOYOTA\",\"India/Karnataka/SUV/TOYOTA\",\"India/Madhya Pradesh/SUV/TOYOTA\",\"India/Maharashtra/SUV/TOYOTA\",\"India/Others/SUV/TOYOTA\",\"India/Punjab/SUV/TOYOTA\",\"India/Rajasthan/SUV/TOYOTA\",\"India/Tamil Nadu/SUV/TOYOTA\",\"India/Telangana/SUV/TOYOTA\",\"India/Uttar Pradesh/SUV/TOYOTA\",\"India/Andhra Pradesh/Hatchback\",\"India/Gujarat/Hatchback\",\"India/Haryana/Hatchback\",\"India/Karnataka/Hatchback\",\"India/Madhya Pradesh/Hatchback\",\"India/Maharashtra/Hatchback\",\"India/Others/Hatchback\",\"India/Punjab/Hatchback\",\"India/Rajasthan/Hatchback\",\"India/Tamil Nadu/Hatchback\",\"India/Telangana/Hatchback\",\"India/Uttar Pradesh/Hatchback\",\"India/Andhra Pradesh/Luxury\",\"India/Gujarat/Luxury\",\"India/Haryana/Luxury\",\"India/Karnataka/Luxury\",\"India/Madhya Pradesh/Luxury\",\"India/Maharashtra/Luxury\",\"India/Others/Luxury\",\"India/Punjab/Luxury\",\"India/Rajasthan/Luxury\",\"India/Tamil Nadu/Luxury\",\"India/Telangana/Luxury\",\"India/Uttar Pradesh/Luxury\",\"India/Andhra Pradesh/SUV\",\"India/Gujarat/SUV\",\"India/Haryana/SUV\",\"India/Karnataka/SUV\",\"India/Madhya Pradesh/SUV\",\"India/Maharashtra/SUV\",\"India/Others/SUV\",\"India/Punjab/SUV\",\"India/Rajasthan/SUV\",\"India/Tamil Nadu/SUV\",\"India/Telangana/SUV\",\"India/Uttar Pradesh/SUV\",\"India/Andhra Pradesh/Sedan\",\"India/Gujarat/Sedan\",\"India/Haryana/Sedan\",\"India/Karnataka/Sedan\",\"India/Madhya Pradesh/Sedan\",\"India/Maharashtra/Sedan\",\"India/Others/Sedan\",\"India/Punjab/Sedan\",\"India/Rajasthan/Sedan\",\"India/Tamil Nadu/Sedan\",\"India/Telangana/Sedan\",\"India/Uttar Pradesh/Sedan\",\"India/Andhra Pradesh/Utility\",\"India/Gujarat/Utility\",\"India/Haryana/Utility\",\"India/Karnataka/Utility\",\"India/Madhya Pradesh/Utility\",\"India/Maharashtra/Utility\",\"India/Others/Utility\",\"India/Punjab/Utility\",\"India/Rajasthan/Utility\",\"India/Tamil Nadu/Utility\",\"India/Telangana/Utility\",\"India/Uttar Pradesh/Utility\",\"India/Andhra Pradesh\",\"India/Gujarat\",\"India/Haryana\",\"India/Karnataka\",\"India/Madhya Pradesh\",\"India/Maharashtra\",\"India/Others\",\"India/Punjab\",\"India/Rajasthan\",\"India/Tamil Nadu\",\"India/Telangana\",\"India/Uttar Pradesh\",\"India\"],\"labels\":[\"AUDI\",\"AUDI\",\"AUDI\",\"AUDI\",\"AUDI\",\"AUDI\",\"AUDI\",\"AUDI\",\"AUDI\",\"BMW\",\"BMW\",\"BMW\",\"BMW\",\"BMW\",\"BMW\",\"BMW\",\"BMW\",\"BMW\",\"FORD\",\"GENERAL MOTORS\",\"GENERAL MOTORS\",\"GENERAL MOTORS\",\"GENERAL MOTORS\",\"HONDA\",\"HONDA\",\"HONDA\",\"HONDA\",\"HONDA\",\"HONDA\",\"HONDA\",\"HONDA\",\"HONDA\",\"HONDA\",\"HONDA\",\"HYUNDAI\",\"HYUNDAI\",\"HYUNDAI\",\"HYUNDAI\",\"HYUNDAI\",\"HYUNDAI\",\"HYUNDAI\",\"HYUNDAI\",\"HYUNDAI\",\"HYUNDAI\",\"HYUNDAI\",\"HYUNDAI\",\"HYUNDAI\",\"HYUNDAI\",\"HYUNDAI\",\"HYUNDAI\",\"HYUNDAI\",\"HYUNDAI\",\"HYUNDAI\",\"HYUNDAI\",\"HYUNDAI\",\"HYUNDAI\",\"HYUNDAI\",\"HYUNDAI\",\"HYUNDAI\",\"HYUNDAI\",\"MAHINDRA &  MAHINDRA\",\"MAHINDRA &  MAHINDRA\",\"MAHINDRA &  MAHINDRA\",\"MAHINDRA &  MAHINDRA\",\"MAHINDRA &  MAHINDRA\",\"MAHINDRA &  MAHINDRA\",\"MAHINDRA &  MAHINDRA\",\"MAHINDRA &  MAHINDRA\",\"MAHINDRA &  MAHINDRA\",\"MAHINDRA &  MAHINDRA\",\"MAHINDRA &  MAHINDRA\",\"MAHINDRA &  MAHINDRA\",\"MAHINDRA &  MAHINDRA\",\"MAHINDRA &  MAHINDRA\",\"MAHINDRA &  MAHINDRA\",\"MAHINDRA &  MAHINDRA\",\"MAHINDRA &  MAHINDRA\",\"MAHINDRA &  MAHINDRA\",\"MAHINDRA &  MAHINDRA\",\"MAHINDRA &  MAHINDRA\",\"MAHINDRA &  MAHINDRA\",\"MAHINDRA &  MAHINDRA\",\"MAHINDRA &  MAHINDRA\",\"MAHINDRA &  MAHINDRA\",\"MAHINDRA &  MAHINDRA\",\"MARUTI SUZUKI\",\"MARUTI SUZUKI\",\"MARUTI SUZUKI\",\"MARUTI SUZUKI\",\"MARUTI SUZUKI\",\"MARUTI SUZUKI\",\"MARUTI SUZUKI\",\"MARUTI SUZUKI\",\"MARUTI SUZUKI\",\"MARUTI SUZUKI\",\"MARUTI SUZUKI\",\"MARUTI SUZUKI\",\"MARUTI SUZUKI\",\"MARUTI SUZUKI\",\"MARUTI SUZUKI\",\"MARUTI SUZUKI\",\"MARUTI SUZUKI\",\"MARUTI SUZUKI\",\"MARUTI SUZUKI\",\"MARUTI SUZUKI\",\"MARUTI SUZUKI\",\"MARUTI SUZUKI\",\"MARUTI SUZUKI\",\"MARUTI SUZUKI\",\"MARUTI SUZUKI\",\"MARUTI SUZUKI\",\"MARUTI SUZUKI\",\"MARUTI SUZUKI\",\"MARUTI SUZUKI\",\"MARUTI SUZUKI\",\"MARUTI SUZUKI\",\"MARUTI SUZUKI\",\"MARUTI SUZUKI\",\"MARUTI SUZUKI\",\"MARUTI SUZUKI\",\"MARUTI SUZUKI\",\"MARUTI SUZUKI\",\"MARUTI SUZUKI\",\"MARUTI SUZUKI\",\"MARUTI SUZUKI\",\"MARUTI SUZUKI\",\"MERCEDES BENZ\",\"MERCEDES BENZ\",\"MERCEDES BENZ\",\"MERCEDES BENZ\",\"MERCEDES BENZ\",\"MERCEDES BENZ\",\"MERCEDES BENZ\",\"MERCEDES BENZ\",\"TATA MOTORS\",\"TATA MOTORS\",\"TATA MOTORS\",\"TATA MOTORS\",\"TATA MOTORS\",\"TATA MOTORS\",\"TATA MOTORS\",\"TATA MOTORS\",\"TATA MOTORS\",\"TATA MOTORS\",\"TATA MOTORS\",\"TATA MOTORS\",\"TATA MOTORS\",\"TATA MOTORS\",\"TATA MOTORS\",\"TATA MOTORS\",\"TATA MOTORS\",\"TATA MOTORS\",\"TATA MOTORS\",\"TATA MOTORS\",\"TATA MOTORS\",\"TATA MOTORS\",\"TATA MOTORS\",\"TATA MOTORS\",\"TATA MOTORS\",\"TATA MOTORS\",\"TATA MOTORS\",\"TATA MOTORS\",\"TATA MOTORS\",\"TATA MOTORS\",\"TATA MOTORS\",\"TATA MOTORS\",\"TATA MOTORS\",\"TATA MOTORS\",\"TOYOTA\",\"TOYOTA\",\"TOYOTA\",\"TOYOTA\",\"TOYOTA\",\"TOYOTA\",\"TOYOTA\",\"TOYOTA\",\"TOYOTA\",\"TOYOTA\",\"TOYOTA\",\"TOYOTA\",\"Hatchback\",\"Hatchback\",\"Hatchback\",\"Hatchback\",\"Hatchback\",\"Hatchback\",\"Hatchback\",\"Hatchback\",\"Hatchback\",\"Hatchback\",\"Hatchback\",\"Hatchback\",\"Luxury\",\"Luxury\",\"Luxury\",\"Luxury\",\"Luxury\",\"Luxury\",\"Luxury\",\"Luxury\",\"Luxury\",\"Luxury\",\"Luxury\",\"Luxury\",\"SUV\",\"SUV\",\"SUV\",\"SUV\",\"SUV\",\"SUV\",\"SUV\",\"SUV\",\"SUV\",\"SUV\",\"SUV\",\"SUV\",\"Sedan\",\"Sedan\",\"Sedan\",\"Sedan\",\"Sedan\",\"Sedan\",\"Sedan\",\"Sedan\",\"Sedan\",\"Sedan\",\"Sedan\",\"Sedan\",\"Utility\",\"Utility\",\"Utility\",\"Utility\",\"Utility\",\"Utility\",\"Utility\",\"Utility\",\"Utility\",\"Utility\",\"Utility\",\"Utility\",\"Andhra Pradesh\",\"Gujarat\",\"Haryana\",\"Karnataka\",\"Madhya Pradesh\",\"Maharashtra\",\"Others\",\"Punjab\",\"Rajasthan\",\"Tamil Nadu\",\"Telangana\",\"Uttar Pradesh\",\"India\"],\"name\":\"\",\"parents\":[\"India/Andhra Pradesh/Luxury\",\"India/Gujarat/Luxury\",\"India/Haryana/Luxury\",\"India/Karnataka/Luxury\",\"India/Madhya Pradesh/Luxury\",\"India/Others/Luxury\",\"India/Punjab/Luxury\",\"India/Rajasthan/Luxury\",\"India/Uttar Pradesh/Luxury\",\"India/Andhra Pradesh/Luxury\",\"India/Gujarat/Luxury\",\"India/Haryana/Luxury\",\"India/Karnataka/Luxury\",\"India/Madhya Pradesh/Luxury\",\"India/Maharashtra/Luxury\",\"India/Others/Luxury\",\"India/Punjab/Luxury\",\"India/Rajasthan/Luxury\",\"India/Andhra Pradesh/Sedan\",\"India/Haryana/Hatchback\",\"India/Gujarat/SUV\",\"India/Maharashtra/SUV\",\"India/Rajasthan/SUV\",\"India/Gujarat/Sedan\",\"India/Haryana/Sedan\",\"India/Karnataka/Sedan\",\"India/Madhya Pradesh/Sedan\",\"India/Maharashtra/Sedan\",\"India/Others/Sedan\",\"India/Punjab/Sedan\",\"India/Rajasthan/Sedan\",\"India/Tamil Nadu/Sedan\",\"India/Telangana/Sedan\",\"India/Uttar Pradesh/Sedan\",\"India/Andhra Pradesh/Hatchback\",\"India/Gujarat/Hatchback\",\"India/Haryana/Hatchback\",\"India/Karnataka/Hatchback\",\"India/Madhya Pradesh/Hatchback\",\"India/Maharashtra/Hatchback\",\"India/Others/Hatchback\",\"India/Punjab/Hatchback\",\"India/Rajasthan/Hatchback\",\"India/Tamil Nadu/Hatchback\",\"India/Telangana/Hatchback\",\"India/Uttar Pradesh/Hatchback\",\"India/Telangana/Luxury\",\"India/Uttar Pradesh/Luxury\",\"India/Andhra Pradesh/Sedan\",\"India/Gujarat/Sedan\",\"India/Haryana/Sedan\",\"India/Karnataka/Sedan\",\"India/Madhya Pradesh/Sedan\",\"India/Maharashtra/Sedan\",\"India/Others/Sedan\",\"India/Punjab/Sedan\",\"India/Rajasthan/Sedan\",\"India/Tamil Nadu/Sedan\",\"India/Telangana/Sedan\",\"India/Uttar Pradesh/Sedan\",\"India/Tamil Nadu/Luxury\",\"India/Andhra Pradesh/SUV\",\"India/Gujarat/SUV\",\"India/Haryana/SUV\",\"India/Karnataka/SUV\",\"India/Madhya Pradesh/SUV\",\"India/Maharashtra/SUV\",\"India/Others/SUV\",\"India/Punjab/SUV\",\"India/Rajasthan/SUV\",\"India/Tamil Nadu/SUV\",\"India/Telangana/SUV\",\"India/Uttar Pradesh/SUV\",\"India/Andhra Pradesh/Utility\",\"India/Gujarat/Utility\",\"India/Haryana/Utility\",\"India/Karnataka/Utility\",\"India/Madhya Pradesh/Utility\",\"India/Maharashtra/Utility\",\"India/Others/Utility\",\"India/Punjab/Utility\",\"India/Rajasthan/Utility\",\"India/Tamil Nadu/Utility\",\"India/Telangana/Utility\",\"India/Uttar Pradesh/Utility\",\"India/Andhra Pradesh/Hatchback\",\"India/Gujarat/Hatchback\",\"India/Haryana/Hatchback\",\"India/Karnataka/Hatchback\",\"India/Madhya Pradesh/Hatchback\",\"India/Maharashtra/Hatchback\",\"India/Others/Hatchback\",\"India/Punjab/Hatchback\",\"India/Rajasthan/Hatchback\",\"India/Tamil Nadu/Hatchback\",\"India/Telangana/Hatchback\",\"India/Uttar Pradesh/Hatchback\",\"India/Haryana/Luxury\",\"India/Maharashtra/Luxury\",\"India/Tamil Nadu/Luxury\",\"India/Telangana/Luxury\",\"India/Uttar Pradesh/Luxury\",\"India/Andhra Pradesh/Sedan\",\"India/Gujarat/Sedan\",\"India/Haryana/Sedan\",\"India/Karnataka/Sedan\",\"India/Madhya Pradesh/Sedan\",\"India/Maharashtra/Sedan\",\"India/Others/Sedan\",\"India/Punjab/Sedan\",\"India/Rajasthan/Sedan\",\"India/Tamil Nadu/Sedan\",\"India/Telangana/Sedan\",\"India/Uttar Pradesh/Sedan\",\"India/Andhra Pradesh/Utility\",\"India/Gujarat/Utility\",\"India/Haryana/Utility\",\"India/Karnataka/Utility\",\"India/Madhya Pradesh/Utility\",\"India/Maharashtra/Utility\",\"India/Others/Utility\",\"India/Punjab/Utility\",\"India/Rajasthan/Utility\",\"India/Tamil Nadu/Utility\",\"India/Telangana/Utility\",\"India/Uttar Pradesh/Utility\",\"India/Andhra Pradesh/Luxury\",\"India/Gujarat/Luxury\",\"India/Karnataka/Luxury\",\"India/Madhya Pradesh/Luxury\",\"India/Maharashtra/Luxury\",\"India/Others/Luxury\",\"India/Punjab/Luxury\",\"India/Rajasthan/Luxury\",\"India/Andhra Pradesh/Hatchback\",\"India/Gujarat/Hatchback\",\"India/Karnataka/Hatchback\",\"India/Madhya Pradesh/Hatchback\",\"India/Maharashtra/Hatchback\",\"India/Others/Hatchback\",\"India/Punjab/Hatchback\",\"India/Rajasthan/Hatchback\",\"India/Tamil Nadu/Hatchback\",\"India/Telangana/Hatchback\",\"India/Uttar Pradesh/Hatchback\",\"India/Tamil Nadu/Luxury\",\"India/Telangana/Luxury\",\"India/Andhra Pradesh/SUV\",\"India/Haryana/SUV\",\"India/Karnataka/SUV\",\"India/Madhya Pradesh/SUV\",\"India/Others/SUV\",\"India/Punjab/SUV\",\"India/Tamil Nadu/SUV\",\"India/Telangana/SUV\",\"India/Uttar Pradesh/SUV\",\"India/Andhra Pradesh/Utility\",\"India/Gujarat/Utility\",\"India/Haryana/Utility\",\"India/Karnataka/Utility\",\"India/Madhya Pradesh/Utility\",\"India/Maharashtra/Utility\",\"India/Others/Utility\",\"India/Punjab/Utility\",\"India/Rajasthan/Utility\",\"India/Tamil Nadu/Utility\",\"India/Telangana/Utility\",\"India/Uttar Pradesh/Utility\",\"India/Andhra Pradesh/SUV\",\"India/Gujarat/SUV\",\"India/Haryana/SUV\",\"India/Karnataka/SUV\",\"India/Madhya Pradesh/SUV\",\"India/Maharashtra/SUV\",\"India/Others/SUV\",\"India/Punjab/SUV\",\"India/Rajasthan/SUV\",\"India/Tamil Nadu/SUV\",\"India/Telangana/SUV\",\"India/Uttar Pradesh/SUV\",\"India/Andhra Pradesh\",\"India/Gujarat\",\"India/Haryana\",\"India/Karnataka\",\"India/Madhya Pradesh\",\"India/Maharashtra\",\"India/Others\",\"India/Punjab\",\"India/Rajasthan\",\"India/Tamil Nadu\",\"India/Telangana\",\"India/Uttar Pradesh\",\"India/Andhra Pradesh\",\"India/Gujarat\",\"India/Haryana\",\"India/Karnataka\",\"India/Madhya Pradesh\",\"India/Maharashtra\",\"India/Others\",\"India/Punjab\",\"India/Rajasthan\",\"India/Tamil Nadu\",\"India/Telangana\",\"India/Uttar Pradesh\",\"India/Andhra Pradesh\",\"India/Gujarat\",\"India/Haryana\",\"India/Karnataka\",\"India/Madhya Pradesh\",\"India/Maharashtra\",\"India/Others\",\"India/Punjab\",\"India/Rajasthan\",\"India/Tamil Nadu\",\"India/Telangana\",\"India/Uttar Pradesh\",\"India/Andhra Pradesh\",\"India/Gujarat\",\"India/Haryana\",\"India/Karnataka\",\"India/Madhya Pradesh\",\"India/Maharashtra\",\"India/Others\",\"India/Punjab\",\"India/Rajasthan\",\"India/Tamil Nadu\",\"India/Telangana\",\"India/Uttar Pradesh\",\"India/Andhra Pradesh\",\"India/Gujarat\",\"India/Haryana\",\"India/Karnataka\",\"India/Madhya Pradesh\",\"India/Maharashtra\",\"India/Others\",\"India/Punjab\",\"India/Rajasthan\",\"India/Tamil Nadu\",\"India/Telangana\",\"India/Uttar Pradesh\",\"India\",\"India\",\"India\",\"India\",\"India\",\"India\",\"India\",\"India\",\"India\",\"India\",\"India\",\"India\",\"\"],\"type\":\"sunburst\",\"values\":[7,9,3,12,12,4,9,3,6,7,18,2,11,8,52,21,9,4,188,398,121,924,163,438,294,889,181,2173,499,302,195,1445,331,612,869,2430,1550,3060,1078,8036,2490,1410,838,7688,2313,2888,6,7,301,838,338,722,212,1758,495,558,243,1568,522,476,54,1057,860,778,2515,1325,7776,3309,872,1917,8454,1154,2266,104,96,59,180,138,387,370,51,317,589,81,113,1759,3621,2859,5528,2387,16512,4775,3113,2738,10730,4590,5361,16,95,84,8,6,480,638,537,963,337,2552,875,605,688,1896,449,919,68,664,75,885,237,1588,258,26,185,1709,106,286,12,17,19,11,65,14,9,4,1743,686,2044,1047,5239,1430,791,341,7012,1870,701,50,7,243,102,353,277,380,160,1430,223,301,50,14,2,74,49,81,52,12,28,201,41,21,390,262,212,1314,186,1431,574,526,273,1898,389,282,4371,6737,4807,10632,4512,29787,8695,5314,3917,25430,8773,8950,26,44,21,42,31,212,39,27,11,188,21,19,1690,1243,1092,4182,1788,10131,4263,1558,2353,11782,1766,2849,969,1914,1169,2574,730,6483,1869,1465,1126,4909,1302,2007,222,774,136,1139,424,2056,680,89,530,2499,228,420,7278,10712,7225,18569,7485,48669,15546,8453,7937,44808,12090,14245,203017]}],                        {\"height\":750,\"legend\":{\"tracegroupgap\":0},\"template\":{\"data\":{\"bar\":[{\"error_x\":{\"color\":\"#2a3f5f\"},\"error_y\":{\"color\":\"#2a3f5f\"},\"marker\":{\"line\":{\"color\":\"#E5ECF6\",\"width\":0.5},\"pattern\":{\"fillmode\":\"overlay\",\"size\":10,\"solidity\":0.2}},\"type\":\"bar\"}],\"barpolar\":[{\"marker\":{\"line\":{\"color\":\"#E5ECF6\",\"width\":0.5},\"pattern\":{\"fillmode\":\"overlay\",\"size\":10,\"solidity\":0.2}},\"type\":\"barpolar\"}],\"carpet\":[{\"aaxis\":{\"endlinecolor\":\"#2a3f5f\",\"gridcolor\":\"white\",\"linecolor\":\"white\",\"minorgridcolor\":\"white\",\"startlinecolor\":\"#2a3f5f\"},\"baxis\":{\"endlinecolor\":\"#2a3f5f\",\"gridcolor\":\"white\",\"linecolor\":\"white\",\"minorgridcolor\":\"white\",\"startlinecolor\":\"#2a3f5f\"},\"type\":\"carpet\"}],\"choropleth\":[{\"colorbar\":{\"outlinewidth\":0,\"ticks\":\"\"},\"type\":\"choropleth\"}],\"contour\":[{\"colorbar\":{\"outlinewidth\":0,\"ticks\":\"\"},\"colorscale\":[[0.0,\"#0d0887\"],[0.1111111111111111,\"#46039f\"],[0.2222222222222222,\"#7201a8\"],[0.3333333333333333,\"#9c179e\"],[0.4444444444444444,\"#bd3786\"],[0.5555555555555556,\"#d8576b\"],[0.6666666666666666,\"#ed7953\"],[0.7777777777777778,\"#fb9f3a\"],[0.8888888888888888,\"#fdca26\"],[1.0,\"#f0f921\"]],\"type\":\"contour\"}],\"contourcarpet\":[{\"colorbar\":{\"outlinewidth\":0,\"ticks\":\"\"},\"type\":\"contourcarpet\"}],\"heatmap\":[{\"colorbar\":{\"outlinewidth\":0,\"ticks\":\"\"},\"colorscale\":[[0.0,\"#0d0887\"],[0.1111111111111111,\"#46039f\"],[0.2222222222222222,\"#7201a8\"],[0.3333333333333333,\"#9c179e\"],[0.4444444444444444,\"#bd3786\"],[0.5555555555555556,\"#d8576b\"],[0.6666666666666666,\"#ed7953\"],[0.7777777777777778,\"#fb9f3a\"],[0.8888888888888888,\"#fdca26\"],[1.0,\"#f0f921\"]],\"type\":\"heatmap\"}],\"heatmapgl\":[{\"colorbar\":{\"outlinewidth\":0,\"ticks\":\"\"},\"colorscale\":[[0.0,\"#0d0887\"],[0.1111111111111111,\"#46039f\"],[0.2222222222222222,\"#7201a8\"],[0.3333333333333333,\"#9c179e\"],[0.4444444444444444,\"#bd3786\"],[0.5555555555555556,\"#d8576b\"],[0.6666666666666666,\"#ed7953\"],[0.7777777777777778,\"#fb9f3a\"],[0.8888888888888888,\"#fdca26\"],[1.0,\"#f0f921\"]],\"type\":\"heatmapgl\"}],\"histogram\":[{\"marker\":{\"pattern\":{\"fillmode\":\"overlay\",\"size\":10,\"solidity\":0.2}},\"type\":\"histogram\"}],\"histogram2d\":[{\"colorbar\":{\"outlinewidth\":0,\"ticks\":\"\"},\"colorscale\":[[0.0,\"#0d0887\"],[0.1111111111111111,\"#46039f\"],[0.2222222222222222,\"#7201a8\"],[0.3333333333333333,\"#9c179e\"],[0.4444444444444444,\"#bd3786\"],[0.5555555555555556,\"#d8576b\"],[0.6666666666666666,\"#ed7953\"],[0.7777777777777778,\"#fb9f3a\"],[0.8888888888888888,\"#fdca26\"],[1.0,\"#f0f921\"]],\"type\":\"histogram2d\"}],\"histogram2dcontour\":[{\"colorbar\":{\"outlinewidth\":0,\"ticks\":\"\"},\"colorscale\":[[0.0,\"#0d0887\"],[0.1111111111111111,\"#46039f\"],[0.2222222222222222,\"#7201a8\"],[0.3333333333333333,\"#9c179e\"],[0.4444444444444444,\"#bd3786\"],[0.5555555555555556,\"#d8576b\"],[0.6666666666666666,\"#ed7953\"],[0.7777777777777778,\"#fb9f3a\"],[0.8888888888888888,\"#fdca26\"],[1.0,\"#f0f921\"]],\"type\":\"histogram2dcontour\"}],\"mesh3d\":[{\"colorbar\":{\"outlinewidth\":0,\"ticks\":\"\"},\"type\":\"mesh3d\"}],\"parcoords\":[{\"line\":{\"colorbar\":{\"outlinewidth\":0,\"ticks\":\"\"}},\"type\":\"parcoords\"}],\"pie\":[{\"automargin\":true,\"type\":\"pie\"}],\"scatter\":[{\"marker\":{\"colorbar\":{\"outlinewidth\":0,\"ticks\":\"\"}},\"type\":\"scatter\"}],\"scatter3d\":[{\"line\":{\"colorbar\":{\"outlinewidth\":0,\"ticks\":\"\"}},\"marker\":{\"colorbar\":{\"outlinewidth\":0,\"ticks\":\"\"}},\"type\":\"scatter3d\"}],\"scattercarpet\":[{\"marker\":{\"colorbar\":{\"outlinewidth\":0,\"ticks\":\"\"}},\"type\":\"scattercarpet\"}],\"scattergeo\":[{\"marker\":{\"colorbar\":{\"outlinewidth\":0,\"ticks\":\"\"}},\"type\":\"scattergeo\"}],\"scattergl\":[{\"marker\":{\"colorbar\":{\"outlinewidth\":0,\"ticks\":\"\"}},\"type\":\"scattergl\"}],\"scattermapbox\":[{\"marker\":{\"colorbar\":{\"outlinewidth\":0,\"ticks\":\"\"}},\"type\":\"scattermapbox\"}],\"scatterpolar\":[{\"marker\":{\"colorbar\":{\"outlinewidth\":0,\"ticks\":\"\"}},\"type\":\"scatterpolar\"}],\"scatterpolargl\":[{\"marker\":{\"colorbar\":{\"outlinewidth\":0,\"ticks\":\"\"}},\"type\":\"scatterpolargl\"}],\"scatterternary\":[{\"marker\":{\"colorbar\":{\"outlinewidth\":0,\"ticks\":\"\"}},\"type\":\"scatterternary\"}],\"surface\":[{\"colorbar\":{\"outlinewidth\":0,\"ticks\":\"\"},\"colorscale\":[[0.0,\"#0d0887\"],[0.1111111111111111,\"#46039f\"],[0.2222222222222222,\"#7201a8\"],[0.3333333333333333,\"#9c179e\"],[0.4444444444444444,\"#bd3786\"],[0.5555555555555556,\"#d8576b\"],[0.6666666666666666,\"#ed7953\"],[0.7777777777777778,\"#fb9f3a\"],[0.8888888888888888,\"#fdca26\"],[1.0,\"#f0f921\"]],\"type\":\"surface\"}],\"table\":[{\"cells\":{\"fill\":{\"color\":\"#EBF0F8\"},\"line\":{\"color\":\"white\"}},\"header\":{\"fill\":{\"color\":\"#C8D4E3\"},\"line\":{\"color\":\"white\"}},\"type\":\"table\"}]},\"layout\":{\"annotationdefaults\":{\"arrowcolor\":\"#2a3f5f\",\"arrowhead\":0,\"arrowwidth\":1},\"autotypenumbers\":\"strict\",\"coloraxis\":{\"colorbar\":{\"outlinewidth\":0,\"ticks\":\"\"}},\"colorscale\":{\"diverging\":[[0,\"#8e0152\"],[0.1,\"#c51b7d\"],[0.2,\"#de77ae\"],[0.3,\"#f1b6da\"],[0.4,\"#fde0ef\"],[0.5,\"#f7f7f7\"],[0.6,\"#e6f5d0\"],[0.7,\"#b8e186\"],[0.8,\"#7fbc41\"],[0.9,\"#4d9221\"],[1,\"#276419\"]],\"sequential\":[[0.0,\"#0d0887\"],[0.1111111111111111,\"#46039f\"],[0.2222222222222222,\"#7201a8\"],[0.3333333333333333,\"#9c179e\"],[0.4444444444444444,\"#bd3786\"],[0.5555555555555556,\"#d8576b\"],[0.6666666666666666,\"#ed7953\"],[0.7777777777777778,\"#fb9f3a\"],[0.8888888888888888,\"#fdca26\"],[1.0,\"#f0f921\"]],\"sequentialminus\":[[0.0,\"#0d0887\"],[0.1111111111111111,\"#46039f\"],[0.2222222222222222,\"#7201a8\"],[0.3333333333333333,\"#9c179e\"],[0.4444444444444444,\"#bd3786\"],[0.5555555555555556,\"#d8576b\"],[0.6666666666666666,\"#ed7953\"],[0.7777777777777778,\"#fb9f3a\"],[0.8888888888888888,\"#fdca26\"],[1.0,\"#f0f921\"]]},\"colorway\":[\"#636efa\",\"#EF553B\",\"#00cc96\",\"#ab63fa\",\"#FFA15A\",\"#19d3f3\",\"#FF6692\",\"#B6E880\",\"#FF97FF\",\"#FECB52\"],\"font\":{\"color\":\"#2a3f5f\"},\"geo\":{\"bgcolor\":\"white\",\"lakecolor\":\"white\",\"landcolor\":\"#E5ECF6\",\"showlakes\":true,\"showland\":true,\"subunitcolor\":\"white\"},\"hoverlabel\":{\"align\":\"left\"},\"hovermode\":\"closest\",\"mapbox\":{\"style\":\"light\"},\"paper_bgcolor\":\"white\",\"plot_bgcolor\":\"#E5ECF6\",\"polar\":{\"angularaxis\":{\"gridcolor\":\"white\",\"linecolor\":\"white\",\"ticks\":\"\"},\"bgcolor\":\"#E5ECF6\",\"radialaxis\":{\"gridcolor\":\"white\",\"linecolor\":\"white\",\"ticks\":\"\"}},\"scene\":{\"xaxis\":{\"backgroundcolor\":\"#E5ECF6\",\"gridcolor\":\"white\",\"gridwidth\":2,\"linecolor\":\"white\",\"showbackground\":true,\"ticks\":\"\",\"zerolinecolor\":\"white\"},\"yaxis\":{\"backgroundcolor\":\"#E5ECF6\",\"gridcolor\":\"white\",\"gridwidth\":2,\"linecolor\":\"white\",\"showbackground\":true,\"ticks\":\"\",\"zerolinecolor\":\"white\"},\"zaxis\":{\"backgroundcolor\":\"#E5ECF6\",\"gridcolor\":\"white\",\"gridwidth\":2,\"linecolor\":\"white\",\"showbackground\":true,\"ticks\":\"\",\"zerolinecolor\":\"white\"}},\"shapedefaults\":{\"line\":{\"color\":\"#2a3f5f\"}},\"ternary\":{\"aaxis\":{\"gridcolor\":\"white\",\"linecolor\":\"white\",\"ticks\":\"\"},\"baxis\":{\"gridcolor\":\"white\",\"linecolor\":\"white\",\"ticks\":\"\"},\"bgcolor\":\"#E5ECF6\",\"caxis\":{\"gridcolor\":\"white\",\"linecolor\":\"white\",\"ticks\":\"\"}},\"title\":{\"x\":0.05},\"xaxis\":{\"automargin\":true,\"gridcolor\":\"white\",\"linecolor\":\"white\",\"ticks\":\"\",\"title\":{\"standoff\":15},\"zerolinecolor\":\"white\",\"zerolinewidth\":2},\"yaxis\":{\"automargin\":true,\"gridcolor\":\"white\",\"linecolor\":\"white\",\"ticks\":\"\",\"title\":{\"standoff\":15},\"zerolinecolor\":\"white\",\"zerolinewidth\":2}}},\"title\":{\"text\":\"Sunburst Chart of Cars in Indian States\"},\"width\":750},                        {\"responsive\": true}                    ).then(function(){\n",
       "                            \n",
       "var gd = document.getElementById('a18fb319-b8e7-4b02-8225-48cdd6f4e338');\n",
       "var x = new MutationObserver(function (mutations, observer) {{\n",
       "        var display = window.getComputedStyle(gd).display;\n",
       "        if (!display || display === 'none') {{\n",
       "            console.log([gd, 'removed!']);\n",
       "            Plotly.purge(gd);\n",
       "            observer.disconnect();\n",
       "        }}\n",
       "}});\n",
       "\n",
       "// Listen for the removal of the full notebook cells\n",
       "var notebookContainer = gd.closest('#notebook-container');\n",
       "if (notebookContainer) {{\n",
       "    x.observe(notebookContainer, {childList: true});\n",
       "}}\n",
       "\n",
       "// Listen for the clearing of the current output cell\n",
       "var outputEl = gd.closest('.output');\n",
       "if (outputEl) {{\n",
       "    x.observe(outputEl, {childList: true});\n",
       "}}\n",
       "\n",
       "                        })                };                });            </script>        </div>"
      ]
     },
     "metadata": {},
     "output_type": "display_data"
    }
   ],
   "source": [
    "op_retail = invoice_cleaned[invoice_cleaned.cust_type == 'Retail']\n",
    "sb_df = op_retail.groupby(['district_grp', 'model_type', 'make'])[['customer_no.']].nunique()\n",
    "sb_df = sb_df['customer_no.'].groupby(['district_grp', 'model_type'], group_keys=False).nlargest(3).reset_index()\n",
    "\n",
    "sb_df['country'] = 'India'\n",
    "\n",
    "fig = px.sunburst(sb_df,\n",
    "                  path=[\"country\", \"district_grp\", \"model_type\", \"make\"],\n",
    "                  values='customer_no.',\n",
    "                  width=750, height=750,\n",
    "                  title=\"Sunburst Chart of Cars in Indian States\",\n",
    ")\n",
    "fig.update_traces(\n",
    "    hovertemplate= \"%{label} <br>Count: %{value} </br>\"\n",
    ")\n",
    "\n",
    "fig.show()\n",
    "\n",
    "fig.write_html(\"assets/cars-states-fig1.html\")"
   ]
  },
  {
   "cell_type": "markdown",
   "id": "8d79525e",
   "metadata": {},
   "source": [
    "The plot above aids us in comprehending our customer base. Before charting, the data was filtered by the `cust type` column to only include retail customers, as the ownership pattern can only be identified when the consumer owns the automobile.\n",
    "\n",
    "The majority of our consumers come from the states of Maharashtra and Tamil Nadu. This is most likely attributable to the fact that these states have more service plants. Hatchbacks are the most popular category in the country, followed by SUVs. Maruti Suzuki is the most popular car brand among our consumers. A luxury automobile is owned only by a small percentage of clients.\n",
    "\n",
    "The above observations suggest that the majority of our customers are from the middle class."
   ]
  },
  {
   "cell_type": "markdown",
   "id": "ca46b14a",
   "metadata": {},
   "source": [
    "## Order types and Service Times"
   ]
  },
  {
   "cell_type": "markdown",
   "id": "7a85ec8b",
   "metadata": {},
   "source": [
    "We'll need some feature engineering before moving on to the next problem statement. The difference (in hours) between the columns `JobCardDateTime` - signifies the time when the automobile arrived for service, and `InvoiceDateTime` - shows the time when the invoice was created, is used to create a new column called `service time hrs`.\n",
    "\n",
    "This new feature indicates the amount of time, in hours, taken to perform the service."
   ]
  },
  {
   "cell_type": "code",
   "execution_count": 22,
   "id": "bfbb80c7",
   "metadata": {
    "ExecuteTime": {
     "end_time": "2021-11-25T21:29:22.446113Z",
     "start_time": "2021-11-25T21:29:22.275963Z"
    }
   },
   "outputs": [],
   "source": [
    "invoice_cleaned['InvoiceDateTime'] = pd.to_datetime(invoice_df['Invoice Date']+' '+invoice_df['Invoice Time'])\n",
    "invoice_cleaned['JobCardDateTime'] = pd.to_datetime(invoice_df['JobCard Date']+' '+invoice_df['JobCard Time'])"
   ]
  },
  {
   "cell_type": "code",
   "execution_count": 23,
   "id": "975a4663",
   "metadata": {
    "ExecuteTime": {
     "end_time": "2021-11-25T21:29:22.456708Z",
     "start_time": "2021-11-25T21:29:22.447177Z"
    }
   },
   "outputs": [],
   "source": [
    "invoice_cleaned['service_time'] = invoice_cleaned['InvoiceDateTime'] - invoice_cleaned['JobCardDateTime']\n",
    "invoice_cleaned[\"service_time_hrs\"]=invoice_cleaned[\"service_time\"]/np.timedelta64(1, 'h')"
   ]
  },
  {
   "cell_type": "markdown",
   "id": "30cbd281",
   "metadata": {},
   "source": [
    "To determine the frequency and average service time, the above figure was created by grouping on the `order type` column and getting the average and count of the `service_time_hrs` column. To decrease the impact of outliers, the median was utilised to calculate the average."
   ]
  },
  {
   "cell_type": "code",
   "execution_count": 24,
   "id": "6c8e35e7",
   "metadata": {
    "ExecuteTime": {
     "end_time": "2021-11-25T21:29:22.558268Z",
     "start_time": "2021-11-25T21:29:22.458063Z"
    }
   },
   "outputs": [
    {
     "data": {
      "application/vnd.plotly.v1+json": {
       "config": {
        "plotlyServerURL": "https://plot.ly"
       },
       "data": [
        {
         "alignmentgroup": "True",
         "hovertemplate": "Count=%{x}<br>Order Type=%{y}<br>Median Hours=%{marker.color}<extra></extra>",
         "legendgroup": "",
         "marker": {
          "color": [
           101.16,
           9.15,
           23.57,
           4.3,
           6.12,
           7.14,
           0.23
          ],
          "coloraxis": "coloraxis",
          "pattern": {
           "shape": ""
          }
         },
         "name": "",
         "offsetgroup": "",
         "orientation": "h",
         "showlegend": false,
         "textposition": "auto",
         "type": "bar",
         "x": [
          44159,
          15100,
          135004,
          3043,
          269455,
          15738,
          9781
         ],
         "xaxis": "x",
         "y": [
          "Accidental",
          "Mechanical",
          "Paid Service",
          "Repeat Order",
          "Running Repairs",
          "SMC Redemption",
          "SMC Value Package"
         ],
         "yaxis": "y"
        }
       ],
       "layout": {
        "barmode": "relative",
        "coloraxis": {
         "colorbar": {
          "title": {
           "text": "Median Hours"
          }
         },
         "colorscale": [
          [
           0,
           "#440154"
          ],
          [
           0.1111111111111111,
           "#482878"
          ],
          [
           0.2222222222222222,
           "#3e4989"
          ],
          [
           0.3333333333333333,
           "#31688e"
          ],
          [
           0.4444444444444444,
           "#26828e"
          ],
          [
           0.5555555555555556,
           "#1f9e89"
          ],
          [
           0.6666666666666666,
           "#35b779"
          ],
          [
           0.7777777777777778,
           "#6ece58"
          ],
          [
           0.8888888888888888,
           "#b5de2b"
          ],
          [
           1,
           "#fde725"
          ]
         ]
        },
        "legend": {
         "tracegroupgap": 0
        },
        "template": {
         "data": {
          "bar": [
           {
            "error_x": {
             "color": "rgb(36,36,36)"
            },
            "error_y": {
             "color": "rgb(36,36,36)"
            },
            "marker": {
             "line": {
              "color": "white",
              "width": 0.5
             },
             "pattern": {
              "fillmode": "overlay",
              "size": 10,
              "solidity": 0.2
             }
            },
            "type": "bar"
           }
          ],
          "barpolar": [
           {
            "marker": {
             "line": {
              "color": "white",
              "width": 0.5
             },
             "pattern": {
              "fillmode": "overlay",
              "size": 10,
              "solidity": 0.2
             }
            },
            "type": "barpolar"
           }
          ],
          "carpet": [
           {
            "aaxis": {
             "endlinecolor": "rgb(36,36,36)",
             "gridcolor": "white",
             "linecolor": "white",
             "minorgridcolor": "white",
             "startlinecolor": "rgb(36,36,36)"
            },
            "baxis": {
             "endlinecolor": "rgb(36,36,36)",
             "gridcolor": "white",
             "linecolor": "white",
             "minorgridcolor": "white",
             "startlinecolor": "rgb(36,36,36)"
            },
            "type": "carpet"
           }
          ],
          "choropleth": [
           {
            "colorbar": {
             "outlinewidth": 1,
             "tickcolor": "rgb(36,36,36)",
             "ticks": "outside"
            },
            "type": "choropleth"
           }
          ],
          "contour": [
           {
            "colorbar": {
             "outlinewidth": 1,
             "tickcolor": "rgb(36,36,36)",
             "ticks": "outside"
            },
            "colorscale": [
             [
              0,
              "#440154"
             ],
             [
              0.1111111111111111,
              "#482878"
             ],
             [
              0.2222222222222222,
              "#3e4989"
             ],
             [
              0.3333333333333333,
              "#31688e"
             ],
             [
              0.4444444444444444,
              "#26828e"
             ],
             [
              0.5555555555555556,
              "#1f9e89"
             ],
             [
              0.6666666666666666,
              "#35b779"
             ],
             [
              0.7777777777777778,
              "#6ece58"
             ],
             [
              0.8888888888888888,
              "#b5de2b"
             ],
             [
              1,
              "#fde725"
             ]
            ],
            "type": "contour"
           }
          ],
          "contourcarpet": [
           {
            "colorbar": {
             "outlinewidth": 1,
             "tickcolor": "rgb(36,36,36)",
             "ticks": "outside"
            },
            "type": "contourcarpet"
           }
          ],
          "heatmap": [
           {
            "colorbar": {
             "outlinewidth": 1,
             "tickcolor": "rgb(36,36,36)",
             "ticks": "outside"
            },
            "colorscale": [
             [
              0,
              "#440154"
             ],
             [
              0.1111111111111111,
              "#482878"
             ],
             [
              0.2222222222222222,
              "#3e4989"
             ],
             [
              0.3333333333333333,
              "#31688e"
             ],
             [
              0.4444444444444444,
              "#26828e"
             ],
             [
              0.5555555555555556,
              "#1f9e89"
             ],
             [
              0.6666666666666666,
              "#35b779"
             ],
             [
              0.7777777777777778,
              "#6ece58"
             ],
             [
              0.8888888888888888,
              "#b5de2b"
             ],
             [
              1,
              "#fde725"
             ]
            ],
            "type": "heatmap"
           }
          ],
          "heatmapgl": [
           {
            "colorbar": {
             "outlinewidth": 1,
             "tickcolor": "rgb(36,36,36)",
             "ticks": "outside"
            },
            "colorscale": [
             [
              0,
              "#440154"
             ],
             [
              0.1111111111111111,
              "#482878"
             ],
             [
              0.2222222222222222,
              "#3e4989"
             ],
             [
              0.3333333333333333,
              "#31688e"
             ],
             [
              0.4444444444444444,
              "#26828e"
             ],
             [
              0.5555555555555556,
              "#1f9e89"
             ],
             [
              0.6666666666666666,
              "#35b779"
             ],
             [
              0.7777777777777778,
              "#6ece58"
             ],
             [
              0.8888888888888888,
              "#b5de2b"
             ],
             [
              1,
              "#fde725"
             ]
            ],
            "type": "heatmapgl"
           }
          ],
          "histogram": [
           {
            "marker": {
             "line": {
              "color": "white",
              "width": 0.6
             }
            },
            "type": "histogram"
           }
          ],
          "histogram2d": [
           {
            "colorbar": {
             "outlinewidth": 1,
             "tickcolor": "rgb(36,36,36)",
             "ticks": "outside"
            },
            "colorscale": [
             [
              0,
              "#440154"
             ],
             [
              0.1111111111111111,
              "#482878"
             ],
             [
              0.2222222222222222,
              "#3e4989"
             ],
             [
              0.3333333333333333,
              "#31688e"
             ],
             [
              0.4444444444444444,
              "#26828e"
             ],
             [
              0.5555555555555556,
              "#1f9e89"
             ],
             [
              0.6666666666666666,
              "#35b779"
             ],
             [
              0.7777777777777778,
              "#6ece58"
             ],
             [
              0.8888888888888888,
              "#b5de2b"
             ],
             [
              1,
              "#fde725"
             ]
            ],
            "type": "histogram2d"
           }
          ],
          "histogram2dcontour": [
           {
            "colorbar": {
             "outlinewidth": 1,
             "tickcolor": "rgb(36,36,36)",
             "ticks": "outside"
            },
            "colorscale": [
             [
              0,
              "#440154"
             ],
             [
              0.1111111111111111,
              "#482878"
             ],
             [
              0.2222222222222222,
              "#3e4989"
             ],
             [
              0.3333333333333333,
              "#31688e"
             ],
             [
              0.4444444444444444,
              "#26828e"
             ],
             [
              0.5555555555555556,
              "#1f9e89"
             ],
             [
              0.6666666666666666,
              "#35b779"
             ],
             [
              0.7777777777777778,
              "#6ece58"
             ],
             [
              0.8888888888888888,
              "#b5de2b"
             ],
             [
              1,
              "#fde725"
             ]
            ],
            "type": "histogram2dcontour"
           }
          ],
          "mesh3d": [
           {
            "colorbar": {
             "outlinewidth": 1,
             "tickcolor": "rgb(36,36,36)",
             "ticks": "outside"
            },
            "type": "mesh3d"
           }
          ],
          "parcoords": [
           {
            "line": {
             "colorbar": {
              "outlinewidth": 1,
              "tickcolor": "rgb(36,36,36)",
              "ticks": "outside"
             }
            },
            "type": "parcoords"
           }
          ],
          "pie": [
           {
            "automargin": true,
            "type": "pie"
           }
          ],
          "scatter": [
           {
            "marker": {
             "colorbar": {
              "outlinewidth": 1,
              "tickcolor": "rgb(36,36,36)",
              "ticks": "outside"
             }
            },
            "type": "scatter"
           }
          ],
          "scatter3d": [
           {
            "line": {
             "colorbar": {
              "outlinewidth": 1,
              "tickcolor": "rgb(36,36,36)",
              "ticks": "outside"
             }
            },
            "marker": {
             "colorbar": {
              "outlinewidth": 1,
              "tickcolor": "rgb(36,36,36)",
              "ticks": "outside"
             }
            },
            "type": "scatter3d"
           }
          ],
          "scattercarpet": [
           {
            "marker": {
             "colorbar": {
              "outlinewidth": 1,
              "tickcolor": "rgb(36,36,36)",
              "ticks": "outside"
             }
            },
            "type": "scattercarpet"
           }
          ],
          "scattergeo": [
           {
            "marker": {
             "colorbar": {
              "outlinewidth": 1,
              "tickcolor": "rgb(36,36,36)",
              "ticks": "outside"
             }
            },
            "type": "scattergeo"
           }
          ],
          "scattergl": [
           {
            "marker": {
             "colorbar": {
              "outlinewidth": 1,
              "tickcolor": "rgb(36,36,36)",
              "ticks": "outside"
             }
            },
            "type": "scattergl"
           }
          ],
          "scattermapbox": [
           {
            "marker": {
             "colorbar": {
              "outlinewidth": 1,
              "tickcolor": "rgb(36,36,36)",
              "ticks": "outside"
             }
            },
            "type": "scattermapbox"
           }
          ],
          "scatterpolar": [
           {
            "marker": {
             "colorbar": {
              "outlinewidth": 1,
              "tickcolor": "rgb(36,36,36)",
              "ticks": "outside"
             }
            },
            "type": "scatterpolar"
           }
          ],
          "scatterpolargl": [
           {
            "marker": {
             "colorbar": {
              "outlinewidth": 1,
              "tickcolor": "rgb(36,36,36)",
              "ticks": "outside"
             }
            },
            "type": "scatterpolargl"
           }
          ],
          "scatterternary": [
           {
            "marker": {
             "colorbar": {
              "outlinewidth": 1,
              "tickcolor": "rgb(36,36,36)",
              "ticks": "outside"
             }
            },
            "type": "scatterternary"
           }
          ],
          "surface": [
           {
            "colorbar": {
             "outlinewidth": 1,
             "tickcolor": "rgb(36,36,36)",
             "ticks": "outside"
            },
            "colorscale": [
             [
              0,
              "#440154"
             ],
             [
              0.1111111111111111,
              "#482878"
             ],
             [
              0.2222222222222222,
              "#3e4989"
             ],
             [
              0.3333333333333333,
              "#31688e"
             ],
             [
              0.4444444444444444,
              "#26828e"
             ],
             [
              0.5555555555555556,
              "#1f9e89"
             ],
             [
              0.6666666666666666,
              "#35b779"
             ],
             [
              0.7777777777777778,
              "#6ece58"
             ],
             [
              0.8888888888888888,
              "#b5de2b"
             ],
             [
              1,
              "#fde725"
             ]
            ],
            "type": "surface"
           }
          ],
          "table": [
           {
            "cells": {
             "fill": {
              "color": "rgb(237,237,237)"
             },
             "line": {
              "color": "white"
             }
            },
            "header": {
             "fill": {
              "color": "rgb(217,217,217)"
             },
             "line": {
              "color": "white"
             }
            },
            "type": "table"
           }
          ]
         },
         "layout": {
          "annotationdefaults": {
           "arrowhead": 0,
           "arrowwidth": 1
          },
          "autotypenumbers": "strict",
          "coloraxis": {
           "colorbar": {
            "outlinewidth": 1,
            "tickcolor": "rgb(36,36,36)",
            "ticks": "outside"
           }
          },
          "colorscale": {
           "diverging": [
            [
             0,
             "rgb(103,0,31)"
            ],
            [
             0.1,
             "rgb(178,24,43)"
            ],
            [
             0.2,
             "rgb(214,96,77)"
            ],
            [
             0.3,
             "rgb(244,165,130)"
            ],
            [
             0.4,
             "rgb(253,219,199)"
            ],
            [
             0.5,
             "rgb(247,247,247)"
            ],
            [
             0.6,
             "rgb(209,229,240)"
            ],
            [
             0.7,
             "rgb(146,197,222)"
            ],
            [
             0.8,
             "rgb(67,147,195)"
            ],
            [
             0.9,
             "rgb(33,102,172)"
            ],
            [
             1,
             "rgb(5,48,97)"
            ]
           ],
           "sequential": [
            [
             0,
             "#440154"
            ],
            [
             0.1111111111111111,
             "#482878"
            ],
            [
             0.2222222222222222,
             "#3e4989"
            ],
            [
             0.3333333333333333,
             "#31688e"
            ],
            [
             0.4444444444444444,
             "#26828e"
            ],
            [
             0.5555555555555556,
             "#1f9e89"
            ],
            [
             0.6666666666666666,
             "#35b779"
            ],
            [
             0.7777777777777778,
             "#6ece58"
            ],
            [
             0.8888888888888888,
             "#b5de2b"
            ],
            [
             1,
             "#fde725"
            ]
           ],
           "sequentialminus": [
            [
             0,
             "#440154"
            ],
            [
             0.1111111111111111,
             "#482878"
            ],
            [
             0.2222222222222222,
             "#3e4989"
            ],
            [
             0.3333333333333333,
             "#31688e"
            ],
            [
             0.4444444444444444,
             "#26828e"
            ],
            [
             0.5555555555555556,
             "#1f9e89"
            ],
            [
             0.6666666666666666,
             "#35b779"
            ],
            [
             0.7777777777777778,
             "#6ece58"
            ],
            [
             0.8888888888888888,
             "#b5de2b"
            ],
            [
             1,
             "#fde725"
            ]
           ]
          },
          "colorway": [
           "#1F77B4",
           "#FF7F0E",
           "#2CA02C",
           "#D62728",
           "#9467BD",
           "#8C564B",
           "#E377C2",
           "#7F7F7F",
           "#BCBD22",
           "#17BECF"
          ],
          "font": {
           "color": "rgb(36,36,36)"
          },
          "geo": {
           "bgcolor": "white",
           "lakecolor": "white",
           "landcolor": "white",
           "showlakes": true,
           "showland": true,
           "subunitcolor": "white"
          },
          "hoverlabel": {
           "align": "left"
          },
          "hovermode": "closest",
          "mapbox": {
           "style": "light"
          },
          "paper_bgcolor": "white",
          "plot_bgcolor": "white",
          "polar": {
           "angularaxis": {
            "gridcolor": "rgb(232,232,232)",
            "linecolor": "rgb(36,36,36)",
            "showgrid": false,
            "showline": true,
            "ticks": "outside"
           },
           "bgcolor": "white",
           "radialaxis": {
            "gridcolor": "rgb(232,232,232)",
            "linecolor": "rgb(36,36,36)",
            "showgrid": false,
            "showline": true,
            "ticks": "outside"
           }
          },
          "scene": {
           "xaxis": {
            "backgroundcolor": "white",
            "gridcolor": "rgb(232,232,232)",
            "gridwidth": 2,
            "linecolor": "rgb(36,36,36)",
            "showbackground": true,
            "showgrid": false,
            "showline": true,
            "ticks": "outside",
            "zeroline": false,
            "zerolinecolor": "rgb(36,36,36)"
           },
           "yaxis": {
            "backgroundcolor": "white",
            "gridcolor": "rgb(232,232,232)",
            "gridwidth": 2,
            "linecolor": "rgb(36,36,36)",
            "showbackground": true,
            "showgrid": false,
            "showline": true,
            "ticks": "outside",
            "zeroline": false,
            "zerolinecolor": "rgb(36,36,36)"
           },
           "zaxis": {
            "backgroundcolor": "white",
            "gridcolor": "rgb(232,232,232)",
            "gridwidth": 2,
            "linecolor": "rgb(36,36,36)",
            "showbackground": true,
            "showgrid": false,
            "showline": true,
            "ticks": "outside",
            "zeroline": false,
            "zerolinecolor": "rgb(36,36,36)"
           }
          },
          "shapedefaults": {
           "fillcolor": "black",
           "line": {
            "width": 0
           },
           "opacity": 0.3
          },
          "ternary": {
           "aaxis": {
            "gridcolor": "rgb(232,232,232)",
            "linecolor": "rgb(36,36,36)",
            "showgrid": false,
            "showline": true,
            "ticks": "outside"
           },
           "baxis": {
            "gridcolor": "rgb(232,232,232)",
            "linecolor": "rgb(36,36,36)",
            "showgrid": false,
            "showline": true,
            "ticks": "outside"
           },
           "bgcolor": "white",
           "caxis": {
            "gridcolor": "rgb(232,232,232)",
            "linecolor": "rgb(36,36,36)",
            "showgrid": false,
            "showline": true,
            "ticks": "outside"
           }
          },
          "title": {
           "x": 0.05
          },
          "xaxis": {
           "automargin": true,
           "gridcolor": "rgb(232,232,232)",
           "linecolor": "rgb(36,36,36)",
           "showgrid": false,
           "showline": true,
           "ticks": "outside",
           "title": {
            "standoff": 15
           },
           "zeroline": false,
           "zerolinecolor": "rgb(36,36,36)"
          },
          "yaxis": {
           "automargin": true,
           "gridcolor": "rgb(232,232,232)",
           "linecolor": "rgb(36,36,36)",
           "showgrid": false,
           "showline": true,
           "ticks": "outside",
           "title": {
            "standoff": 15
           },
           "zeroline": false,
           "zerolinecolor": "rgb(36,36,36)"
          }
         }
        },
        "title": {
         "text": "Frequency of Type of Orders Received Colored by Average Service Time"
        },
        "xaxis": {
         "anchor": "y",
         "domain": [
          0,
          1
         ],
         "title": {
          "text": "Count"
         }
        },
        "yaxis": {
         "anchor": "x",
         "domain": [
          0,
          1
         ],
         "title": {
          "text": "Order Type"
         }
        }
       }
      },
      "text/html": [
       "<div>                            <div id=\"20154c71-c66c-4346-bc7b-c47a2ab62df0\" class=\"plotly-graph-div\" style=\"height:525px; width:100%;\"></div>            <script type=\"text/javascript\">                require([\"plotly\"], function(Plotly) {                    window.PLOTLYENV=window.PLOTLYENV || {};                                    if (document.getElementById(\"20154c71-c66c-4346-bc7b-c47a2ab62df0\")) {                    Plotly.newPlot(                        \"20154c71-c66c-4346-bc7b-c47a2ab62df0\",                        [{\"alignmentgroup\":\"True\",\"hovertemplate\":\"Count=%{x}<br>Order Type=%{y}<br>Median Hours=%{marker.color}<extra></extra>\",\"legendgroup\":\"\",\"marker\":{\"color\":[101.16,9.15,23.57,4.3,6.12,7.14,0.23],\"coloraxis\":\"coloraxis\",\"pattern\":{\"shape\":\"\"}},\"name\":\"\",\"offsetgroup\":\"\",\"orientation\":\"h\",\"showlegend\":false,\"textposition\":\"auto\",\"type\":\"bar\",\"x\":[44159,15100,135004,3043,269455,15738,9781],\"xaxis\":\"x\",\"y\":[\"Accidental\",\"Mechanical\",\"Paid Service\",\"Repeat Order\",\"Running Repairs\",\"SMC Redemption\",\"SMC Value Package\"],\"yaxis\":\"y\"}],                        {\"barmode\":\"relative\",\"coloraxis\":{\"colorbar\":{\"title\":{\"text\":\"Median Hours\"}},\"colorscale\":[[0.0,\"#440154\"],[0.1111111111111111,\"#482878\"],[0.2222222222222222,\"#3e4989\"],[0.3333333333333333,\"#31688e\"],[0.4444444444444444,\"#26828e\"],[0.5555555555555556,\"#1f9e89\"],[0.6666666666666666,\"#35b779\"],[0.7777777777777778,\"#6ece58\"],[0.8888888888888888,\"#b5de2b\"],[1.0,\"#fde725\"]]},\"legend\":{\"tracegroupgap\":0},\"template\":{\"data\":{\"bar\":[{\"error_x\":{\"color\":\"rgb(36,36,36)\"},\"error_y\":{\"color\":\"rgb(36,36,36)\"},\"marker\":{\"line\":{\"color\":\"white\",\"width\":0.5},\"pattern\":{\"fillmode\":\"overlay\",\"size\":10,\"solidity\":0.2}},\"type\":\"bar\"}],\"barpolar\":[{\"marker\":{\"line\":{\"color\":\"white\",\"width\":0.5},\"pattern\":{\"fillmode\":\"overlay\",\"size\":10,\"solidity\":0.2}},\"type\":\"barpolar\"}],\"carpet\":[{\"aaxis\":{\"endlinecolor\":\"rgb(36,36,36)\",\"gridcolor\":\"white\",\"linecolor\":\"white\",\"minorgridcolor\":\"white\",\"startlinecolor\":\"rgb(36,36,36)\"},\"baxis\":{\"endlinecolor\":\"rgb(36,36,36)\",\"gridcolor\":\"white\",\"linecolor\":\"white\",\"minorgridcolor\":\"white\",\"startlinecolor\":\"rgb(36,36,36)\"},\"type\":\"carpet\"}],\"choropleth\":[{\"colorbar\":{\"outlinewidth\":1,\"tickcolor\":\"rgb(36,36,36)\",\"ticks\":\"outside\"},\"type\":\"choropleth\"}],\"contour\":[{\"colorbar\":{\"outlinewidth\":1,\"tickcolor\":\"rgb(36,36,36)\",\"ticks\":\"outside\"},\"colorscale\":[[0.0,\"#440154\"],[0.1111111111111111,\"#482878\"],[0.2222222222222222,\"#3e4989\"],[0.3333333333333333,\"#31688e\"],[0.4444444444444444,\"#26828e\"],[0.5555555555555556,\"#1f9e89\"],[0.6666666666666666,\"#35b779\"],[0.7777777777777778,\"#6ece58\"],[0.8888888888888888,\"#b5de2b\"],[1.0,\"#fde725\"]],\"type\":\"contour\"}],\"contourcarpet\":[{\"colorbar\":{\"outlinewidth\":1,\"tickcolor\":\"rgb(36,36,36)\",\"ticks\":\"outside\"},\"type\":\"contourcarpet\"}],\"heatmap\":[{\"colorbar\":{\"outlinewidth\":1,\"tickcolor\":\"rgb(36,36,36)\",\"ticks\":\"outside\"},\"colorscale\":[[0.0,\"#440154\"],[0.1111111111111111,\"#482878\"],[0.2222222222222222,\"#3e4989\"],[0.3333333333333333,\"#31688e\"],[0.4444444444444444,\"#26828e\"],[0.5555555555555556,\"#1f9e89\"],[0.6666666666666666,\"#35b779\"],[0.7777777777777778,\"#6ece58\"],[0.8888888888888888,\"#b5de2b\"],[1.0,\"#fde725\"]],\"type\":\"heatmap\"}],\"heatmapgl\":[{\"colorbar\":{\"outlinewidth\":1,\"tickcolor\":\"rgb(36,36,36)\",\"ticks\":\"outside\"},\"colorscale\":[[0.0,\"#440154\"],[0.1111111111111111,\"#482878\"],[0.2222222222222222,\"#3e4989\"],[0.3333333333333333,\"#31688e\"],[0.4444444444444444,\"#26828e\"],[0.5555555555555556,\"#1f9e89\"],[0.6666666666666666,\"#35b779\"],[0.7777777777777778,\"#6ece58\"],[0.8888888888888888,\"#b5de2b\"],[1.0,\"#fde725\"]],\"type\":\"heatmapgl\"}],\"histogram\":[{\"marker\":{\"line\":{\"color\":\"white\",\"width\":0.6}},\"type\":\"histogram\"}],\"histogram2d\":[{\"colorbar\":{\"outlinewidth\":1,\"tickcolor\":\"rgb(36,36,36)\",\"ticks\":\"outside\"},\"colorscale\":[[0.0,\"#440154\"],[0.1111111111111111,\"#482878\"],[0.2222222222222222,\"#3e4989\"],[0.3333333333333333,\"#31688e\"],[0.4444444444444444,\"#26828e\"],[0.5555555555555556,\"#1f9e89\"],[0.6666666666666666,\"#35b779\"],[0.7777777777777778,\"#6ece58\"],[0.8888888888888888,\"#b5de2b\"],[1.0,\"#fde725\"]],\"type\":\"histogram2d\"}],\"histogram2dcontour\":[{\"colorbar\":{\"outlinewidth\":1,\"tickcolor\":\"rgb(36,36,36)\",\"ticks\":\"outside\"},\"colorscale\":[[0.0,\"#440154\"],[0.1111111111111111,\"#482878\"],[0.2222222222222222,\"#3e4989\"],[0.3333333333333333,\"#31688e\"],[0.4444444444444444,\"#26828e\"],[0.5555555555555556,\"#1f9e89\"],[0.6666666666666666,\"#35b779\"],[0.7777777777777778,\"#6ece58\"],[0.8888888888888888,\"#b5de2b\"],[1.0,\"#fde725\"]],\"type\":\"histogram2dcontour\"}],\"mesh3d\":[{\"colorbar\":{\"outlinewidth\":1,\"tickcolor\":\"rgb(36,36,36)\",\"ticks\":\"outside\"},\"type\":\"mesh3d\"}],\"parcoords\":[{\"line\":{\"colorbar\":{\"outlinewidth\":1,\"tickcolor\":\"rgb(36,36,36)\",\"ticks\":\"outside\"}},\"type\":\"parcoords\"}],\"pie\":[{\"automargin\":true,\"type\":\"pie\"}],\"scatter\":[{\"marker\":{\"colorbar\":{\"outlinewidth\":1,\"tickcolor\":\"rgb(36,36,36)\",\"ticks\":\"outside\"}},\"type\":\"scatter\"}],\"scatter3d\":[{\"line\":{\"colorbar\":{\"outlinewidth\":1,\"tickcolor\":\"rgb(36,36,36)\",\"ticks\":\"outside\"}},\"marker\":{\"colorbar\":{\"outlinewidth\":1,\"tickcolor\":\"rgb(36,36,36)\",\"ticks\":\"outside\"}},\"type\":\"scatter3d\"}],\"scattercarpet\":[{\"marker\":{\"colorbar\":{\"outlinewidth\":1,\"tickcolor\":\"rgb(36,36,36)\",\"ticks\":\"outside\"}},\"type\":\"scattercarpet\"}],\"scattergeo\":[{\"marker\":{\"colorbar\":{\"outlinewidth\":1,\"tickcolor\":\"rgb(36,36,36)\",\"ticks\":\"outside\"}},\"type\":\"scattergeo\"}],\"scattergl\":[{\"marker\":{\"colorbar\":{\"outlinewidth\":1,\"tickcolor\":\"rgb(36,36,36)\",\"ticks\":\"outside\"}},\"type\":\"scattergl\"}],\"scattermapbox\":[{\"marker\":{\"colorbar\":{\"outlinewidth\":1,\"tickcolor\":\"rgb(36,36,36)\",\"ticks\":\"outside\"}},\"type\":\"scattermapbox\"}],\"scatterpolar\":[{\"marker\":{\"colorbar\":{\"outlinewidth\":1,\"tickcolor\":\"rgb(36,36,36)\",\"ticks\":\"outside\"}},\"type\":\"scatterpolar\"}],\"scatterpolargl\":[{\"marker\":{\"colorbar\":{\"outlinewidth\":1,\"tickcolor\":\"rgb(36,36,36)\",\"ticks\":\"outside\"}},\"type\":\"scatterpolargl\"}],\"scatterternary\":[{\"marker\":{\"colorbar\":{\"outlinewidth\":1,\"tickcolor\":\"rgb(36,36,36)\",\"ticks\":\"outside\"}},\"type\":\"scatterternary\"}],\"surface\":[{\"colorbar\":{\"outlinewidth\":1,\"tickcolor\":\"rgb(36,36,36)\",\"ticks\":\"outside\"},\"colorscale\":[[0.0,\"#440154\"],[0.1111111111111111,\"#482878\"],[0.2222222222222222,\"#3e4989\"],[0.3333333333333333,\"#31688e\"],[0.4444444444444444,\"#26828e\"],[0.5555555555555556,\"#1f9e89\"],[0.6666666666666666,\"#35b779\"],[0.7777777777777778,\"#6ece58\"],[0.8888888888888888,\"#b5de2b\"],[1.0,\"#fde725\"]],\"type\":\"surface\"}],\"table\":[{\"cells\":{\"fill\":{\"color\":\"rgb(237,237,237)\"},\"line\":{\"color\":\"white\"}},\"header\":{\"fill\":{\"color\":\"rgb(217,217,217)\"},\"line\":{\"color\":\"white\"}},\"type\":\"table\"}]},\"layout\":{\"annotationdefaults\":{\"arrowhead\":0,\"arrowwidth\":1},\"autotypenumbers\":\"strict\",\"coloraxis\":{\"colorbar\":{\"outlinewidth\":1,\"tickcolor\":\"rgb(36,36,36)\",\"ticks\":\"outside\"}},\"colorscale\":{\"diverging\":[[0.0,\"rgb(103,0,31)\"],[0.1,\"rgb(178,24,43)\"],[0.2,\"rgb(214,96,77)\"],[0.3,\"rgb(244,165,130)\"],[0.4,\"rgb(253,219,199)\"],[0.5,\"rgb(247,247,247)\"],[0.6,\"rgb(209,229,240)\"],[0.7,\"rgb(146,197,222)\"],[0.8,\"rgb(67,147,195)\"],[0.9,\"rgb(33,102,172)\"],[1.0,\"rgb(5,48,97)\"]],\"sequential\":[[0.0,\"#440154\"],[0.1111111111111111,\"#482878\"],[0.2222222222222222,\"#3e4989\"],[0.3333333333333333,\"#31688e\"],[0.4444444444444444,\"#26828e\"],[0.5555555555555556,\"#1f9e89\"],[0.6666666666666666,\"#35b779\"],[0.7777777777777778,\"#6ece58\"],[0.8888888888888888,\"#b5de2b\"],[1.0,\"#fde725\"]],\"sequentialminus\":[[0.0,\"#440154\"],[0.1111111111111111,\"#482878\"],[0.2222222222222222,\"#3e4989\"],[0.3333333333333333,\"#31688e\"],[0.4444444444444444,\"#26828e\"],[0.5555555555555556,\"#1f9e89\"],[0.6666666666666666,\"#35b779\"],[0.7777777777777778,\"#6ece58\"],[0.8888888888888888,\"#b5de2b\"],[1.0,\"#fde725\"]]},\"colorway\":[\"#1F77B4\",\"#FF7F0E\",\"#2CA02C\",\"#D62728\",\"#9467BD\",\"#8C564B\",\"#E377C2\",\"#7F7F7F\",\"#BCBD22\",\"#17BECF\"],\"font\":{\"color\":\"rgb(36,36,36)\"},\"geo\":{\"bgcolor\":\"white\",\"lakecolor\":\"white\",\"landcolor\":\"white\",\"showlakes\":true,\"showland\":true,\"subunitcolor\":\"white\"},\"hoverlabel\":{\"align\":\"left\"},\"hovermode\":\"closest\",\"mapbox\":{\"style\":\"light\"},\"paper_bgcolor\":\"white\",\"plot_bgcolor\":\"white\",\"polar\":{\"angularaxis\":{\"gridcolor\":\"rgb(232,232,232)\",\"linecolor\":\"rgb(36,36,36)\",\"showgrid\":false,\"showline\":true,\"ticks\":\"outside\"},\"bgcolor\":\"white\",\"radialaxis\":{\"gridcolor\":\"rgb(232,232,232)\",\"linecolor\":\"rgb(36,36,36)\",\"showgrid\":false,\"showline\":true,\"ticks\":\"outside\"}},\"scene\":{\"xaxis\":{\"backgroundcolor\":\"white\",\"gridcolor\":\"rgb(232,232,232)\",\"gridwidth\":2,\"linecolor\":\"rgb(36,36,36)\",\"showbackground\":true,\"showgrid\":false,\"showline\":true,\"ticks\":\"outside\",\"zeroline\":false,\"zerolinecolor\":\"rgb(36,36,36)\"},\"yaxis\":{\"backgroundcolor\":\"white\",\"gridcolor\":\"rgb(232,232,232)\",\"gridwidth\":2,\"linecolor\":\"rgb(36,36,36)\",\"showbackground\":true,\"showgrid\":false,\"showline\":true,\"ticks\":\"outside\",\"zeroline\":false,\"zerolinecolor\":\"rgb(36,36,36)\"},\"zaxis\":{\"backgroundcolor\":\"white\",\"gridcolor\":\"rgb(232,232,232)\",\"gridwidth\":2,\"linecolor\":\"rgb(36,36,36)\",\"showbackground\":true,\"showgrid\":false,\"showline\":true,\"ticks\":\"outside\",\"zeroline\":false,\"zerolinecolor\":\"rgb(36,36,36)\"}},\"shapedefaults\":{\"fillcolor\":\"black\",\"line\":{\"width\":0},\"opacity\":0.3},\"ternary\":{\"aaxis\":{\"gridcolor\":\"rgb(232,232,232)\",\"linecolor\":\"rgb(36,36,36)\",\"showgrid\":false,\"showline\":true,\"ticks\":\"outside\"},\"baxis\":{\"gridcolor\":\"rgb(232,232,232)\",\"linecolor\":\"rgb(36,36,36)\",\"showgrid\":false,\"showline\":true,\"ticks\":\"outside\"},\"bgcolor\":\"white\",\"caxis\":{\"gridcolor\":\"rgb(232,232,232)\",\"linecolor\":\"rgb(36,36,36)\",\"showgrid\":false,\"showline\":true,\"ticks\":\"outside\"}},\"title\":{\"x\":0.05},\"xaxis\":{\"automargin\":true,\"gridcolor\":\"rgb(232,232,232)\",\"linecolor\":\"rgb(36,36,36)\",\"showgrid\":false,\"showline\":true,\"ticks\":\"outside\",\"title\":{\"standoff\":15},\"zeroline\":false,\"zerolinecolor\":\"rgb(36,36,36)\"},\"yaxis\":{\"automargin\":true,\"gridcolor\":\"rgb(232,232,232)\",\"linecolor\":\"rgb(36,36,36)\",\"showgrid\":false,\"showline\":true,\"ticks\":\"outside\",\"title\":{\"standoff\":15},\"zeroline\":false,\"zerolinecolor\":\"rgb(36,36,36)\"}}},\"title\":{\"text\":\"Frequency of Type of Orders Received Colored by Average Service Time\"},\"xaxis\":{\"anchor\":\"y\",\"domain\":[0.0,1.0],\"title\":{\"text\":\"Count\"}},\"yaxis\":{\"anchor\":\"x\",\"domain\":[0.0,1.0],\"title\":{\"text\":\"Order Type\"}}},                        {\"responsive\": true}                    ).then(function(){\n",
       "                            \n",
       "var gd = document.getElementById('20154c71-c66c-4346-bc7b-c47a2ab62df0');\n",
       "var x = new MutationObserver(function (mutations, observer) {{\n",
       "        var display = window.getComputedStyle(gd).display;\n",
       "        if (!display || display === 'none') {{\n",
       "            console.log([gd, 'removed!']);\n",
       "            Plotly.purge(gd);\n",
       "            observer.disconnect();\n",
       "        }}\n",
       "}});\n",
       "\n",
       "// Listen for the removal of the full notebook cells\n",
       "var notebookContainer = gd.closest('#notebook-container');\n",
       "if (notebookContainer) {{\n",
       "    x.observe(notebookContainer, {childList: true});\n",
       "}}\n",
       "\n",
       "// Listen for the clearing of the current output cell\n",
       "var outputEl = gd.closest('.output');\n",
       "if (outputEl) {{\n",
       "    x.observe(outputEl, {childList: true});\n",
       "}}\n",
       "\n",
       "                        })                };                });            </script>        </div>"
      ]
     },
     "metadata": {},
     "output_type": "display_data"
    }
   ],
   "source": [
    "srv_time = invoice_cleaned.groupby('order_type')['service_time_hrs'].agg(['count', 'median'])\n",
    "srv_time.reset_index(inplace=True)\n",
    "srv_time = srv_time.iloc[:-2]\n",
    "srv_time['median'] = np.round(srv_time['median'], 2)\n",
    "\n",
    "\n",
    "fig = px.bar(srv_time, \n",
    "             x='count', \n",
    "             y='order_type', \n",
    "             color='median', \n",
    "             orientation='h', \n",
    "             template='simple_white',\n",
    "             labels={\"count\": \"Count\",  \"median\": \"Median Hours\", \"order_type\": \"Order Type\"},\n",
    "             title='Frequency of Type of Orders Received Colored by Average Service Time'\n",
    "            )\n",
    "fig.show()\n",
    "\n",
    "fig.write_html(\"assets/orders-service-time-fig2.html\")"
   ]
  },
  {
   "cell_type": "markdown",
   "id": "a1fd33d9",
   "metadata": {},
   "source": [
    "After the above-mentioned aggregations, the plot reveals that a substantial percentage of our customer population (about 80%) visits our plant for running repairs and paid services. Running repairs often take roughly 6 hours to complete, whereas paid services typically take a day to complete. Accidental repairs take a long time to complete, which might be correlated to the magnitude of the damage or the availability of parts.\n",
    "\n",
    "We can probably reduce the service times by knowing the nature of the visit beforehand and stocking up on the parts accordingly."
   ]
  },
  {
   "cell_type": "markdown",
   "id": "0694d94f",
   "metadata": {},
   "source": [
    "Let's analyze whether location plays a role in the time taken to complete a service."
   ]
  },
  {
   "cell_type": "code",
   "execution_count": 25,
   "id": "80274b36",
   "metadata": {
    "ExecuteTime": {
     "end_time": "2021-11-25T21:29:22.610619Z",
     "start_time": "2021-11-25T21:29:22.559019Z"
    }
   },
   "outputs": [],
   "source": [
    "car_service = (invoice_cleaned\n",
    "               .groupby(['make', 'district_grp'])['service_time_hrs']\n",
    "               .median()\n",
    "               .unstack()\n",
    "               .fillna(0.0)\n",
    ")\n"
   ]
  },
  {
   "cell_type": "code",
   "execution_count": 26,
   "id": "772eb18e",
   "metadata": {
    "ExecuteTime": {
     "end_time": "2021-11-25T21:29:22.613559Z",
     "start_time": "2021-11-25T21:29:22.611299Z"
    }
   },
   "outputs": [],
   "source": [
    "normalized_df = car_service.div(car_service.sum(axis=1), axis=0)"
   ]
  },
  {
   "cell_type": "code",
   "execution_count": 27,
   "id": "5e39ba1a",
   "metadata": {
    "ExecuteTime": {
     "end_time": "2021-11-25T21:29:23.635862Z",
     "start_time": "2021-11-25T21:29:22.617319Z"
    }
   },
   "outputs": [
    {
     "name": "stderr",
     "output_type": "stream",
     "text": [
      "/var/folders/z4/hdvs0wyx3hsgmt7j31w_d2w40000gn/T/ipykernel_9184/872897866.py:6: UserWarning:\n",
      "\n",
      "FixedFormatter should only be used together with FixedLocator\n",
      "\n",
      "/var/folders/z4/hdvs0wyx3hsgmt7j31w_d2w40000gn/T/ipykernel_9184/872897866.py:7: UserWarning:\n",
      "\n",
      "FixedFormatter should only be used together with FixedLocator\n",
      "\n"
     ]
    },
    {
     "data": {
      "image/png": "[encoded data removed]",
      "text/plain": [
       "<Figure size 1584x1224 with 2 Axes>"
      ]
     },
     "metadata": {
      "needs_background": "light"
     },
     "output_type": "display_data"
    }
   ],
   "source": [
    "fig4, ax = plt.subplots(figsize=(22, 17))\n",
    "fig4.subplots_adjust(top=.94)\n",
    "plt.suptitle('Heatmap of Average Service Time by Car Make and State', \n",
    "             fontsize=14, fontweight='bold')\n",
    "\n",
    "ax.set_yticklabels(ax.get_yticklabels(), ha=\"right\", fontsize=12, weight='bold')\n",
    "ax.set_xticklabels(ax.get_xticklabels(), fontsize=12, weight='bold')\n",
    "\n",
    "cbar_kws = {'orientation':\"horizontal\", 'pad':0.05, 'aspect':50}\n",
    "\n",
    "sns.heatmap(car_service, \n",
    "            annot=True, \n",
    "            fmt='.2f', \n",
    "            linewidths=.3, \n",
    "            ax=ax, \n",
    "            cmap='RdPu', \n",
    "            cbar_kws=cbar_kws\n",
    ");\n",
    "ax.set_ylabel('Make', fontsize=16)\n",
    "\n",
    "plt.savefig('assets/service-time-make-state-fig3.jpeg', bbox_inches='tight')"
   ]
  },
  {
   "cell_type": "markdown",
   "id": "699a80c0",
   "metadata": {},
   "source": [
    " Considering Maruti Suzuki, the most frequent car across states, we observe that the average service time in Telangana is relatively high. The second most popular brand - Mahindra & Mahindra, usually takes a day on average to complete the service."
   ]
  },
  {
   "cell_type": "markdown",
   "id": "9c4302b1",
   "metadata": {},
   "source": [
    "It would be interesting to check if there is a seasonal trend in the number of incoming customers."
   ]
  },
  {
   "cell_type": "code",
   "execution_count": 28,
   "id": "91277f9c",
   "metadata": {
    "ExecuteTime": {
     "end_time": "2021-11-25T21:29:23.874602Z",
     "start_time": "2021-11-25T21:29:23.636648Z"
    }
   },
   "outputs": [],
   "source": [
    "season = invoice_cleaned.copy()\n",
    "season['arrive_day'] = season['JobCardDateTime'].dt.day_name()\n",
    "season['arrive_month'] = season['JobCardDateTime'].dt.month_name()\n",
    "season['arrive_hr'] = season['JobCardDateTime'].dt.hour"
   ]
  },
  {
   "cell_type": "code",
   "execution_count": 29,
   "id": "fc14c526",
   "metadata": {
    "ExecuteTime": {
     "end_time": "2021-11-25T21:29:23.876939Z",
     "start_time": "2021-11-25T21:29:23.875270Z"
    }
   },
   "outputs": [],
   "source": [
    "winter = ['December', 'January', 'February']\n",
    "summer = ['March', 'April', 'May']\n",
    "monsoon = ['June', 'July', 'August', 'September']\n",
    "autumn = ['October', 'November']"
   ]
  },
  {
   "cell_type": "code",
   "execution_count": 30,
   "id": "58d49557",
   "metadata": {
    "ExecuteTime": {
     "end_time": "2021-11-25T21:29:23.959359Z",
     "start_time": "2021-11-25T21:29:23.877625Z"
    }
   },
   "outputs": [],
   "source": [
    "season['season'] = np.where(season['arrive_month'].isin(winter), 'Winter', \\\n",
    "                        np.where(season['arrive_month'].isin(summer), 'Summer', \\\n",
    "                             np.where(season['arrive_month'].isin(monsoon), 'Monsoon', 'Autumn')\n",
    "                                )\n",
    "                           )"
   ]
  },
  {
   "cell_type": "code",
   "execution_count": 31,
   "id": "d3fdb284",
   "metadata": {
    "ExecuteTime": {
     "end_time": "2021-11-25T21:29:24.053091Z",
     "start_time": "2021-11-25T21:29:23.959994Z"
    }
   },
   "outputs": [],
   "source": [
    "order_month = (season\n",
    "               .groupby(['order_type'])['arrive_month']\n",
    "               .value_counts()\n",
    "               .unstack()\n",
    "               .fillna(0)\n",
    ")\n",
    "\n",
    "months = ['January', 'February', 'March', 'April', 'May', 'June', \n",
    "          'July', 'August', 'September', 'October', 'November', 'December']\n",
    "\n",
    "order_month.columns = months"
   ]
  },
  {
   "cell_type": "code",
   "execution_count": 32,
   "id": "d6312ce0",
   "metadata": {
    "ExecuteTime": {
     "end_time": "2021-11-25T21:29:24.413636Z",
     "start_time": "2021-11-25T21:29:24.053766Z"
    },
    "scrolled": false
   },
   "outputs": [
    {
     "name": "stderr",
     "output_type": "stream",
     "text": [
      "/var/folders/z4/hdvs0wyx3hsgmt7j31w_d2w40000gn/T/ipykernel_9184/291864458.py:5: UserWarning:\n",
      "\n",
      "FixedFormatter should only be used together with FixedLocator\n",
      "\n",
      "/var/folders/z4/hdvs0wyx3hsgmt7j31w_d2w40000gn/T/ipykernel_9184/291864458.py:6: UserWarning:\n",
      "\n",
      "FixedFormatter should only be used together with FixedLocator\n",
      "\n"
     ]
    },
    {
     "data": {
      "image/png": "[encoded data removed]",
      "text/plain": [
       "<Figure size 1080x1080 with 2 Axes>"
      ]
     },
     "metadata": {
      "needs_background": "light"
     },
     "output_type": "display_data"
    }
   ],
   "source": [
    "fig4, ax = plt.subplots(figsize=(15, 15))\n",
    "fig4.subplots_adjust(top=.94)\n",
    "plt.suptitle('Distribution of Orders by Months', fontsize=14, fontweight='bold')\n",
    "\n",
    "ax.set_yticklabels(ax.get_yticklabels(), ha=\"right\", fontsize=12, weight='bold')\n",
    "ax.set_xticklabels(ax.get_xticklabels(), fontsize=12, weight='bold')\n",
    "\n",
    "cbar_kws = {'orientation':\"horizontal\", 'pad':0.05, 'aspect':50}\n",
    "sns.heatmap(order_month, annot=True, fmt='g', linewidths=.2, ax=ax, cmap='Greens', cbar_kws=cbar_kws);\n",
    "ax.set_ylabel('Orders', fontsize=16)\n",
    "\n",
    "plt.savefig('assets/orders-month-fig4.jpeg', bbox_inches='tight')"
   ]
  },
  {
   "cell_type": "markdown",
   "id": "8cb5d53f",
   "metadata": {},
   "source": [
    "The heatmap above displays the various sorts of orders that have been received over the months. Over the years, we've seen that the majority of mechanical orders occur around January and August. Customers visiting a factory for paid service or running repairs, the two most typical forms of orders, do not follow a seasonal pattern.\n",
    "\n",
    "Since there's no seasonal trend in the orders received, MFCS can stock up their inventory with common parts like oil and air filters for most popular car brands in order to reduce their service times."
   ]
  },
  {
   "cell_type": "markdown",
   "id": "70c5779c",
   "metadata": {},
   "source": [
    "Let's have a look at the customer arrive times over the dataset at a particular day. These arrival times are calculated based on the `JobCardDateTime` column."
   ]
  },
  {
   "cell_type": "code",
   "execution_count": 33,
   "id": "1d2f5f95",
   "metadata": {
    "ExecuteTime": {
     "end_time": "2021-11-25T21:29:25.199656Z",
     "start_time": "2021-11-25T21:29:24.414207Z"
    }
   },
   "outputs": [
    {
     "name": "stderr",
     "output_type": "stream",
     "text": [
      "/var/folders/z4/hdvs0wyx3hsgmt7j31w_d2w40000gn/T/ipykernel_9184/2265261460.py:15: UserWarning:\n",
      "\n",
      "FixedFormatter should only be used together with FixedLocator\n",
      "\n"
     ]
    },
    {
     "data": {
      "image/png": "[encoded data removed]",
      "text/plain": [
       "<Figure size 720x576 with 1 Axes>"
      ]
     },
     "metadata": {
      "needs_background": "light"
     },
     "output_type": "display_data"
    }
   ],
   "source": [
    "N = 23\n",
    "bottom = 2\n",
    "theta = np.linspace(0.0, 2 * np.pi, N, endpoint=False)\n",
    "radii, tick = np.histogram(season.arrive_hr, bins = 23)\n",
    "width = (2*np.pi) / N\n",
    "\n",
    "plt.figure(figsize = (10, 8))\n",
    "ax = plt.subplot(111, polar=True)\n",
    "bars = ax.bar(theta, radii, width=width, bottom=bottom, edgecolor='black');\n",
    "\n",
    "ax.set_theta_zero_location(\"N\")\n",
    "ax.set_theta_direction(-1)\n",
    "\n",
    "ticks = ['12AM', '3AM', '6AM', '9AM', '12PM', '3PM', '6PM', '9PM']\n",
    "ax.set_xticklabels(ticks)\n",
    "\n",
    "plt.title(\"Customer Arrival Times\", fontsize=18);\n",
    "plt.tight_layout();\n",
    "\n",
    "plt.savefig('assets/arrival-times-fig5.jpeg', bbox_inches='tight')"
   ]
  },
  {
   "cell_type": "markdown",
   "id": "ada57967",
   "metadata": {},
   "source": [
    "The majority of consumers arrive between 9 a.m. and 12 p.m. After 12 p.m., there is a downward tendency. This may assist MFCS in organising their labour force so that customers receive prompt help during peak hours."
   ]
  },
  {
   "cell_type": "markdown",
   "id": "50637ad6",
   "metadata": {},
   "source": [
    "## Revenue"
   ]
  },
  {
   "cell_type": "markdown",
   "id": "745b845c",
   "metadata": {},
   "source": [
    "Let's have a look at the revenue generated over the years and it's respective streams. We will also look at Parts-to-Labour ratio which is the ratio of labor sales to parts sold. The parts-to-labor ratio provides insight into how much a company's revenue is derived from services performed and how much depends on selling parts. MFCS managers can use parts-to-labor ratio to make informed decisions on how much to charge for labor and parts."
   ]
  },
  {
   "cell_type": "code",
   "execution_count": 34,
   "id": "e8d398a9",
   "metadata": {
    "ExecuteTime": {
     "end_time": "2021-11-25T21:29:25.210239Z",
     "start_time": "2021-11-25T21:29:25.200639Z"
    }
   },
   "outputs": [],
   "source": [
    "invoice_cleaned['year'] = invoice_cleaned['InvoiceDateTime'].dt.year\n",
    "top_districts = ['Maharashtra', 'Karnataka', 'Telangana', 'Tamil Nadu', 'Uttar Pradesh', 'Rajasthan']"
   ]
  },
  {
   "cell_type": "code",
   "execution_count": 35,
   "id": "725bae21",
   "metadata": {
    "ExecuteTime": {
     "end_time": "2021-11-25T21:29:25.337052Z",
     "start_time": "2021-11-25T21:29:25.210993Z"
    }
   },
   "outputs": [],
   "source": [
    "plot_bump = (\n",
    "            invoice_cleaned.loc[invoice_cleaned.district.isin(top_districts), ['year', 'district', 'total_amt_wtd_tax.']]\n",
    "            .groupby(['year','district'])['total_amt_wtd_tax.']\n",
    "            .sum()\n",
    ")\n",
    "ranks = (plot_bump\n",
    "         .groupby('year')\n",
    "         .rank('first', ascending=False)\n",
    "         .rename('rank')\n",
    "         .reset_index()\n",
    ")\n",
    "\n",
    "plot_bump = pd.merge(plot_bump, ranks, on=['year', 'district'])\n",
    "\n",
    "ordered_districts = plot_bump[plot_bump.year == 2016].sort_values(by='rank')\n"
   ]
  },
  {
   "cell_type": "code",
   "execution_count": 36,
   "id": "14106f10",
   "metadata": {
    "ExecuteTime": {
     "end_time": "2021-11-25T21:29:25.339623Z",
     "start_time": "2021-11-25T21:29:25.337911Z"
    }
   },
   "outputs": [],
   "source": [
    "def human_format(num):\n",
    "    magnitude = 0\n",
    "    while abs(num) >= 1000:\n",
    "        magnitude += 1\n",
    "        num /= 1000.0\n",
    "    return '%.1f%s' % (num, ['', 'K', 'M', 'G', 'T', 'P'][magnitude])"
   ]
  },
  {
   "cell_type": "code",
   "execution_count": 37,
   "id": "a00d9029",
   "metadata": {
    "ExecuteTime": {
     "end_time": "2021-11-25T21:29:25.563638Z",
     "start_time": "2021-11-25T21:29:25.340210Z"
    }
   },
   "outputs": [
    {
     "data": {
      "image/png": "[encoded data removed]",
      "text/plain": [
       "<Figure size 1080x576 with 1 Axes>"
      ]
     },
     "metadata": {
      "needs_background": "light"
     },
     "output_type": "display_data"
    }
   ],
   "source": [
    "fig, ax = plt.subplots(figsize=(15, 8))\n",
    "\n",
    "ax.xaxis.set_major_locator(MultipleLocator(1))\n",
    "ax.yaxis.set_major_locator(MultipleLocator(1))\n",
    "\n",
    "yax2 = ax.secondary_yaxis(\"right\")\n",
    "yax2.yaxis.set_major_locator(FixedLocator(ordered_districts['rank'].to_list()))\n",
    "yax2.yaxis.set_major_formatter(FixedFormatter(ordered_districts['district'].to_list()))\n",
    "\n",
    "for i, j in plot_bump.groupby(\"district\"):\n",
    "    plt.plot('year', 'rank', \"o-\", data=j, mfc=\"w\")\n",
    "    for x, y, z in zip(j['year'], j['rank'], j['total_amt_wtd_tax.']):\n",
    "        plt.annotate(human_format(z),xy=(x-0.1, y-0.1), fontsize=12)\n",
    "\n",
    "ax.invert_yaxis()\n",
    "ax.set_title(\"Bump chart of Revenue\", fontsize=18, x=0.5,y=1.02);\n",
    "ax.set_xlabel('Ratio', fontsize=15);\n",
    "ax.set_ylabel('Rank',fontsize=15);\n",
    "ax.tick_params(axis='both', which='major', labelsize=12)\n",
    "\n",
    "ax.grid(axis=\"x\");\n",
    "plt.tight_layout();\n",
    "\n",
    "plt.savefig('assets/bump-fig6.jpeg', bbox_inches='tight')"
   ]
  },
  {
   "cell_type": "markdown",
   "id": "dc86e25d",
   "metadata": {},
   "source": [
    "The graph above depicts how revenue has evolved over the years. We only look at the top six states (MH, TN, KA, RJ, TL, UP) because they contribute the most to overall revenue.\n",
    "\n",
    "Overall, even though Maharashtra lost first place to Tamil Nadu in 2015, the state's revenue continues to rise. Many rankings shift after 2014, with Uttar Pradesh, which was ranked third in 2014, falling to last place by 2016. Rajasthan's revenue increased dramatically in 2016, owing to the opening of new factories by MFCS the previous year."
   ]
  },
  {
   "cell_type": "markdown",
   "id": "de133dda",
   "metadata": {},
   "source": [
    "Parts-to-labor ratio is equal to parts sales divided by labor sales. For example, if an auto repair shop sells \\$80,000 in parts during a certain month and charges customers \\$100,000 for labor performed during that month, its parts-to-labor ratio for the month is 80,000 divided by 100,000, or 0.8. This means that for every dollar of labor sales that the company makes, it sells 80 cents worth of parts.\n",
    "\n",
    "According to Bob O'Connor of Motor Magazine, a parts-to-labor ratio in the range of 0.8 to 1 is considered normal for the auto repair industry. If the parts-to-labor ratio exceeds 1, it means parts sales account for a greater proportion of total revenue than labor sales, which indicates that a shop is charging too little for labor or too much for parts."
   ]
  },
  {
   "cell_type": "code",
   "execution_count": 38,
   "id": "0a60a411",
   "metadata": {
    "ExecuteTime": {
     "end_time": "2021-11-25T21:29:25.593558Z",
     "start_time": "2021-11-25T21:29:25.564273Z"
    }
   },
   "outputs": [],
   "source": [
    "year_df = invoice_cleaned[['job_card_no', 'make', 'total_amt_wtd_tax.']].drop_duplicates(subset='job_card_no').reset_index(drop=True)"
   ]
  },
  {
   "cell_type": "code",
   "execution_count": 39,
   "id": "5717ee44",
   "metadata": {
    "ExecuteTime": {
     "end_time": "2021-11-25T21:29:26.846727Z",
     "start_time": "2021-11-25T21:29:25.596067Z"
    }
   },
   "outputs": [],
   "source": [
    "ptl_df = pd.merge(year_df, \n",
    "         jtd_df[['DBM Order', 'Description', 'Item Category', 'Order Quantity', 'Net value']],\n",
    "         left_on='job_card_no',\n",
    "         right_on='DBM Order',\n",
    "         how='inner'\n",
    ")\n",
    "\n",
    "ptl_df['charges'] = np.where(ptl_df['Item Category'] == 'P002', ptl_df['Order Quantity'] * ptl_df['Net value'], ptl_df['Net value'])\n",
    "charges = ptl_df[ptl_df['Item Category'].isin(['P001', 'P002'])].groupby(['make', 'Item Category'])['charges'].sum().unstack()\n",
    "charges['ratio'] = charges['P002'] / charges['P001']\n",
    "\n",
    "charges.sort_values('ratio', ascending=True, inplace=True)\n",
    "charges.reset_index(inplace=True)\n",
    "charges = charges.iloc[:-1]"
   ]
  },
  {
   "cell_type": "code",
   "execution_count": 40,
   "id": "3c78099f",
   "metadata": {
    "ExecuteTime": {
     "end_time": "2021-11-25T21:29:27.012525Z",
     "start_time": "2021-11-25T21:29:26.848010Z"
    }
   },
   "outputs": [
    {
     "data": {
      "image/png": "[encoded data removed]",
      "text/plain": [
       "<Figure size 864x576 with 1 Axes>"
      ]
     },
     "metadata": {
      "needs_background": "light"
     },
     "output_type": "display_data"
    }
   ],
   "source": [
    "fig = plt.figure(figsize=(12,8));\n",
    "my_range=range(1,len(charges.index)+1)\n",
    " \n",
    "# The horizontal plot is made using the hline function\n",
    "plt.hlines(y=my_range, xmin=0, xmax=charges['ratio'], color='skyblue', lw=4);\n",
    "plt.plot(charges['ratio'], my_range, \"o\", markersize=10);\n",
    "plt.axvspan(1,.8, facecolor='lightgray');\n",
    "\n",
    " \n",
    "# Add titles and axis names\n",
    "plt.yticks(my_range, charges['make']);\n",
    "plt.title(\"Parts-to-Labour Ratio Vs Car Make\", fontsize=18, x=0.5,y=1.02);\n",
    "plt.xlabel('Ratio', fontsize=15);\n",
    "plt.ylabel('',fontsize=15);\n",
    "plt.yticks(fontsize=12);\n",
    "plt.xticks(fontsize=12);\n",
    "plt.grid();\n",
    "\n",
    "plt.savefig('assets/ratio-make-fig7.jpeg', bbox_inches='tight');"
   ]
  },
  {
   "cell_type": "markdown",
   "id": "22986b26",
   "metadata": {},
   "source": [
    "We can see from the diagram above that MFCS is charging too much for parts and too little for labour on majority of the automobiles. Given that our dataset consists primarily of labor-intensive running repairs and paid services, and that the majority of the automobiles are from the economical group (Maruti Suzuki, Mahindra & Mahindra, and so on), MFCS can strive to balance this ratio in order to maximise their profit margins."
   ]
  },
  {
   "cell_type": "markdown",
   "id": "411a9692",
   "metadata": {},
   "source": [
    "Finally let's have a look at different sources of customers"
   ]
  },
  {
   "cell_type": "code",
   "execution_count": 41,
   "id": "c5e4f67a",
   "metadata": {
    "ExecuteTime": {
     "end_time": "2021-11-25T21:29:27.016821Z",
     "start_time": "2021-11-25T21:29:27.013381Z"
    }
   },
   "outputs": [],
   "source": [
    "cust_origin = field_info.iloc[:23, 3:5]\n",
    "\n",
    "cust_origin.columns = list(cust_origin.iloc[0])\n",
    "cust_origin = cust_origin.iloc[1:].reset_index(drop=True)\n",
    "cust_origin.loc[4, 'Origin'] = 'Z005'"
   ]
  },
  {
   "cell_type": "code",
   "execution_count": 42,
   "id": "0f0fe864",
   "metadata": {
    "ExecuteTime": {
     "end_time": "2021-11-25T21:29:27.060303Z",
     "start_time": "2021-11-25T21:29:27.017705Z"
    }
   },
   "outputs": [
    {
     "data": {
      "text/html": [
       "<div>\n",
       "<style scoped>\n",
       "    .dataframe tbody tr th:only-of-type {\n",
       "        vertical-align: middle;\n",
       "    }\n",
       "\n",
       "    .dataframe tbody tr th {\n",
       "        vertical-align: top;\n",
       "    }\n",
       "\n",
       "    .dataframe thead th {\n",
       "        text-align: right;\n",
       "    }\n",
       "</style>\n",
       "<table border=\"1\" class=\"dataframe\">\n",
       "  <thead>\n",
       "    <tr style=\"text-align: right;\">\n",
       "      <th></th>\n",
       "      <th>Business Partner</th>\n",
       "      <th>Customer No.</th>\n",
       "      <th>Partner Type</th>\n",
       "      <th>Data Origin</th>\n",
       "      <th>Origin Text</th>\n",
       "      <th>Title</th>\n",
       "      <th>Marital Status</th>\n",
       "      <th>Occupation</th>\n",
       "      <th>Date of Birth</th>\n",
       "      <th>Death date</th>\n",
       "    </tr>\n",
       "  </thead>\n",
       "  <tbody>\n",
       "    <tr>\n",
       "      <th>0</th>\n",
       "      <td>31</td>\n",
       "      <td>1</td>\n",
       "      <td>1.0</td>\n",
       "      <td>Z001</td>\n",
       "      <td>Camp - Outdoor</td>\n",
       "      <td>NaN</td>\n",
       "      <td>NaN</td>\n",
       "      <td>NaN</td>\n",
       "      <td>NaN</td>\n",
       "      <td>NaT</td>\n",
       "    </tr>\n",
       "    <tr>\n",
       "      <th>1</th>\n",
       "      <td>32</td>\n",
       "      <td>2</td>\n",
       "      <td>1.0</td>\n",
       "      <td>Z005</td>\n",
       "      <td>Ref - Customer</td>\n",
       "      <td>NaN</td>\n",
       "      <td>NaN</td>\n",
       "      <td>NaN</td>\n",
       "      <td>NaN</td>\n",
       "      <td>NaT</td>\n",
       "    </tr>\n",
       "    <tr>\n",
       "      <th>2</th>\n",
       "      <td>34</td>\n",
       "      <td>4</td>\n",
       "      <td>1.0</td>\n",
       "      <td>Z005</td>\n",
       "      <td>Ref - Customer</td>\n",
       "      <td>NaN</td>\n",
       "      <td>2.0</td>\n",
       "      <td>NaN</td>\n",
       "      <td>NaN</td>\n",
       "      <td>NaT</td>\n",
       "    </tr>\n",
       "  </tbody>\n",
       "</table>\n",
       "</div>"
      ],
      "text/plain": [
       "  Business Partner Customer No.  Partner Type Data Origin     Origin Text  \\\n",
       "0               31            1           1.0        Z001  Camp - Outdoor   \n",
       "1               32            2           1.0        Z005  Ref - Customer   \n",
       "2               34            4           1.0        Z005  Ref - Customer   \n",
       "\n",
       "   Title  Marital Status  Occupation Date of Birth Death date  \n",
       "0    NaN             NaN         NaN           NaN        NaT  \n",
       "1    NaN             NaN         NaN           NaN        NaT  \n",
       "2    NaN             2.0         NaN           NaN        NaT  "
      ]
     },
     "execution_count": 42,
     "metadata": {},
     "output_type": "execute_result"
    }
   ],
   "source": [
    "cust_origin_dict = dict(zip(cust_origin.Origin, cust_origin.Description))\n",
    "cust_df.insert(4, 'Origin Text',cust_df['Data Origin'].map(cust_origin_dict))\n",
    "cust_df.head(3)"
   ]
  },
  {
   "cell_type": "code",
   "execution_count": 43,
   "id": "0715ff27",
   "metadata": {
    "ExecuteTime": {
     "end_time": "2021-11-25T21:29:27.370318Z",
     "start_time": "2021-11-25T21:29:27.061242Z"
    }
   },
   "outputs": [
    {
     "data": {
      "image/png": "[encoded data removed]",
      "text/plain": [
       "<Figure size 864x576 with 1 Axes>"
      ]
     },
     "metadata": {
      "needs_background": "light"
     },
     "output_type": "display_data"
    }
   ],
   "source": [
    "plt.figure(figsize=(12,8))\n",
    "sns.countplot(y=cust_df['Origin Text'])\n",
    "plt.title(\"Source of Customers\", fontsize=18, x=0.5,y=1.02);\n",
    "plt.xlabel('Source', fontsize=15);\n",
    "plt.ylabel('')\n",
    "plt.yticks(fontsize=12);\n",
    "plt.xticks(fontsize=12);\n",
    "\n",
    "plt.savefig('assets/origin-customer-fig8.jpeg', bbox_inches='tight')"
   ]
  },
  {
   "cell_type": "markdown",
   "id": "c3b04a1a",
   "metadata": {},
   "source": [
    "The origin of MFCS's client population can be seen in this graph. As can be observed, referrals account for about half of the total clients. The remaining 50% of clients come via marketing techniques such as hosting camps/workshops or placing ads in newspapers, television, and other media.\n",
    "\n",
    "Knowing this, MFCS can improve its profit margins by enhancing its referral policies, lowering advertising expenditures in the process."
   ]
  }
 ],
 "metadata": {
  "kernelspec": {
   "display_name": "Python 3.9.7 64-bit ('base': conda)",
   "language": "python",
   "name": "python397jvsc74a57bd0c6e4e9f98eb68ad3b7c296f83d20e6de614cb42e90992a65aa266555a3137d0d"
  },
  "language_info": {
   "codemirror_mode": {
    "name": "ipython",
    "version": 3
   },
   "file_extension": ".py",
   "mimetype": "text/x-python",
   "name": "python",
   "nbconvert_exporter": "python",
   "pygments_lexer": "ipython3",
   "version": "3.9.7"
  }
 },
 "nbformat": 4,
 "nbformat_minor": 5
}
